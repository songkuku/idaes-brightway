{
 "metadata": {
  "language_info": {
   "codemirror_mode": {
    "name": "ipython",
    "version": 3
   },
   "file_extension": ".py",
   "mimetype": "text/x-python",
   "name": "python",
   "nbconvert_exporter": "python",
   "pygments_lexer": "ipython3",
   "version": "3.9.1"
  },
  "orig_nbformat": 2,
  "kernelspec": {
   "name": "python391jvsc74a57bd02deb736a3f000e511c4ace1035ab65a2b694189bdd02e528e7fb5392441b13e5",
   "display_name": "Python 3.9.1 64-bit ('base': conda)"
  }
 },
 "nbformat": 4,
 "nbformat_minor": 2,
 "cells": [
  {
   "cell_type": "code",
   "execution_count": 1,
   "metadata": {},
   "outputs": [],
   "source": [
    "from pyomo.environ import ( Constraint,\n",
    "                            Var,\n",
    "                            ConcreteModel,\n",
    "                            Expression,\n",
    "                            Objective,\n",
    "                            SolverFactory,\n",
    "                            TransformationFactory,\n",
    "                            value)\n",
    "from idaes.core import FlowsheetBlock\n",
    "from pyomo.network import Arc, SequentialDecomposition\n",
    "import idaes.logger as idaeslog\n",
    "import matplotlib.pyplot as plt"
   ]
  },
  {
   "cell_type": "code",
   "execution_count": 2,
   "metadata": {},
   "outputs": [],
   "source": [
    "m = ConcreteModel()\n",
    "m.fs = FlowsheetBlock(default = {\"dynamic\": False})"
   ]
  },
  {
   "cell_type": "code",
   "execution_count": 3,
   "metadata": {},
   "outputs": [],
   "source": [
    "from idaes.generic_models.unit_models import Flash"
   ]
  },
  {
   "cell_type": "code",
   "execution_count": 4,
   "metadata": {},
   "outputs": [],
   "source": [
    "from idaes.generic_models.unit_models.pressure_changer import ThermodynamicAssumption"
   ]
  },
  {
   "cell_type": "code",
   "execution_count": 5,
   "metadata": {},
   "outputs": [],
   "source": [
    "import test_etoh_prop_pkg_works as thermo_props"
   ]
  },
  {
   "cell_type": "code",
   "execution_count": 6,
   "metadata": {},
   "outputs": [],
   "source": [
    "m.fs.thermo_paras = thermo_props.ETOHParameterBlock()"
   ]
  },
  {
   "cell_type": "code",
   "execution_count": 7,
   "metadata": {},
   "outputs": [],
   "source": [
    "m.fs.flash = Flash(default= {\"property_package\": m.fs.thermo_paras})"
   ]
  },
  {
   "cell_type": "code",
   "execution_count": 8,
   "metadata": {},
   "outputs": [
    {
     "output_type": "stream",
     "name": "stdout",
     "text": [
      "DOF =  10\n"
     ]
    }
   ],
   "source": [
    "from idaes.core.util.model_statistics import degrees_of_freedom\n",
    "print(\"DOF = \", degrees_of_freedom(m))"
   ]
  },
  {
   "cell_type": "code",
   "execution_count": 9,
   "metadata": {},
   "outputs": [],
   "source": [
    "m.fs.flash.inlet.flow_mol_phase_comp[0, \"Vap\", \"ethanol\"].fix(1e-5)\n",
    "m.fs.flash.inlet.flow_mol_phase_comp[0, \"Vap\", \"water\"].fix(1e-5)\n",
    "m.fs.flash.inlet.flow_mol_phase_comp[0, \"Vap\", \"CO2\"].fix(0.04)\n",
    "m.fs.flash.inlet.flow_mol_phase_comp[0, \"Liq\", \"ethanol\"].fix(0.04)\n",
    "m.fs.flash.inlet.flow_mol_phase_comp[0, \"Liq\", \"water\"].fix(0.92)\n",
    "m.fs.flash.inlet.flow_mol_phase_comp[0, \"Liq\", \"CO2\"].fix(1e-5)\n",
    "\n",
    "m.fs.flash.inlet.temperature.fix(305)\n",
    "m.fs.flash.inlet.pressure.fix(101325)\n",
    "\n",
    "m.fs.flash.heat_duty.fix(0)\n",
    "m.fs.flash.deltaP.fix(0)"
   ]
  },
  {
   "cell_type": "code",
   "execution_count": 10,
   "metadata": {},
   "outputs": [
    {
     "output_type": "stream",
     "name": "stdout",
     "text": [
      "DOF =  0\n"
     ]
    }
   ],
   "source": [
    "print(\"DOF = \", degrees_of_freedom(m))"
   ]
  },
  {
   "cell_type": "code",
   "execution_count": 11,
   "metadata": {},
   "outputs": [
    {
     "output_type": "stream",
     "name": "stdout",
     "text": [
      "2021-05-04 11:43:20 [INFO] idaes.init.fs.flash.control_volume: Initialization Complete\n",
      "2021-05-04 11:43:20 [INFO] idaes.init.fs.flash: Initialization Complete: optimal - Optimal Solution Found\n"
     ]
    }
   ],
   "source": [
    "m.fs.flash.initialize(outlvl=idaeslog.INFO)"
   ]
  },
  {
   "cell_type": "code",
   "execution_count": 12,
   "metadata": {},
   "outputs": [
    {
     "output_type": "stream",
     "name": "stdout",
     "text": [
      "Ipopt 3.13.2: \n",
      "\n",
      "******************************************************************************\n",
      "This program contains Ipopt, a library for large-scale nonlinear optimization.\n",
      " Ipopt is released as open source code under the Eclipse Public License (EPL).\n",
      "         For more information visit http://projects.coin-or.org/Ipopt\n",
      "\n",
      "This version of Ipopt was compiled from source code available at\n",
      "    https://github.com/IDAES/Ipopt as part of the Institute for the Design of\n",
      "    Advanced Energy Systems Process Systems Engineering Framework (IDAES PSE\n",
      "    Framework) Copyright (c) 2018-2019. See https://github.com/IDAES/idaes-pse.\n",
      "\n",
      "This version of Ipopt was compiled using HSL, a collection of Fortran codes\n",
      "    for large-scale scientific computation.  All technical papers, sales and\n",
      "    publicity material resulting from use of the HSL codes within IPOPT must\n",
      "    contain the following acknowledgement:\n",
      "        HSL, a collection of Fortran codes for large-scale scientific\n",
      "        computation. See http://www.hsl.rl.ac.uk.\n",
      "******************************************************************************\n",
      "\n",
      "This is Ipopt version 3.13.2, running with linear solver ma27.\n",
      "\n",
      "Number of nonzeros in equality constraint Jacobian...:      101\n",
      "Number of nonzeros in inequality constraint Jacobian.:        0\n",
      "Number of nonzeros in Lagrangian Hessian.............:       74\n",
      "\n",
      "Total number of variables............................:       33\n",
      "                     variables with only lower bounds:        0\n",
      "                variables with lower and upper bounds:        8\n",
      "                     variables with only upper bounds:        0\n",
      "Total number of equality constraints.................:       33\n",
      "Total number of inequality constraints...............:        0\n",
      "        inequality constraints with only lower bounds:        0\n",
      "   inequality constraints with lower and upper bounds:        0\n",
      "        inequality constraints with only upper bounds:        0\n",
      "\n",
      "iter    objective    inf_pr   inf_du lg(mu)  ||d||  lg(rg) alpha_du alpha_pr  ls\n",
      "   0  0.0000000e+00 1.82e+04 0.00e+00  -1.0 0.00e+00    -  0.00e+00 0.00e+00   0\n",
      "   1  0.0000000e+00 1.42e+03 1.38e+01  -1.0 7.99e+05    -  8.98e-01 7.19e-01h  1\n",
      "   2  0.0000000e+00 1.21e+03 1.58e+01  -1.0 5.84e+05    -  9.89e-01 9.82e-01h  1\n",
      "   3  0.0000000e+00 1.19e+01 2.57e-01  -1.0 5.60e+02    -  9.90e-01 9.90e-01h  1\n",
      "   4  0.0000000e+00 7.39e-06 1.18e-01  -1.0 7.16e+00    -  1.00e+00 1.00e+00h  1\n",
      "\n",
      "Number of Iterations....: 4\n",
      "\n",
      "                                   (scaled)                 (unscaled)\n",
      "Objective...............:   0.0000000000000000e+00    0.0000000000000000e+00\n",
      "Dual infeasibility......:   0.0000000000000000e+00    0.0000000000000000e+00\n",
      "Constraint violation....:   2.9334304214433666e-09    7.3909759521484383e-06\n",
      "Complementarity.........:   0.0000000000000000e+00    0.0000000000000000e+00\n",
      "Overall NLP error.......:   2.9334304214433666e-09    7.3909759521484383e-06\n",
      "\n",
      "\n",
      "Number of objective function evaluations             = 5\n",
      "Number of objective gradient evaluations             = 5\n",
      "Number of equality constraint evaluations            = 5\n",
      "Number of inequality constraint evaluations          = 0\n",
      "Number of equality constraint Jacobian evaluations   = 5\n",
      "Number of inequality constraint Jacobian evaluations = 0\n",
      "Number of Lagrangian Hessian evaluations             = 4\n",
      "Total CPU secs in IPOPT (w/o function evaluations)   =      0.003\n",
      "Total CPU secs in NLP function evaluations           =      0.000\n",
      "\n",
      "EXIT: Optimal Solution Found.\n"
     ]
    }
   ],
   "source": [
    "solver = SolverFactory('ipopt')\n",
    "\n",
    "status = solver.solve(m, tee=True)"
   ]
  },
  {
   "source": [
    "print('Pressure = ', value(m.fs.flash.vap_outlet.pressure[0]))\n",
    "\n",
    "print()\n",
    "print('Output from display:')\n",
    "m.fs.flash.vap_outlet.display()\n",
    "m.fs.flash.liq_outlet.display()"
   ],
   "cell_type": "markdown",
   "metadata": {}
  },
  {
   "cell_type": "code",
   "execution_count": 13,
   "metadata": {},
   "outputs": [
    {
     "output_type": "stream",
     "name": "stdout",
     "text": [
      "\n====================================================================================\nUnit : fs.flash                                                            Time: 0.0\n------------------------------------------------------------------------------------\n    Unit Performance\n\n    Variables: \n\n    Key             : Value  : Fixed : Bounds\n          Heat Duty : 0.0000 :  True : (None, None)\n    Pressure Change : 0.0000 :  True : (None, None)\n\n------------------------------------------------------------------------------------\n    Stream Table\n                                              Inlet    Vapor Outlet  Liquid Outlet\n    flow_mol_phase_comp ('Liq', 'ethanol')   0.040000   1.0000e-08      0.039812  \n    flow_mol_phase_comp ('Liq', 'water')      0.92000   1.0000e-08       0.91816  \n    flow_mol_phase_comp ('Liq', 'CO2')     1.0000e-05   1.0000e-08    9.5797e-07  \n    flow_mol_phase_comp ('Vap', 'ethanol') 1.0000e-05   0.00019773    1.0000e-08  \n    flow_mol_phase_comp ('Vap', 'water')   1.0000e-05    0.0018547    1.0000e-08  \n    flow_mol_phase_comp ('Vap', 'CO2')       0.040000     0.040009    1.0000e-08  \n    temperature                                305.00       304.79        304.79  \n    pressure                               1.0132e+05   1.0132e+05    1.0132e+05  \n====================================================================================\n"
     ]
    }
   ],
   "source": [
    "m.fs.flash.report()\n",
    "\n"
   ]
  },
  {
   "source": [
    "## Adding the second flash"
   ],
   "cell_type": "markdown",
   "metadata": {}
  },
  {
   "cell_type": "code",
   "execution_count": 14,
   "metadata": {},
   "outputs": [],
   "source": [
    "m.fs.flash2 = Flash(default= {\"property_package\": m.fs.thermo_paras,\n",
    "                                \"has_heat_transfer\": True})"
   ]
  },
  {
   "cell_type": "code",
   "execution_count": 15,
   "metadata": {},
   "outputs": [],
   "source": [
    "m.fs.s01 = Arc(source=m.fs.flash.liq_outlet, destination = m.fs.flash2.inlet)"
   ]
  },
  {
   "cell_type": "code",
   "execution_count": 16,
   "metadata": {},
   "outputs": [],
   "source": [
    "TransformationFactory(\"network.expand_arcs\").apply_to(m)"
   ]
  },
  {
   "cell_type": "code",
   "execution_count": 17,
   "metadata": {},
   "outputs": [],
   "source": [
    "m.fs.flash2.heat_duty.fix(10000)\n",
    "m.fs.flash2.deltaP.fix(0)"
   ]
  },
  {
   "cell_type": "code",
   "execution_count": 18,
   "metadata": {},
   "outputs": [
    {
     "output_type": "stream",
     "name": "stdout",
     "text": [
      "DOF =  0\n"
     ]
    }
   ],
   "source": [
    "print(\"DOF = \", degrees_of_freedom(m))"
   ]
  },
  {
   "cell_type": "code",
   "execution_count": 19,
   "metadata": {},
   "outputs": [
    {
     "output_type": "stream",
     "name": "stdout",
     "text": [
      "2021-04-21 16:54:44 [INFO] idaes.init.fs.flash2.control_volume: Initialization Complete\n",
      "2021-04-21 16:54:44 [INFO] idaes.init.fs.flash2: Initialization Complete: optimal - Optimal Solution Found\n"
     ]
    }
   ],
   "source": [
    "m.fs.flash2.initialize(outlvl=idaeslog.INFO)"
   ]
  },
  {
   "cell_type": "code",
   "execution_count": 20,
   "metadata": {},
   "outputs": [
    {
     "output_type": "stream",
     "name": "stdout",
     "text": [
      "Ipopt 3.13.2: \n",
      "\n",
      "******************************************************************************\n",
      "This program contains Ipopt, a library for large-scale nonlinear optimization.\n",
      " Ipopt is released as open source code under the Eclipse Public License (EPL).\n",
      "         For more information visit http://projects.coin-or.org/Ipopt\n",
      "\n",
      "This version of Ipopt was compiled from source code available at\n",
      "    https://github.com/IDAES/Ipopt as part of the Institute for the Design of\n",
      "    Advanced Energy Systems Process Systems Engineering Framework (IDAES PSE\n",
      "    Framework) Copyright (c) 2018-2019. See https://github.com/IDAES/idaes-pse.\n",
      "\n",
      "This version of Ipopt was compiled using HSL, a collection of Fortran codes\n",
      "    for large-scale scientific computation.  All technical papers, sales and\n",
      "    publicity material resulting from use of the HSL codes within IPOPT must\n",
      "    contain the following acknowledgement:\n",
      "        HSL, a collection of Fortran codes for large-scale scientific\n",
      "        computation. See http://www.hsl.rl.ac.uk.\n",
      "******************************************************************************\n",
      "\n",
      "This is Ipopt version 3.13.2, running with linear solver ma27.\n",
      "\n",
      "Number of nonzeros in equality constraint Jacobian...:      240\n",
      "Number of nonzeros in inequality constraint Jacobian.:        0\n",
      "Number of nonzeros in Lagrangian Hessian.............:      185\n",
      "\n",
      "Total number of variables............................:       74\n",
      "                     variables with only lower bounds:        0\n",
      "                variables with lower and upper bounds:       24\n",
      "                     variables with only upper bounds:        0\n",
      "Total number of equality constraints.................:       74\n",
      "Total number of inequality constraints...............:        0\n",
      "        inequality constraints with only lower bounds:        0\n",
      "   inequality constraints with lower and upper bounds:        0\n",
      "        inequality constraints with only upper bounds:        0\n",
      "\n",
      "iter    objective    inf_pr   inf_du lg(mu)  ||d||  lg(rg) alpha_du alpha_pr  ls\n",
      "   0  0.0000000e+00 6.44e+05 0.00e+00  -1.0 0.00e+00    -  0.00e+00 0.00e+00   0\n",
      "   1  0.0000000e+00 2.68e+05 3.65e+02  -1.0 9.51e+06    -  2.51e-01 6.51e-01h  1\n",
      "   2  0.0000000e+00 1.20e+05 1.97e+02  -1.0 4.50e+06    -  9.07e-01 6.05e-01h  1\n",
      "   3  0.0000000e+00 3.66e+04 2.72e+03  -1.0 3.65e+06    -  9.90e-01 9.12e-01h  1\n",
      "   4  0.0000000e+00 5.21e+04 2.58e+05  -1.0 1.98e+07    -  8.16e-01 1.27e-01h  3\n",
      "   5  0.0000000e+00 7.37e+04 6.76e+03  -1.0 2.30e+07    -  5.31e-01 1.34e-01h  3\n",
      "   6  0.0000000e+00 7.87e+04 2.04e+05  -1.0 2.68e+07    -  9.96e-01 7.09e-02h  4\n",
      "   7  0.0000000e+00 8.54e+04 1.92e+04  -1.0 2.90e+07    -  8.77e-01 7.36e-02h  4\n",
      "   8  0.0000000e+00 9.43e+04 1.62e+05  -1.0 3.13e+07    -  1.00e+00 7.68e-02h  4\n",
      "   9  0.0000000e+00 1.06e+05 6.25e+03  -1.0 3.40e+07    -  1.00e+00 8.09e-02h  4\n",
      "iter    objective    inf_pr   inf_du lg(mu)  ||d||  lg(rg) alpha_du alpha_pr  ls\n",
      "  10  0.0000000e+00 1.08e+05 1.14e+05  -1.0 3.69e+07    -  1.00e+00 4.31e-02h  5\n",
      "  11  0.0000000e+00 1.10e+05 3.14e+04  -1.0 3.84e+07    -  1.00e+00 4.48e-02h  5\n",
      "  12  0.0000000e+00 1.13e+05 7.77e+04  -1.0 4.01e+07    -  1.00e+00 4.67e-02h  5\n",
      "  13  0.0000000e+00 1.17e+05 4.67e+04  -1.0 4.18e+07    -  1.00e+00 4.91e-02h  5\n",
      "  14  0.0000000e+00 3.43e+06 6.48e+04  -1.0 4.37e+07    -  1.00e+00 8.31e-01w  1\n",
      "  15  0.0000000e+00 2.67e+07 2.12e+06  -1.0 1.20e+08    -  1.93e-02 9.90e-01w  1\n",
      "  16  0.0000000e+00 1.25e+08 3.59e+06  -1.0 2.62e+07    -  2.29e-01 6.85e-01w  1\n",
      "  17  0.0000000e+00 1.17e+05 6.03e+04  -1.0 1.10e+07    -  1.00e+00 2.60e-02h  5\n",
      "  18  0.0000000e+00 1.17e+05 5.14e+04  -1.0 4.47e+07    -  1.00e+00 2.68e-02h  6\n",
      "  19  0.0000000e+00 1.17e+05 5.35e+04  -1.0 4.57e+07    -  1.00e+00 2.78e-02h  6\n",
      "iter    objective    inf_pr   inf_du lg(mu)  ||d||  lg(rg) alpha_du alpha_pr  ls\n",
      "  20  0.0000000e+00 1.18e+05 5.03e+04  -1.0 4.68e+07    -  1.00e+00 2.88e-02h  6\n",
      "  21  0.0000000e+00 1.18e+05 4.95e+04  -1.0 4.79e+07    -  1.00e+00 3.01e-02h  6\n",
      "  22  0.0000000e+00 1.20e+05 4.77e+04  -1.0 4.90e+07    -  1.00e+00 3.09e-02h  6\n",
      "  23  0.0000000e+00 1.21e+05 4.64e+04  -1.0 5.02e+07    -  1.00e+00 3.09e-02h  6\n",
      "  24  0.0000000e+00 1.22e+05 4.49e+04  -1.0 5.13e+07    -  1.00e+00 3.09e-02h  6\n",
      "  25  0.0000000e+00 1.23e+05 4.35e+04  -1.0 5.25e+07    -  1.00e+00 3.09e-02h  6\n",
      "  26  0.0000000e+00 1.25e+05 4.22e+04  -1.0 5.36e+07    -  1.00e+00 3.09e-02h  6\n",
      "  27  0.0000000e+00 6.59e+06 1.44e+04  -1.0 5.47e+07    -  1.00e+00 9.90e-01w  1\n",
      "  28  0.0000000e+00 5.75e+06 3.35e+04  -1.0 7.78e+07    -  3.48e-01 9.90e-01w  1\n",
      "  29  0.0000000e+00 8.36e+07 1.63e+06  -1.0 2.72e+08    -  9.34e-03 2.32e-02w  1\n",
      "iter    objective    inf_pr   inf_du lg(mu)  ||d||  lg(rg) alpha_du alpha_pr  ls\n",
      "  30  0.0000000e+00 1.26e+05 4.09e+04  -1.0 1.91e+07    -  1.00e+00 3.09e-02h  5\n",
      "  31  0.0000000e+00 1.26e+05 4.03e+04  -1.0 5.58e+07    -  1.00e+00 1.55e-02h  7\n",
      "  32  0.0000000e+00 1.25e+05 3.97e+04  -1.0 5.63e+07    -  1.00e+00 1.55e-02h  7\n",
      "  33  0.0000000e+00 1.25e+05 3.91e+04  -1.0 5.69e+07    -  1.00e+00 1.55e-02h  7\n",
      "  34  0.0000000e+00 1.24e+05 3.85e+04  -1.0 5.74e+07    -  1.00e+00 1.55e-02h  7\n",
      "  35  0.0000000e+00 1.24e+05 3.79e+04  -1.0 5.79e+07    -  1.00e+00 1.55e-02h  7\n",
      "  36  0.0000000e+00 1.23e+05 3.73e+04  -1.0 5.83e+07    -  1.00e+00 1.55e-02h  7\n",
      "  37  0.0000000e+00 1.23e+05 3.67e+04  -1.0 5.88e+07    -  1.00e+00 1.55e-02h  7\n",
      "  38  0.0000000e+00 1.22e+05 3.62e+04  -1.0 5.93e+07    -  1.00e+00 1.55e-02h  7\n",
      "  39  0.0000000e+00 1.22e+05 3.56e+04  -1.0 5.97e+07    -  1.00e+00 1.55e-02h  7\n",
      "iter    objective    inf_pr   inf_du lg(mu)  ||d||  lg(rg) alpha_du alpha_pr  ls\n",
      "  40  0.0000000e+00 7.18e+06 2.20e+04  -1.0 6.02e+07    -  1.00e+00 9.90e-01w  1\n",
      "  41  0.0000000e+00 1.87e+06 1.31e+04  -1.0 5.47e+07    -  8.42e-01 9.90e-01w  1\n",
      "  42  0.0000000e+00 6.83e+07 1.12e+05  -1.0 2.59e+08    -  1.01e-02 2.30e-02w  1\n",
      "  43  0.0000000e+00 1.21e+05 3.52e+04  -1.0 1.13e+07    -  1.00e+00 1.55e-02h  6\n",
      "  44  0.0000000e+00 1.21e+05 3.63e+04  -1.0 6.06e+07    -  1.00e+00 1.55e-02h  7\n",
      "  45  0.0000000e+00 1.21e+05 3.73e+04  -1.0 6.10e+07    -  1.00e+00 1.55e-02h  7\n",
      "  46  0.0000000e+00 1.20e+05 3.82e+04  -1.0 6.14e+07    -  1.00e+00 1.55e-02h  7\n",
      "  47  0.0000000e+00 1.20e+05 3.92e+04  -1.0 6.18e+07    -  1.00e+00 1.55e-02h  7\n",
      "  48  0.0000000e+00 1.20e+05 4.01e+04  -1.0 6.22e+07    -  1.00e+00 1.55e-02h  7\n",
      "  49  0.0000000e+00 1.19e+05 4.09e+04  -1.0 6.26e+07    -  1.00e+00 1.55e-02h  7\n",
      "iter    objective    inf_pr   inf_du lg(mu)  ||d||  lg(rg) alpha_du alpha_pr  ls\n",
      "  50  0.0000000e+00 1.19e+05 4.17e+04  -1.0 6.29e+07    -  1.00e+00 1.55e-02h  7\n",
      "  51  0.0000000e+00 1.19e+05 4.25e+04  -1.0 6.32e+07    -  1.00e+00 1.55e-02h  7\n",
      "  52  0.0000000e+00 1.18e+05 4.32e+04  -1.0 6.35e+07    -  1.00e+00 1.55e-02h  7\n",
      "  53  0.0000000e+00 7.33e+06 1.21e+04  -1.0 6.38e+07    -  1.00e+00 9.90e-01w  1\n",
      "  54  0.0000000e+00 4.90e+05 7.73e+03  -1.0 3.65e+07    -  1.00e+00 9.90e-01w  1\n",
      "  55  0.0000000e+00 6.12e+07 6.34e+05  -1.0 2.56e+08    -  1.05e-02 2.24e-02w  1\n",
      "  56  0.0000000e+00 1.18e+05 4.40e+04  -1.0 6.53e+06    -  1.00e+00 1.55e-02h  6\n",
      "  57  0.0000000e+00 1.18e+05 4.46e+04  -1.0 6.41e+07    -  1.00e+00 1.55e-02h  7\n",
      "  58  0.0000000e+00 1.17e+05 4.53e+04  -1.0 6.43e+07    -  1.00e+00 1.55e-02h  7\n",
      "  59  0.0000000e+00 1.17e+05 4.59e+04  -1.0 6.46e+07    -  1.00e+00 1.55e-02h  7\n",
      "iter    objective    inf_pr   inf_du lg(mu)  ||d||  lg(rg) alpha_du alpha_pr  ls\n",
      "  60  0.0000000e+00 1.17e+05 4.64e+04  -1.0 6.48e+07    -  1.00e+00 1.55e-02h  7\n",
      "  61  0.0000000e+00 1.17e+05 4.69e+04  -1.0 6.50e+07    -  1.00e+00 1.55e-02h  7\n",
      "  62  0.0000000e+00 1.16e+05 4.74e+04  -1.0 6.52e+07    -  1.00e+00 1.55e-02h  7\n",
      "  63  0.0000000e+00 1.16e+05 4.79e+04  -1.0 6.53e+07    -  1.00e+00 1.55e-02h  7\n",
      "  64  0.0000000e+00 1.16e+05 4.83e+04  -1.0 6.54e+07    -  1.00e+00 1.55e-02h  7\n",
      "  65  0.0000000e+00 1.15e+05 4.87e+04  -1.0 6.55e+07    -  1.00e+00 1.55e-02h  7\n",
      "  66  0.0000000e+00 7.05e+06 6.26e+03  -1.0 6.56e+07    -  1.00e+00 9.90e-01w  1\n",
      "  67  0.0000000e+00 9.16e+04 6.20e+03  -1.0 2.15e+07    -  1.00e+00 9.91e-01h  1\n",
      "  68  0.0000000e+00 1.12e+05 1.35e+04  -1.0 2.58e+08    -  1.07e-02 3.40e-04h  7\n",
      "  69  0.0000000e+00 9.03e+02 5.41e+03  -1.0 3.38e+06    -  1.00e+00 1.00e+00h  1\n",
      "iter    objective    inf_pr   inf_du lg(mu)  ||d||  lg(rg) alpha_du alpha_pr  ls\n",
      "  70  0.0000000e+00 1.87e-01 6.63e+00  -1.0 1.85e+04    -  1.00e+00 1.00e+00h  1\n",
      "  71  0.0000000e+00 3.73e-08 7.19e-05  -5.7 9.44e-01    -  1.00e+00 1.00e+00h  1\n",
      "\n",
      "Number of Iterations....: 71\n",
      "\n",
      "                                   (scaled)                 (unscaled)\n",
      "Objective...............:   0.0000000000000000e+00    0.0000000000000000e+00\n",
      "Dual infeasibility......:   0.0000000000000000e+00    0.0000000000000000e+00\n",
      "Constraint violation....:   4.9428210071224682e-11    3.7252902984619141e-08\n",
      "Complementarity.........:   0.0000000000000000e+00    0.0000000000000000e+00\n",
      "Overall NLP error.......:   4.9428210071224682e-11    3.7252902984619141e-08\n",
      "\n",
      "\n",
      "Number of objective function evaluations             = 387\n",
      "Number of objective gradient evaluations             = 72\n",
      "Number of equality constraint evaluations            = 387\n",
      "Number of inequality constraint evaluations          = 0\n",
      "Number of equality constraint Jacobian evaluations   = 72\n",
      "Number of inequality constraint Jacobian evaluations = 0\n",
      "Number of Lagrangian Hessian evaluations             = 71\n",
      "Total CPU secs in IPOPT (w/o function evaluations)   =      0.072\n",
      "Total CPU secs in NLP function evaluations           =      0.004\n",
      "\n",
      "EXIT: Optimal Solution Found.\n"
     ]
    }
   ],
   "source": [
    "solver = SolverFactory('ipopt')\n",
    "\n",
    "status = solver.solve(m, tee=True)"
   ]
  },
  {
   "cell_type": "code",
   "execution_count": 21,
   "metadata": {},
   "outputs": [
    {
     "output_type": "stream",
     "name": "stdout",
     "text": [
      "\n====================================================================================\nUnit : fs.flash2                                                           Time: 0.0\n------------------------------------------------------------------------------------\n    Unit Performance\n\n    Variables: \n\n    Key             : Value  : Fixed : Bounds\n          Heat Duty : 10000. :  True : (None, None)\n    Pressure Change : 0.0000 :  True : (None, None)\n\n------------------------------------------------------------------------------------\n    Stream Table\n                                              Inlet    Vapor Outlet  Liquid Outlet\n    flow_mol_phase_comp ('Liq', 'ethanol')   0.039812   1.0000e-08      0.039374  \n    flow_mol_phase_comp ('Liq', 'water')      0.91816   1.0000e-08       0.91350  \n    flow_mol_phase_comp ('Liq', 'CO2')     9.5797e-07   1.0000e-08    9.5287e-07  \n    flow_mol_phase_comp ('Vap', 'ethanol') 1.0000e-08   0.00043789    1.0000e-08  \n    flow_mol_phase_comp ('Vap', 'water')   1.0000e-08    0.0046582    1.0000e-08  \n    flow_mol_phase_comp ('Vap', 'CO2')     1.0000e-08   1.5096e-08    1.0000e-08  \n    temperature                                304.79       371.15        371.15  \n    pressure                               1.0132e+05   1.0132e+05    1.0132e+05  \n====================================================================================\n"
     ]
    }
   ],
   "source": [
    "m.fs.flash2.report()"
   ]
  },
  {
   "cell_type": "code",
   "execution_count": null,
   "metadata": {},
   "outputs": [],
   "source": []
  },
  {
   "source": [
    "## Plotting"
   ],
   "cell_type": "markdown",
   "metadata": {}
  },
  {
   "cell_type": "code",
   "execution_count": 77,
   "metadata": {},
   "outputs": [
    {
     "output_type": "stream",
     "name": "stdout",
     "text": [
      "Simulating with Q =  50000.0\n",
      "... solve successful.\n",
      "Simulating with Q =  54545.454545454544\n",
      "... solve successful.\n",
      "Simulating with Q =  59090.90909090909\n",
      "... solve successful.\n",
      "Simulating with Q =  63636.36363636363\n",
      "... solve successful.\n",
      "Simulating with Q =  68181.81818181818\n",
      "... solve successful.\n",
      "Simulating with Q =  72727.27272727272\n",
      "... solve successful.\n",
      "Simulating with Q =  77272.72727272726\n",
      "... solve successful.\n",
      "Simulating with Q =  81818.18181818182\n",
      "... solve successful.\n",
      "Simulating with Q =  86363.63636363635\n",
      "... solve successful.\n",
      "Simulating with Q =  90909.09090909091\n",
      "... solve successful.\n",
      "Simulating with Q =  95454.54545454544\n",
      "... solve successful.\n",
      "Simulating with Q =  100000.0\n",
      "... solve successful.\n",
      "Simulating with Q =  104545.45454545454\n",
      "... solve successful.\n",
      "Simulating with Q =  109090.90909090909\n",
      "... solve successful.\n",
      "Simulating with Q =  113636.36363636363\n",
      "... solve successful.\n",
      "Simulating with Q =  118181.81818181818\n",
      "... solve successful.\n",
      "Simulating with Q =  122727.27272727272\n",
      "... solve successful.\n",
      "Simulating with Q =  127272.72727272726\n",
      "... solve successful.\n",
      "Simulating with Q =  131818.18181818182\n",
      "... solve successful.\n",
      "Simulating with Q =  136363.63636363635\n",
      "... solve successful.\n",
      "Simulating with Q =  140909.09090909088\n",
      "... solve successful.\n",
      "Simulating with Q =  145454.54545454544\n",
      "... solve successful.\n",
      "Simulating with Q =  150000.0\n",
      "... solve successful.\n",
      "Simulating with Q =  154545.45454545453\n",
      "... solve successful.\n",
      "Simulating with Q =  159090.9090909091\n",
      "... solve successful.\n",
      "Simulating with Q =  163636.36363636365\n",
      "... solve successful.\n",
      "Simulating with Q =  168181.81818181818\n",
      "... solve successful.\n",
      "Simulating with Q =  172727.2727272727\n",
      "... solve successful.\n",
      "Simulating with Q =  177272.72727272726\n",
      "... solve successful.\n",
      "Simulating with Q =  181818.1818181818\n",
      "... solve successful.\n",
      "Simulating with Q =  186363.63636363635\n",
      "... solve successful.\n",
      "Simulating with Q =  190909.09090909088\n",
      "... solve successful.\n",
      "Simulating with Q =  195454.54545454544\n",
      "... solve successful.\n",
      "Simulating with Q =  200000.0\n",
      "... solve successful.\n",
      "Simulating with Q =  204545.45454545453\n",
      "... solve successful.\n",
      "Simulating with Q =  209090.9090909091\n",
      "... solve successful.\n",
      "Simulating with Q =  213636.36363636362\n",
      "... solve successful.\n",
      "Simulating with Q =  218181.81818181818\n",
      "... solve successful.\n",
      "Simulating with Q =  222727.2727272727\n",
      "... solve successful.\n",
      "Simulating with Q =  227272.72727272726\n",
      "... solve successful.\n",
      "Simulating with Q =  231818.1818181818\n",
      "... solve successful.\n",
      "Simulating with Q =  236363.63636363635\n",
      "... solve successful.\n",
      "Simulating with Q =  240909.09090909088\n",
      "... solve successful.\n",
      "Simulating with Q =  245454.54545454544\n",
      "... solve successful.\n",
      "Simulating with Q =  249999.99999999997\n",
      "... solve successful.\n",
      "Simulating with Q =  254545.45454545453\n",
      "... solve successful.\n",
      "Simulating with Q =  259090.90909090906\n",
      "... solve successful.\n",
      "Simulating with Q =  263636.36363636365\n",
      "... solve successful.\n",
      "Simulating with Q =  268181.8181818182\n",
      "... solve successful.\n",
      "Simulating with Q =  272727.2727272727\n",
      "... solve successful.\n",
      "Simulating with Q =  277272.7272727273\n",
      "... solve successful.\n",
      "Simulating with Q =  281818.18181818177\n",
      "... solve successful.\n",
      "Simulating with Q =  286363.63636363635\n",
      "... solve successful.\n",
      "Simulating with Q =  290909.0909090909\n",
      "... solve successful.\n",
      "Simulating with Q =  295454.5454545454\n",
      "... solve successful.\n",
      "Simulating with Q =  300000.0\n",
      "... solve successful.\n",
      "Simulating with Q =  304545.45454545453\n",
      "... solve successful.\n",
      "Simulating with Q =  309090.90909090906\n",
      "... solve successful.\n",
      "Simulating with Q =  313636.3636363636\n",
      "... solve successful.\n",
      "Simulating with Q =  318181.8181818182\n",
      "... solve successful.\n",
      "Simulating with Q =  322727.2727272727\n",
      "... solve successful.\n",
      "Simulating with Q =  327272.72727272724\n",
      "... solve successful.\n",
      "Simulating with Q =  331818.18181818177\n",
      "... solve successful.\n",
      "Simulating with Q =  336363.63636363635\n",
      "... solve successful.\n",
      "Simulating with Q =  340909.0909090909\n",
      "... solve successful.\n",
      "Simulating with Q =  345454.5454545454\n",
      "... solve successful.\n",
      "Simulating with Q =  350000.0\n",
      "... solve successful.\n",
      "Simulating with Q =  354545.45454545453\n",
      "... solve successful.\n",
      "Simulating with Q =  359090.90909090906\n",
      "... solve successful.\n",
      "Simulating with Q =  363636.3636363636\n",
      "... solve successful.\n",
      "Simulating with Q =  368181.8181818182\n",
      "... solve successful.\n",
      "Simulating with Q =  372727.2727272727\n",
      "... solve successful.\n",
      "Simulating with Q =  377272.72727272724\n",
      "... solve successful.\n",
      "Simulating with Q =  381818.18181818177\n",
      "... solve successful.\n",
      "Simulating with Q =  386363.63636363635\n",
      "... solve successful.\n",
      "Simulating with Q =  390909.0909090909\n",
      "... solve successful.\n",
      "Simulating with Q =  395454.5454545454\n",
      "... solve successful.\n",
      "Simulating with Q =  399999.99999999994\n",
      "... solve successful.\n",
      "Simulating with Q =  404545.45454545453\n",
      "... solve successful.\n",
      "Simulating with Q =  409090.90909090906\n",
      "... solve successful.\n",
      "Simulating with Q =  413636.3636363636\n",
      "... solve successful.\n",
      "Simulating with Q =  418181.8181818182\n",
      "... solve successful.\n",
      "Simulating with Q =  422727.2727272727\n",
      "... solve successful.\n",
      "Simulating with Q =  427272.72727272724\n",
      "... solve successful.\n",
      "Simulating with Q =  431818.18181818177\n",
      "... solve successful.\n",
      "Simulating with Q =  436363.63636363635\n",
      "... solve successful.\n",
      "Simulating with Q =  440909.0909090909\n",
      "... solve successful.\n",
      "Simulating with Q =  445454.5454545454\n",
      "... solve successful.\n",
      "Simulating with Q =  449999.99999999994\n",
      "... solve successful.\n",
      "Simulating with Q =  454545.45454545453\n",
      "... solve successful.\n",
      "Simulating with Q =  459090.90909090906\n",
      "... solve successful.\n",
      "Simulating with Q =  463636.3636363636\n",
      "... solve successful.\n",
      "Simulating with Q =  468181.8181818181\n",
      "... solve successful.\n",
      "Simulating with Q =  472727.2727272727\n",
      "... solve successful.\n",
      "Simulating with Q =  477272.72727272724\n",
      "... solve successful.\n",
      "Simulating with Q =  481818.18181818177\n",
      "... solve successful.\n",
      "Simulating with Q =  486363.63636363635\n",
      "... solve successful.\n",
      "Simulating with Q =  490909.0909090909\n",
      "... solve successful.\n",
      "Simulating with Q =  495454.5454545454\n",
      "... solve successful.\n",
      "Simulating with Q =  500000.0\n",
      "... solve successful.\n"
     ]
    },
    {
     "output_type": "display_data",
     "data": {
      "text/plain": "<Figure size 432x288 with 1 Axes>",
      "image/svg+xml": "<?xml version=\"1.0\" encoding=\"utf-8\" standalone=\"no\"?>\r\n<!DOCTYPE svg PUBLIC \"-//W3C//DTD SVG 1.1//EN\"\r\n  \"http://www.w3.org/Graphics/SVG/1.1/DTD/svg11.dtd\">\r\n<svg height=\"262.19625pt\" version=\"1.1\" viewBox=\"0 0 402.375568 262.19625\" width=\"402.375568pt\" xmlns=\"http://www.w3.org/2000/svg\" xmlns:xlink=\"http://www.w3.org/1999/xlink\">\r\n <metadata>\r\n  <rdf:RDF xmlns:cc=\"http://creativecommons.org/ns#\" xmlns:dc=\"http://purl.org/dc/elements/1.1/\" xmlns:rdf=\"http://www.w3.org/1999/02/22-rdf-syntax-ns#\">\r\n   <cc:Work>\r\n    <dc:type rdf:resource=\"http://purl.org/dc/dcmitype/StillImage\"/>\r\n    <dc:date>2021-04-15T12:40:35.287711</dc:date>\r\n    <dc:format>image/svg+xml</dc:format>\r\n    <dc:creator>\r\n     <cc:Agent>\r\n      <dc:title>Matplotlib v3.4.1, https://matplotlib.org/</dc:title>\r\n     </cc:Agent>\r\n    </dc:creator>\r\n   </cc:Work>\r\n  </rdf:RDF>\r\n </metadata>\r\n <defs>\r\n  <style type=\"text/css\">*{stroke-linecap:butt;stroke-linejoin:round;}</style>\r\n </defs>\r\n <g id=\"figure_1\">\r\n  <g id=\"patch_1\">\r\n   <path d=\"M 0 262.19625 \r\nL 402.375568 262.19625 \r\nL 402.375568 0 \r\nL 0 0 \r\nz\r\n\" style=\"fill:none;\"/>\r\n  </g>\r\n  <g id=\"axes_1\">\r\n   <g id=\"patch_2\">\r\n    <path d=\"M 56.50625 224.64 \r\nL 391.30625 224.64 \r\nL 391.30625 7.2 \r\nL 56.50625 7.2 \r\nz\r\n\" style=\"fill:#ffffff;\"/>\r\n   </g>\r\n   <g id=\"matplotlib.axis_1\">\r\n    <g id=\"xtick_1\">\r\n     <g id=\"line2d_1\">\r\n      <path clip-path=\"url(#pbc8be938f9)\" d=\"M 105.542614 224.64 \r\nL 105.542614 7.2 \r\n\" style=\"fill:none;stroke:#b0b0b0;stroke-linecap:square;stroke-width:0.8;\"/>\r\n     </g>\r\n     <g id=\"line2d_2\">\r\n      <defs>\r\n       <path d=\"M 0 0 \r\nL 0 3.5 \r\n\" id=\"mc6e4b282cd\" style=\"stroke:#000000;stroke-width:0.8;\"/>\r\n      </defs>\r\n      <g>\r\n       <use style=\"stroke:#000000;stroke-width:0.8;\" x=\"105.542614\" xlink:href=\"#mc6e4b282cd\" y=\"224.64\"/>\r\n      </g>\r\n     </g>\r\n     <g id=\"text_1\">\r\n      <!-- 100000 -->\r\n      <g transform=\"translate(86.455114 239.238437)scale(0.1 -0.1)\">\r\n       <defs>\r\n        <path d=\"M 794 531 \r\nL 1825 531 \r\nL 1825 4091 \r\nL 703 3866 \r\nL 703 4441 \r\nL 1819 4666 \r\nL 2450 4666 \r\nL 2450 531 \r\nL 3481 531 \r\nL 3481 0 \r\nL 794 0 \r\nL 794 531 \r\nz\r\n\" id=\"DejaVuSans-31\" transform=\"scale(0.015625)\"/>\r\n        <path d=\"M 2034 4250 \r\nQ 1547 4250 1301 3770 \r\nQ 1056 3291 1056 2328 \r\nQ 1056 1369 1301 889 \r\nQ 1547 409 2034 409 \r\nQ 2525 409 2770 889 \r\nQ 3016 1369 3016 2328 \r\nQ 3016 3291 2770 3770 \r\nQ 2525 4250 2034 4250 \r\nz\r\nM 2034 4750 \r\nQ 2819 4750 3233 4129 \r\nQ 3647 3509 3647 2328 \r\nQ 3647 1150 3233 529 \r\nQ 2819 -91 2034 -91 \r\nQ 1250 -91 836 529 \r\nQ 422 1150 422 2328 \r\nQ 422 3509 836 4129 \r\nQ 1250 4750 2034 4750 \r\nz\r\n\" id=\"DejaVuSans-30\" transform=\"scale(0.015625)\"/>\r\n       </defs>\r\n       <use xlink:href=\"#DejaVuSans-31\"/>\r\n       <use x=\"63.623047\" xlink:href=\"#DejaVuSans-30\"/>\r\n       <use x=\"127.246094\" xlink:href=\"#DejaVuSans-30\"/>\r\n       <use x=\"190.869141\" xlink:href=\"#DejaVuSans-30\"/>\r\n       <use x=\"254.492188\" xlink:href=\"#DejaVuSans-30\"/>\r\n       <use x=\"318.115234\" xlink:href=\"#DejaVuSans-30\"/>\r\n      </g>\r\n     </g>\r\n    </g>\r\n    <g id=\"xtick_2\">\r\n     <g id=\"line2d_3\">\r\n      <path clip-path=\"url(#pbc8be938f9)\" d=\"M 173.178977 224.64 \r\nL 173.178977 7.2 \r\n\" style=\"fill:none;stroke:#b0b0b0;stroke-linecap:square;stroke-width:0.8;\"/>\r\n     </g>\r\n     <g id=\"line2d_4\">\r\n      <g>\r\n       <use style=\"stroke:#000000;stroke-width:0.8;\" x=\"173.178977\" xlink:href=\"#mc6e4b282cd\" y=\"224.64\"/>\r\n      </g>\r\n     </g>\r\n     <g id=\"text_2\">\r\n      <!-- 200000 -->\r\n      <g transform=\"translate(154.091477 239.238437)scale(0.1 -0.1)\">\r\n       <defs>\r\n        <path d=\"M 1228 531 \r\nL 3431 531 \r\nL 3431 0 \r\nL 469 0 \r\nL 469 531 \r\nQ 828 903 1448 1529 \r\nQ 2069 2156 2228 2338 \r\nQ 2531 2678 2651 2914 \r\nQ 2772 3150 2772 3378 \r\nQ 2772 3750 2511 3984 \r\nQ 2250 4219 1831 4219 \r\nQ 1534 4219 1204 4116 \r\nQ 875 4013 500 3803 \r\nL 500 4441 \r\nQ 881 4594 1212 4672 \r\nQ 1544 4750 1819 4750 \r\nQ 2544 4750 2975 4387 \r\nQ 3406 4025 3406 3419 \r\nQ 3406 3131 3298 2873 \r\nQ 3191 2616 2906 2266 \r\nQ 2828 2175 2409 1742 \r\nQ 1991 1309 1228 531 \r\nz\r\n\" id=\"DejaVuSans-32\" transform=\"scale(0.015625)\"/>\r\n       </defs>\r\n       <use xlink:href=\"#DejaVuSans-32\"/>\r\n       <use x=\"63.623047\" xlink:href=\"#DejaVuSans-30\"/>\r\n       <use x=\"127.246094\" xlink:href=\"#DejaVuSans-30\"/>\r\n       <use x=\"190.869141\" xlink:href=\"#DejaVuSans-30\"/>\r\n       <use x=\"254.492188\" xlink:href=\"#DejaVuSans-30\"/>\r\n       <use x=\"318.115234\" xlink:href=\"#DejaVuSans-30\"/>\r\n      </g>\r\n     </g>\r\n    </g>\r\n    <g id=\"xtick_3\">\r\n     <g id=\"line2d_5\">\r\n      <path clip-path=\"url(#pbc8be938f9)\" d=\"M 240.815341 224.64 \r\nL 240.815341 7.2 \r\n\" style=\"fill:none;stroke:#b0b0b0;stroke-linecap:square;stroke-width:0.8;\"/>\r\n     </g>\r\n     <g id=\"line2d_6\">\r\n      <g>\r\n       <use style=\"stroke:#000000;stroke-width:0.8;\" x=\"240.815341\" xlink:href=\"#mc6e4b282cd\" y=\"224.64\"/>\r\n      </g>\r\n     </g>\r\n     <g id=\"text_3\">\r\n      <!-- 300000 -->\r\n      <g transform=\"translate(221.727841 239.238437)scale(0.1 -0.1)\">\r\n       <defs>\r\n        <path d=\"M 2597 2516 \r\nQ 3050 2419 3304 2112 \r\nQ 3559 1806 3559 1356 \r\nQ 3559 666 3084 287 \r\nQ 2609 -91 1734 -91 \r\nQ 1441 -91 1130 -33 \r\nQ 819 25 488 141 \r\nL 488 750 \r\nQ 750 597 1062 519 \r\nQ 1375 441 1716 441 \r\nQ 2309 441 2620 675 \r\nQ 2931 909 2931 1356 \r\nQ 2931 1769 2642 2001 \r\nQ 2353 2234 1838 2234 \r\nL 1294 2234 \r\nL 1294 2753 \r\nL 1863 2753 \r\nQ 2328 2753 2575 2939 \r\nQ 2822 3125 2822 3475 \r\nQ 2822 3834 2567 4026 \r\nQ 2313 4219 1838 4219 \r\nQ 1578 4219 1281 4162 \r\nQ 984 4106 628 3988 \r\nL 628 4550 \r\nQ 988 4650 1302 4700 \r\nQ 1616 4750 1894 4750 \r\nQ 2613 4750 3031 4423 \r\nQ 3450 4097 3450 3541 \r\nQ 3450 3153 3228 2886 \r\nQ 3006 2619 2597 2516 \r\nz\r\n\" id=\"DejaVuSans-33\" transform=\"scale(0.015625)\"/>\r\n       </defs>\r\n       <use xlink:href=\"#DejaVuSans-33\"/>\r\n       <use x=\"63.623047\" xlink:href=\"#DejaVuSans-30\"/>\r\n       <use x=\"127.246094\" xlink:href=\"#DejaVuSans-30\"/>\r\n       <use x=\"190.869141\" xlink:href=\"#DejaVuSans-30\"/>\r\n       <use x=\"254.492188\" xlink:href=\"#DejaVuSans-30\"/>\r\n       <use x=\"318.115234\" xlink:href=\"#DejaVuSans-30\"/>\r\n      </g>\r\n     </g>\r\n    </g>\r\n    <g id=\"xtick_4\">\r\n     <g id=\"line2d_7\">\r\n      <path clip-path=\"url(#pbc8be938f9)\" d=\"M 308.451705 224.64 \r\nL 308.451705 7.2 \r\n\" style=\"fill:none;stroke:#b0b0b0;stroke-linecap:square;stroke-width:0.8;\"/>\r\n     </g>\r\n     <g id=\"line2d_8\">\r\n      <g>\r\n       <use style=\"stroke:#000000;stroke-width:0.8;\" x=\"308.451705\" xlink:href=\"#mc6e4b282cd\" y=\"224.64\"/>\r\n      </g>\r\n     </g>\r\n     <g id=\"text_4\">\r\n      <!-- 400000 -->\r\n      <g transform=\"translate(289.364205 239.238437)scale(0.1 -0.1)\">\r\n       <defs>\r\n        <path d=\"M 2419 4116 \r\nL 825 1625 \r\nL 2419 1625 \r\nL 2419 4116 \r\nz\r\nM 2253 4666 \r\nL 3047 4666 \r\nL 3047 1625 \r\nL 3713 1625 \r\nL 3713 1100 \r\nL 3047 1100 \r\nL 3047 0 \r\nL 2419 0 \r\nL 2419 1100 \r\nL 313 1100 \r\nL 313 1709 \r\nL 2253 4666 \r\nz\r\n\" id=\"DejaVuSans-34\" transform=\"scale(0.015625)\"/>\r\n       </defs>\r\n       <use xlink:href=\"#DejaVuSans-34\"/>\r\n       <use x=\"63.623047\" xlink:href=\"#DejaVuSans-30\"/>\r\n       <use x=\"127.246094\" xlink:href=\"#DejaVuSans-30\"/>\r\n       <use x=\"190.869141\" xlink:href=\"#DejaVuSans-30\"/>\r\n       <use x=\"254.492188\" xlink:href=\"#DejaVuSans-30\"/>\r\n       <use x=\"318.115234\" xlink:href=\"#DejaVuSans-30\"/>\r\n      </g>\r\n     </g>\r\n    </g>\r\n    <g id=\"xtick_5\">\r\n     <g id=\"line2d_9\">\r\n      <path clip-path=\"url(#pbc8be938f9)\" d=\"M 376.088068 224.64 \r\nL 376.088068 7.2 \r\n\" style=\"fill:none;stroke:#b0b0b0;stroke-linecap:square;stroke-width:0.8;\"/>\r\n     </g>\r\n     <g id=\"line2d_10\">\r\n      <g>\r\n       <use style=\"stroke:#000000;stroke-width:0.8;\" x=\"376.088068\" xlink:href=\"#mc6e4b282cd\" y=\"224.64\"/>\r\n      </g>\r\n     </g>\r\n     <g id=\"text_5\">\r\n      <!-- 500000 -->\r\n      <g transform=\"translate(357.000568 239.238437)scale(0.1 -0.1)\">\r\n       <defs>\r\n        <path d=\"M 691 4666 \r\nL 3169 4666 \r\nL 3169 4134 \r\nL 1269 4134 \r\nL 1269 2991 \r\nQ 1406 3038 1543 3061 \r\nQ 1681 3084 1819 3084 \r\nQ 2600 3084 3056 2656 \r\nQ 3513 2228 3513 1497 \r\nQ 3513 744 3044 326 \r\nQ 2575 -91 1722 -91 \r\nQ 1428 -91 1123 -41 \r\nQ 819 9 494 109 \r\nL 494 744 \r\nQ 775 591 1075 516 \r\nQ 1375 441 1709 441 \r\nQ 2250 441 2565 725 \r\nQ 2881 1009 2881 1497 \r\nQ 2881 1984 2565 2268 \r\nQ 2250 2553 1709 2553 \r\nQ 1456 2553 1204 2497 \r\nQ 953 2441 691 2322 \r\nL 691 4666 \r\nz\r\n\" id=\"DejaVuSans-35\" transform=\"scale(0.015625)\"/>\r\n       </defs>\r\n       <use xlink:href=\"#DejaVuSans-35\"/>\r\n       <use x=\"63.623047\" xlink:href=\"#DejaVuSans-30\"/>\r\n       <use x=\"127.246094\" xlink:href=\"#DejaVuSans-30\"/>\r\n       <use x=\"190.869141\" xlink:href=\"#DejaVuSans-30\"/>\r\n       <use x=\"254.492188\" xlink:href=\"#DejaVuSans-30\"/>\r\n       <use x=\"318.115234\" xlink:href=\"#DejaVuSans-30\"/>\r\n      </g>\r\n     </g>\r\n    </g>\r\n    <g id=\"text_6\">\r\n     <!-- Heat Duty [J] -->\r\n     <g transform=\"translate(191.552344 252.916562)scale(0.1 -0.1)\">\r\n      <defs>\r\n       <path d=\"M 628 4666 \r\nL 1259 4666 \r\nL 1259 2753 \r\nL 3553 2753 \r\nL 3553 4666 \r\nL 4184 4666 \r\nL 4184 0 \r\nL 3553 0 \r\nL 3553 2222 \r\nL 1259 2222 \r\nL 1259 0 \r\nL 628 0 \r\nL 628 4666 \r\nz\r\n\" id=\"DejaVuSans-48\" transform=\"scale(0.015625)\"/>\r\n       <path d=\"M 3597 1894 \r\nL 3597 1613 \r\nL 953 1613 \r\nQ 991 1019 1311 708 \r\nQ 1631 397 2203 397 \r\nQ 2534 397 2845 478 \r\nQ 3156 559 3463 722 \r\nL 3463 178 \r\nQ 3153 47 2828 -22 \r\nQ 2503 -91 2169 -91 \r\nQ 1331 -91 842 396 \r\nQ 353 884 353 1716 \r\nQ 353 2575 817 3079 \r\nQ 1281 3584 2069 3584 \r\nQ 2775 3584 3186 3129 \r\nQ 3597 2675 3597 1894 \r\nz\r\nM 3022 2063 \r\nQ 3016 2534 2758 2815 \r\nQ 2500 3097 2075 3097 \r\nQ 1594 3097 1305 2825 \r\nQ 1016 2553 972 2059 \r\nL 3022 2063 \r\nz\r\n\" id=\"DejaVuSans-65\" transform=\"scale(0.015625)\"/>\r\n       <path d=\"M 2194 1759 \r\nQ 1497 1759 1228 1600 \r\nQ 959 1441 959 1056 \r\nQ 959 750 1161 570 \r\nQ 1363 391 1709 391 \r\nQ 2188 391 2477 730 \r\nQ 2766 1069 2766 1631 \r\nL 2766 1759 \r\nL 2194 1759 \r\nz\r\nM 3341 1997 \r\nL 3341 0 \r\nL 2766 0 \r\nL 2766 531 \r\nQ 2569 213 2275 61 \r\nQ 1981 -91 1556 -91 \r\nQ 1019 -91 701 211 \r\nQ 384 513 384 1019 \r\nQ 384 1609 779 1909 \r\nQ 1175 2209 1959 2209 \r\nL 2766 2209 \r\nL 2766 2266 \r\nQ 2766 2663 2505 2880 \r\nQ 2244 3097 1772 3097 \r\nQ 1472 3097 1187 3025 \r\nQ 903 2953 641 2809 \r\nL 641 3341 \r\nQ 956 3463 1253 3523 \r\nQ 1550 3584 1831 3584 \r\nQ 2591 3584 2966 3190 \r\nQ 3341 2797 3341 1997 \r\nz\r\n\" id=\"DejaVuSans-61\" transform=\"scale(0.015625)\"/>\r\n       <path d=\"M 1172 4494 \r\nL 1172 3500 \r\nL 2356 3500 \r\nL 2356 3053 \r\nL 1172 3053 \r\nL 1172 1153 \r\nQ 1172 725 1289 603 \r\nQ 1406 481 1766 481 \r\nL 2356 481 \r\nL 2356 0 \r\nL 1766 0 \r\nQ 1100 0 847 248 \r\nQ 594 497 594 1153 \r\nL 594 3053 \r\nL 172 3053 \r\nL 172 3500 \r\nL 594 3500 \r\nL 594 4494 \r\nL 1172 4494 \r\nz\r\n\" id=\"DejaVuSans-74\" transform=\"scale(0.015625)\"/>\r\n       <path id=\"DejaVuSans-20\" transform=\"scale(0.015625)\"/>\r\n       <path d=\"M 1259 4147 \r\nL 1259 519 \r\nL 2022 519 \r\nQ 2988 519 3436 956 \r\nQ 3884 1394 3884 2338 \r\nQ 3884 3275 3436 3711 \r\nQ 2988 4147 2022 4147 \r\nL 1259 4147 \r\nz\r\nM 628 4666 \r\nL 1925 4666 \r\nQ 3281 4666 3915 4102 \r\nQ 4550 3538 4550 2338 \r\nQ 4550 1131 3912 565 \r\nQ 3275 0 1925 0 \r\nL 628 0 \r\nL 628 4666 \r\nz\r\n\" id=\"DejaVuSans-44\" transform=\"scale(0.015625)\"/>\r\n       <path d=\"M 544 1381 \r\nL 544 3500 \r\nL 1119 3500 \r\nL 1119 1403 \r\nQ 1119 906 1312 657 \r\nQ 1506 409 1894 409 \r\nQ 2359 409 2629 706 \r\nQ 2900 1003 2900 1516 \r\nL 2900 3500 \r\nL 3475 3500 \r\nL 3475 0 \r\nL 2900 0 \r\nL 2900 538 \r\nQ 2691 219 2414 64 \r\nQ 2138 -91 1772 -91 \r\nQ 1169 -91 856 284 \r\nQ 544 659 544 1381 \r\nz\r\nM 1991 3584 \r\nL 1991 3584 \r\nz\r\n\" id=\"DejaVuSans-75\" transform=\"scale(0.015625)\"/>\r\n       <path d=\"M 2059 -325 \r\nQ 1816 -950 1584 -1140 \r\nQ 1353 -1331 966 -1331 \r\nL 506 -1331 \r\nL 506 -850 \r\nL 844 -850 \r\nQ 1081 -850 1212 -737 \r\nQ 1344 -625 1503 -206 \r\nL 1606 56 \r\nL 191 3500 \r\nL 800 3500 \r\nL 1894 763 \r\nL 2988 3500 \r\nL 3597 3500 \r\nL 2059 -325 \r\nz\r\n\" id=\"DejaVuSans-79\" transform=\"scale(0.015625)\"/>\r\n       <path d=\"M 550 4863 \r\nL 1875 4863 \r\nL 1875 4416 \r\nL 1125 4416 \r\nL 1125 -397 \r\nL 1875 -397 \r\nL 1875 -844 \r\nL 550 -844 \r\nL 550 4863 \r\nz\r\n\" id=\"DejaVuSans-5b\" transform=\"scale(0.015625)\"/>\r\n       <path d=\"M 628 4666 \r\nL 1259 4666 \r\nL 1259 325 \r\nQ 1259 -519 939 -900 \r\nQ 619 -1281 -91 -1281 \r\nL -331 -1281 \r\nL -331 -750 \r\nL -134 -750 \r\nQ 284 -750 456 -515 \r\nQ 628 -281 628 325 \r\nL 628 4666 \r\nz\r\n\" id=\"DejaVuSans-4a\" transform=\"scale(0.015625)\"/>\r\n       <path d=\"M 1947 4863 \r\nL 1947 -844 \r\nL 622 -844 \r\nL 622 -397 \r\nL 1369 -397 \r\nL 1369 4416 \r\nL 622 4416 \r\nL 622 4863 \r\nL 1947 4863 \r\nz\r\n\" id=\"DejaVuSans-5d\" transform=\"scale(0.015625)\"/>\r\n      </defs>\r\n      <use xlink:href=\"#DejaVuSans-48\"/>\r\n      <use x=\"75.195312\" xlink:href=\"#DejaVuSans-65\"/>\r\n      <use x=\"136.71875\" xlink:href=\"#DejaVuSans-61\"/>\r\n      <use x=\"197.998047\" xlink:href=\"#DejaVuSans-74\"/>\r\n      <use x=\"237.207031\" xlink:href=\"#DejaVuSans-20\"/>\r\n      <use x=\"268.994141\" xlink:href=\"#DejaVuSans-44\"/>\r\n      <use x=\"345.996094\" xlink:href=\"#DejaVuSans-75\"/>\r\n      <use x=\"409.375\" xlink:href=\"#DejaVuSans-74\"/>\r\n      <use x=\"448.583984\" xlink:href=\"#DejaVuSans-79\"/>\r\n      <use x=\"507.763672\" xlink:href=\"#DejaVuSans-20\"/>\r\n      <use x=\"539.550781\" xlink:href=\"#DejaVuSans-5b\"/>\r\n      <use x=\"578.564453\" xlink:href=\"#DejaVuSans-4a\"/>\r\n      <use x=\"608.056641\" xlink:href=\"#DejaVuSans-5d\"/>\r\n     </g>\r\n    </g>\r\n   </g>\r\n   <g id=\"matplotlib.axis_2\">\r\n    <g id=\"ytick_1\">\r\n     <g id=\"line2d_11\">\r\n      <path clip-path=\"url(#pbc8be938f9)\" d=\"M 56.50625 206.24723 \r\nL 391.30625 206.24723 \r\n\" style=\"fill:none;stroke:#b0b0b0;stroke-linecap:square;stroke-width:0.8;\"/>\r\n     </g>\r\n     <g id=\"line2d_12\">\r\n      <defs>\r\n       <path d=\"M 0 0 \r\nL -3.5 0 \r\n\" id=\"mc179cc055b\" style=\"stroke:#000000;stroke-width:0.8;\"/>\r\n      </defs>\r\n      <g>\r\n       <use style=\"stroke:#000000;stroke-width:0.8;\" x=\"56.50625\" xlink:href=\"#mc179cc055b\" y=\"206.24723\"/>\r\n      </g>\r\n     </g>\r\n     <g id=\"text_7\">\r\n      <!-- 0.005 -->\r\n      <g transform=\"translate(20.878125 210.046449)scale(0.1 -0.1)\">\r\n       <defs>\r\n        <path d=\"M 684 794 \r\nL 1344 794 \r\nL 1344 0 \r\nL 684 0 \r\nL 684 794 \r\nz\r\n\" id=\"DejaVuSans-2e\" transform=\"scale(0.015625)\"/>\r\n       </defs>\r\n       <use xlink:href=\"#DejaVuSans-30\"/>\r\n       <use x=\"63.623047\" xlink:href=\"#DejaVuSans-2e\"/>\r\n       <use x=\"95.410156\" xlink:href=\"#DejaVuSans-30\"/>\r\n       <use x=\"159.033203\" xlink:href=\"#DejaVuSans-30\"/>\r\n       <use x=\"222.65625\" xlink:href=\"#DejaVuSans-35\"/>\r\n      </g>\r\n     </g>\r\n    </g>\r\n    <g id=\"ytick_2\">\r\n     <g id=\"line2d_13\">\r\n      <path clip-path=\"url(#pbc8be938f9)\" d=\"M 56.50625 169.847953 \r\nL 391.30625 169.847953 \r\n\" style=\"fill:none;stroke:#b0b0b0;stroke-linecap:square;stroke-width:0.8;\"/>\r\n     </g>\r\n     <g id=\"line2d_14\">\r\n      <g>\r\n       <use style=\"stroke:#000000;stroke-width:0.8;\" x=\"56.50625\" xlink:href=\"#mc179cc055b\" y=\"169.847953\"/>\r\n      </g>\r\n     </g>\r\n     <g id=\"text_8\">\r\n      <!-- 0.010 -->\r\n      <g transform=\"translate(20.878125 173.647172)scale(0.1 -0.1)\">\r\n       <use xlink:href=\"#DejaVuSans-30\"/>\r\n       <use x=\"63.623047\" xlink:href=\"#DejaVuSans-2e\"/>\r\n       <use x=\"95.410156\" xlink:href=\"#DejaVuSans-30\"/>\r\n       <use x=\"159.033203\" xlink:href=\"#DejaVuSans-31\"/>\r\n       <use x=\"222.65625\" xlink:href=\"#DejaVuSans-30\"/>\r\n      </g>\r\n     </g>\r\n    </g>\r\n    <g id=\"ytick_3\">\r\n     <g id=\"line2d_15\">\r\n      <path clip-path=\"url(#pbc8be938f9)\" d=\"M 56.50625 133.448676 \r\nL 391.30625 133.448676 \r\n\" style=\"fill:none;stroke:#b0b0b0;stroke-linecap:square;stroke-width:0.8;\"/>\r\n     </g>\r\n     <g id=\"line2d_16\">\r\n      <g>\r\n       <use style=\"stroke:#000000;stroke-width:0.8;\" x=\"56.50625\" xlink:href=\"#mc179cc055b\" y=\"133.448676\"/>\r\n      </g>\r\n     </g>\r\n     <g id=\"text_9\">\r\n      <!-- 0.015 -->\r\n      <g transform=\"translate(20.878125 137.247895)scale(0.1 -0.1)\">\r\n       <use xlink:href=\"#DejaVuSans-30\"/>\r\n       <use x=\"63.623047\" xlink:href=\"#DejaVuSans-2e\"/>\r\n       <use x=\"95.410156\" xlink:href=\"#DejaVuSans-30\"/>\r\n       <use x=\"159.033203\" xlink:href=\"#DejaVuSans-31\"/>\r\n       <use x=\"222.65625\" xlink:href=\"#DejaVuSans-35\"/>\r\n      </g>\r\n     </g>\r\n    </g>\r\n    <g id=\"ytick_4\">\r\n     <g id=\"line2d_17\">\r\n      <path clip-path=\"url(#pbc8be938f9)\" d=\"M 56.50625 97.049399 \r\nL 391.30625 97.049399 \r\n\" style=\"fill:none;stroke:#b0b0b0;stroke-linecap:square;stroke-width:0.8;\"/>\r\n     </g>\r\n     <g id=\"line2d_18\">\r\n      <g>\r\n       <use style=\"stroke:#000000;stroke-width:0.8;\" x=\"56.50625\" xlink:href=\"#mc179cc055b\" y=\"97.049399\"/>\r\n      </g>\r\n     </g>\r\n     <g id=\"text_10\">\r\n      <!-- 0.020 -->\r\n      <g transform=\"translate(20.878125 100.848618)scale(0.1 -0.1)\">\r\n       <use xlink:href=\"#DejaVuSans-30\"/>\r\n       <use x=\"63.623047\" xlink:href=\"#DejaVuSans-2e\"/>\r\n       <use x=\"95.410156\" xlink:href=\"#DejaVuSans-30\"/>\r\n       <use x=\"159.033203\" xlink:href=\"#DejaVuSans-32\"/>\r\n       <use x=\"222.65625\" xlink:href=\"#DejaVuSans-30\"/>\r\n      </g>\r\n     </g>\r\n    </g>\r\n    <g id=\"ytick_5\">\r\n     <g id=\"line2d_19\">\r\n      <path clip-path=\"url(#pbc8be938f9)\" d=\"M 56.50625 60.650122 \r\nL 391.30625 60.650122 \r\n\" style=\"fill:none;stroke:#b0b0b0;stroke-linecap:square;stroke-width:0.8;\"/>\r\n     </g>\r\n     <g id=\"line2d_20\">\r\n      <g>\r\n       <use style=\"stroke:#000000;stroke-width:0.8;\" x=\"56.50625\" xlink:href=\"#mc179cc055b\" y=\"60.650122\"/>\r\n      </g>\r\n     </g>\r\n     <g id=\"text_11\">\r\n      <!-- 0.025 -->\r\n      <g transform=\"translate(20.878125 64.449341)scale(0.1 -0.1)\">\r\n       <use xlink:href=\"#DejaVuSans-30\"/>\r\n       <use x=\"63.623047\" xlink:href=\"#DejaVuSans-2e\"/>\r\n       <use x=\"95.410156\" xlink:href=\"#DejaVuSans-30\"/>\r\n       <use x=\"159.033203\" xlink:href=\"#DejaVuSans-32\"/>\r\n       <use x=\"222.65625\" xlink:href=\"#DejaVuSans-35\"/>\r\n      </g>\r\n     </g>\r\n    </g>\r\n    <g id=\"ytick_6\">\r\n     <g id=\"line2d_21\">\r\n      <path clip-path=\"url(#pbc8be938f9)\" d=\"M 56.50625 24.250845 \r\nL 391.30625 24.250845 \r\n\" style=\"fill:none;stroke:#b0b0b0;stroke-linecap:square;stroke-width:0.8;\"/>\r\n     </g>\r\n     <g id=\"line2d_22\">\r\n      <g>\r\n       <use style=\"stroke:#000000;stroke-width:0.8;\" x=\"56.50625\" xlink:href=\"#mc179cc055b\" y=\"24.250845\"/>\r\n      </g>\r\n     </g>\r\n     <g id=\"text_12\">\r\n      <!-- 0.030 -->\r\n      <g transform=\"translate(20.878125 28.050063)scale(0.1 -0.1)\">\r\n       <use xlink:href=\"#DejaVuSans-30\"/>\r\n       <use x=\"63.623047\" xlink:href=\"#DejaVuSans-2e\"/>\r\n       <use x=\"95.410156\" xlink:href=\"#DejaVuSans-30\"/>\r\n       <use x=\"159.033203\" xlink:href=\"#DejaVuSans-33\"/>\r\n       <use x=\"222.65625\" xlink:href=\"#DejaVuSans-30\"/>\r\n      </g>\r\n     </g>\r\n    </g>\r\n    <g id=\"text_13\">\r\n     <!-- Ethanol in the Vapor Phase [mol] -->\r\n     <g transform=\"translate(14.798438 198.133281)rotate(-90)scale(0.1 -0.1)\">\r\n      <defs>\r\n       <path d=\"M 628 4666 \r\nL 3578 4666 \r\nL 3578 4134 \r\nL 1259 4134 \r\nL 1259 2753 \r\nL 3481 2753 \r\nL 3481 2222 \r\nL 1259 2222 \r\nL 1259 531 \r\nL 3634 531 \r\nL 3634 0 \r\nL 628 0 \r\nL 628 4666 \r\nz\r\n\" id=\"DejaVuSans-45\" transform=\"scale(0.015625)\"/>\r\n       <path d=\"M 3513 2113 \r\nL 3513 0 \r\nL 2938 0 \r\nL 2938 2094 \r\nQ 2938 2591 2744 2837 \r\nQ 2550 3084 2163 3084 \r\nQ 1697 3084 1428 2787 \r\nQ 1159 2491 1159 1978 \r\nL 1159 0 \r\nL 581 0 \r\nL 581 4863 \r\nL 1159 4863 \r\nL 1159 2956 \r\nQ 1366 3272 1645 3428 \r\nQ 1925 3584 2291 3584 \r\nQ 2894 3584 3203 3211 \r\nQ 3513 2838 3513 2113 \r\nz\r\n\" id=\"DejaVuSans-68\" transform=\"scale(0.015625)\"/>\r\n       <path d=\"M 3513 2113 \r\nL 3513 0 \r\nL 2938 0 \r\nL 2938 2094 \r\nQ 2938 2591 2744 2837 \r\nQ 2550 3084 2163 3084 \r\nQ 1697 3084 1428 2787 \r\nQ 1159 2491 1159 1978 \r\nL 1159 0 \r\nL 581 0 \r\nL 581 3500 \r\nL 1159 3500 \r\nL 1159 2956 \r\nQ 1366 3272 1645 3428 \r\nQ 1925 3584 2291 3584 \r\nQ 2894 3584 3203 3211 \r\nQ 3513 2838 3513 2113 \r\nz\r\n\" id=\"DejaVuSans-6e\" transform=\"scale(0.015625)\"/>\r\n       <path d=\"M 1959 3097 \r\nQ 1497 3097 1228 2736 \r\nQ 959 2375 959 1747 \r\nQ 959 1119 1226 758 \r\nQ 1494 397 1959 397 \r\nQ 2419 397 2687 759 \r\nQ 2956 1122 2956 1747 \r\nQ 2956 2369 2687 2733 \r\nQ 2419 3097 1959 3097 \r\nz\r\nM 1959 3584 \r\nQ 2709 3584 3137 3096 \r\nQ 3566 2609 3566 1747 \r\nQ 3566 888 3137 398 \r\nQ 2709 -91 1959 -91 \r\nQ 1206 -91 779 398 \r\nQ 353 888 353 1747 \r\nQ 353 2609 779 3096 \r\nQ 1206 3584 1959 3584 \r\nz\r\n\" id=\"DejaVuSans-6f\" transform=\"scale(0.015625)\"/>\r\n       <path d=\"M 603 4863 \r\nL 1178 4863 \r\nL 1178 0 \r\nL 603 0 \r\nL 603 4863 \r\nz\r\n\" id=\"DejaVuSans-6c\" transform=\"scale(0.015625)\"/>\r\n       <path d=\"M 603 3500 \r\nL 1178 3500 \r\nL 1178 0 \r\nL 603 0 \r\nL 603 3500 \r\nz\r\nM 603 4863 \r\nL 1178 4863 \r\nL 1178 4134 \r\nL 603 4134 \r\nL 603 4863 \r\nz\r\n\" id=\"DejaVuSans-69\" transform=\"scale(0.015625)\"/>\r\n       <path d=\"M 1831 0 \r\nL 50 4666 \r\nL 709 4666 \r\nL 2188 738 \r\nL 3669 4666 \r\nL 4325 4666 \r\nL 2547 0 \r\nL 1831 0 \r\nz\r\n\" id=\"DejaVuSans-56\" transform=\"scale(0.015625)\"/>\r\n       <path d=\"M 1159 525 \r\nL 1159 -1331 \r\nL 581 -1331 \r\nL 581 3500 \r\nL 1159 3500 \r\nL 1159 2969 \r\nQ 1341 3281 1617 3432 \r\nQ 1894 3584 2278 3584 \r\nQ 2916 3584 3314 3078 \r\nQ 3713 2572 3713 1747 \r\nQ 3713 922 3314 415 \r\nQ 2916 -91 2278 -91 \r\nQ 1894 -91 1617 61 \r\nQ 1341 213 1159 525 \r\nz\r\nM 3116 1747 \r\nQ 3116 2381 2855 2742 \r\nQ 2594 3103 2138 3103 \r\nQ 1681 3103 1420 2742 \r\nQ 1159 2381 1159 1747 \r\nQ 1159 1113 1420 752 \r\nQ 1681 391 2138 391 \r\nQ 2594 391 2855 752 \r\nQ 3116 1113 3116 1747 \r\nz\r\n\" id=\"DejaVuSans-70\" transform=\"scale(0.015625)\"/>\r\n       <path d=\"M 2631 2963 \r\nQ 2534 3019 2420 3045 \r\nQ 2306 3072 2169 3072 \r\nQ 1681 3072 1420 2755 \r\nQ 1159 2438 1159 1844 \r\nL 1159 0 \r\nL 581 0 \r\nL 581 3500 \r\nL 1159 3500 \r\nL 1159 2956 \r\nQ 1341 3275 1631 3429 \r\nQ 1922 3584 2338 3584 \r\nQ 2397 3584 2469 3576 \r\nQ 2541 3569 2628 3553 \r\nL 2631 2963 \r\nz\r\n\" id=\"DejaVuSans-72\" transform=\"scale(0.015625)\"/>\r\n       <path d=\"M 1259 4147 \r\nL 1259 2394 \r\nL 2053 2394 \r\nQ 2494 2394 2734 2622 \r\nQ 2975 2850 2975 3272 \r\nQ 2975 3691 2734 3919 \r\nQ 2494 4147 2053 4147 \r\nL 1259 4147 \r\nz\r\nM 628 4666 \r\nL 2053 4666 \r\nQ 2838 4666 3239 4311 \r\nQ 3641 3956 3641 3272 \r\nQ 3641 2581 3239 2228 \r\nQ 2838 1875 2053 1875 \r\nL 1259 1875 \r\nL 1259 0 \r\nL 628 0 \r\nL 628 4666 \r\nz\r\n\" id=\"DejaVuSans-50\" transform=\"scale(0.015625)\"/>\r\n       <path d=\"M 2834 3397 \r\nL 2834 2853 \r\nQ 2591 2978 2328 3040 \r\nQ 2066 3103 1784 3103 \r\nQ 1356 3103 1142 2972 \r\nQ 928 2841 928 2578 \r\nQ 928 2378 1081 2264 \r\nQ 1234 2150 1697 2047 \r\nL 1894 2003 \r\nQ 2506 1872 2764 1633 \r\nQ 3022 1394 3022 966 \r\nQ 3022 478 2636 193 \r\nQ 2250 -91 1575 -91 \r\nQ 1294 -91 989 -36 \r\nQ 684 19 347 128 \r\nL 347 722 \r\nQ 666 556 975 473 \r\nQ 1284 391 1588 391 \r\nQ 1994 391 2212 530 \r\nQ 2431 669 2431 922 \r\nQ 2431 1156 2273 1281 \r\nQ 2116 1406 1581 1522 \r\nL 1381 1569 \r\nQ 847 1681 609 1914 \r\nQ 372 2147 372 2553 \r\nQ 372 3047 722 3315 \r\nQ 1072 3584 1716 3584 \r\nQ 2034 3584 2315 3537 \r\nQ 2597 3491 2834 3397 \r\nz\r\n\" id=\"DejaVuSans-73\" transform=\"scale(0.015625)\"/>\r\n       <path d=\"M 3328 2828 \r\nQ 3544 3216 3844 3400 \r\nQ 4144 3584 4550 3584 \r\nQ 5097 3584 5394 3201 \r\nQ 5691 2819 5691 2113 \r\nL 5691 0 \r\nL 5113 0 \r\nL 5113 2094 \r\nQ 5113 2597 4934 2840 \r\nQ 4756 3084 4391 3084 \r\nQ 3944 3084 3684 2787 \r\nQ 3425 2491 3425 1978 \r\nL 3425 0 \r\nL 2847 0 \r\nL 2847 2094 \r\nQ 2847 2600 2669 2842 \r\nQ 2491 3084 2119 3084 \r\nQ 1678 3084 1418 2786 \r\nQ 1159 2488 1159 1978 \r\nL 1159 0 \r\nL 581 0 \r\nL 581 3500 \r\nL 1159 3500 \r\nL 1159 2956 \r\nQ 1356 3278 1631 3431 \r\nQ 1906 3584 2284 3584 \r\nQ 2666 3584 2933 3390 \r\nQ 3200 3197 3328 2828 \r\nz\r\n\" id=\"DejaVuSans-6d\" transform=\"scale(0.015625)\"/>\r\n      </defs>\r\n      <use xlink:href=\"#DejaVuSans-45\"/>\r\n      <use x=\"63.183594\" xlink:href=\"#DejaVuSans-74\"/>\r\n      <use x=\"102.392578\" xlink:href=\"#DejaVuSans-68\"/>\r\n      <use x=\"165.771484\" xlink:href=\"#DejaVuSans-61\"/>\r\n      <use x=\"227.050781\" xlink:href=\"#DejaVuSans-6e\"/>\r\n      <use x=\"290.429688\" xlink:href=\"#DejaVuSans-6f\"/>\r\n      <use x=\"351.611328\" xlink:href=\"#DejaVuSans-6c\"/>\r\n      <use x=\"379.394531\" xlink:href=\"#DejaVuSans-20\"/>\r\n      <use x=\"411.181641\" xlink:href=\"#DejaVuSans-69\"/>\r\n      <use x=\"438.964844\" xlink:href=\"#DejaVuSans-6e\"/>\r\n      <use x=\"502.34375\" xlink:href=\"#DejaVuSans-20\"/>\r\n      <use x=\"534.130859\" xlink:href=\"#DejaVuSans-74\"/>\r\n      <use x=\"573.339844\" xlink:href=\"#DejaVuSans-68\"/>\r\n      <use x=\"636.71875\" xlink:href=\"#DejaVuSans-65\"/>\r\n      <use x=\"698.242188\" xlink:href=\"#DejaVuSans-20\"/>\r\n      <use x=\"730.029297\" xlink:href=\"#DejaVuSans-56\"/>\r\n      <use x=\"790.6875\" xlink:href=\"#DejaVuSans-61\"/>\r\n      <use x=\"851.966797\" xlink:href=\"#DejaVuSans-70\"/>\r\n      <use x=\"915.443359\" xlink:href=\"#DejaVuSans-6f\"/>\r\n      <use x=\"976.625\" xlink:href=\"#DejaVuSans-72\"/>\r\n      <use x=\"1017.738281\" xlink:href=\"#DejaVuSans-20\"/>\r\n      <use x=\"1049.525391\" xlink:href=\"#DejaVuSans-50\"/>\r\n      <use x=\"1109.828125\" xlink:href=\"#DejaVuSans-68\"/>\r\n      <use x=\"1173.207031\" xlink:href=\"#DejaVuSans-61\"/>\r\n      <use x=\"1234.486328\" xlink:href=\"#DejaVuSans-73\"/>\r\n      <use x=\"1286.585938\" xlink:href=\"#DejaVuSans-65\"/>\r\n      <use x=\"1348.109375\" xlink:href=\"#DejaVuSans-20\"/>\r\n      <use x=\"1379.896484\" xlink:href=\"#DejaVuSans-5b\"/>\r\n      <use x=\"1418.910156\" xlink:href=\"#DejaVuSans-6d\"/>\r\n      <use x=\"1516.322266\" xlink:href=\"#DejaVuSans-6f\"/>\r\n      <use x=\"1577.503906\" xlink:href=\"#DejaVuSans-6c\"/>\r\n      <use x=\"1605.287109\" xlink:href=\"#DejaVuSans-5d\"/>\r\n     </g>\r\n    </g>\r\n   </g>\r\n   <g id=\"line2d_23\">\r\n    <path clip-path=\"url(#pbc8be938f9)\" d=\"M 71.724432 214.756364 \r\nL 74.798812 212.033434 \r\nL 77.873192 209.327515 \r\nL 80.947572 206.638556 \r\nL 84.021952 203.966505 \r\nL 87.096333 201.311313 \r\nL 90.170713 198.672925 \r\nL 93.245093 196.051288 \r\nL 96.319473 193.446346 \r\nL 99.393853 190.858043 \r\nL 102.468233 188.286324 \r\nL 105.542614 185.731128 \r\nL 108.616994 183.192398 \r\nL 111.691374 180.670073 \r\nL 114.765754 178.164092 \r\nL 117.840134 175.674394 \r\nL 120.914514 173.200916 \r\nL 123.988895 170.743594 \r\nL 127.063275 168.302363 \r\nL 130.137655 165.877159 \r\nL 133.212035 163.467914 \r\nL 136.286415 161.074563 \r\nL 139.360795 158.697038 \r\nL 142.435176 156.335269 \r\nL 145.509556 153.989189 \r\nL 148.583936 151.658726 \r\nL 151.658316 149.343811 \r\nL 154.732696 147.044371 \r\nL 157.807076 144.760336 \r\nL 160.881457 142.491633 \r\nL 163.955837 140.238188 \r\nL 167.030217 137.999927 \r\nL 170.104597 135.776778 \r\nL 173.178977 133.568663 \r\nL 176.253357 131.375509 \r\nL 179.327738 129.197239 \r\nL 182.402118 127.033777 \r\nL 185.476498 124.885047 \r\nL 188.550878 122.75097 \r\nL 191.625258 120.631469 \r\nL 194.699638 118.526467 \r\nL 197.774019 116.435884 \r\nL 200.848399 114.359642 \r\nL 203.922779 112.297661 \r\nL 206.997159 110.249863 \r\nL 210.071539 108.216167 \r\nL 213.145919 106.196493 \r\nL 216.2203 104.190761 \r\nL 219.29468 102.19889 \r\nL 222.36906 100.2208 \r\nL 225.44344 98.256409 \r\nL 228.51782 96.305636 \r\nL 231.5922 94.3684 \r\nL 234.666581 92.444619 \r\nL 237.740961 90.534211 \r\nL 240.815341 88.637095 \r\nL 243.889721 86.753189 \r\nL 246.964101 84.88241 \r\nL 250.038481 83.024677 \r\nL 253.112862 81.179907 \r\nL 256.187242 79.348018 \r\nL 259.261622 77.528928 \r\nL 262.336002 75.722554 \r\nL 265.410382 73.928815 \r\nL 268.484762 72.147628 \r\nL 271.559143 70.378911 \r\nL 274.633523 68.622582 \r\nL 277.707903 66.878558 \r\nL 280.782283 65.146758 \r\nL 283.856663 63.4271 \r\nL 286.931043 61.719501 \r\nL 290.005424 60.023881 \r\nL 293.079804 58.340157 \r\nL 296.154184 56.668248 \r\nL 299.228564 55.008073 \r\nL 302.302944 53.359551 \r\nL 305.377324 51.7226 \r\nL 308.451705 50.09714 \r\nL 311.526085 48.483091 \r\nL 314.600465 46.880371 \r\nL 317.674845 45.288901 \r\nL 320.749225 43.7086 \r\nL 323.823605 42.13939 \r\nL 326.897986 40.58119 \r\nL 329.972366 39.033921 \r\nL 333.046746 37.497505 \r\nL 336.121126 35.971862 \r\nL 339.195506 34.456915 \r\nL 342.269886 32.952584 \r\nL 345.344267 31.458793 \r\nL 348.418647 29.975463 \r\nL 351.493027 28.502518 \r\nL 354.567407 27.03988 \r\nL 357.641787 25.587473 \r\nL 360.716167 24.145221 \r\nL 363.790548 22.713048 \r\nL 366.864928 21.290878 \r\nL 369.939308 19.878636 \r\nL 373.013688 18.476247 \r\nL 376.088068 17.083636 \r\n\" style=\"fill:none;stroke:#1f77b4;stroke-linecap:square;stroke-width:1.5;\"/>\r\n   </g>\r\n   <g id=\"patch_3\">\r\n    <path d=\"M 56.50625 224.64 \r\nL 56.50625 7.2 \r\n\" style=\"fill:none;stroke:#000000;stroke-linecap:square;stroke-linejoin:miter;stroke-width:0.8;\"/>\r\n   </g>\r\n   <g id=\"patch_4\">\r\n    <path d=\"M 391.30625 224.64 \r\nL 391.30625 7.2 \r\n\" style=\"fill:none;stroke:#000000;stroke-linecap:square;stroke-linejoin:miter;stroke-width:0.8;\"/>\r\n   </g>\r\n   <g id=\"patch_5\">\r\n    <path d=\"M 56.50625 224.64 \r\nL 391.30625 224.64 \r\n\" style=\"fill:none;stroke:#000000;stroke-linecap:square;stroke-linejoin:miter;stroke-width:0.8;\"/>\r\n   </g>\r\n   <g id=\"patch_6\">\r\n    <path d=\"M 56.50625 7.2 \r\nL 391.30625 7.2 \r\n\" style=\"fill:none;stroke:#000000;stroke-linecap:square;stroke-linejoin:miter;stroke-width:0.8;\"/>\r\n   </g>\r\n  </g>\r\n </g>\r\n <defs>\r\n  <clipPath id=\"pbc8be938f9\">\r\n   <rect height=\"217.44\" width=\"334.8\" x=\"56.50625\" y=\"7.2\"/>\r\n  </clipPath>\r\n </defs>\r\n</svg>\r\n",
      "image/png": "[encoded data removed]"
     },
     "metadata": {
      "needs_background": "light"
     }
    }
   ],
   "source": [
    "# import the solve_successful checking function from workshop tools\n",
    "from workshoptools import solve_successful\n",
    "\n",
    "# Todo: import numpy\n",
    "import numpy as np\n",
    "\n",
    "# create the empty lists to store the results that will be plotted\n",
    "Q = []\n",
    "V = []\n",
    "\n",
    "# re-initialize model\n",
    "#m.fs.flash.initialize(outlvl=idaeslog.WARNING)\n",
    "m.fs.flash2.initialize(outlvl=idaeslog.WARNING)\n",
    "\n",
    "# Todo: Write the for loop specification using numpy's linspace\n",
    "for duty in np.linspace(50000, 500000, 100):\n",
    "    # fix the heat duty\n",
    "    m.fs.flash2.heat_duty.fix(duty)\n",
    "    \n",
    "    # append the value of the duty to the Q list\n",
    "    Q.append(duty)\n",
    "    \n",
    "    # print the current simulation\n",
    "    print(\"Simulating with Q = \", value(m.fs.flash2.heat_duty[0]))\n",
    "\n",
    "    # Solve the model\n",
    "    status = solver.solve(m)\n",
    "    \n",
    "    # append the value for vapor fraction if the solve was successful\n",
    "    if solve_successful(status):\n",
    "        V.append(value(m.fs.flash2.vap_outlet.flow_mol_phase_comp[0, \"Vap\", \"ethanol\"]))\n",
    "        print('... solve successful.')\n",
    "    else:\n",
    "        V.append(0.0)\n",
    "        print('... solve failed.')\n",
    "    \n",
    "# Create and show the figure\n",
    "plt.figure(\"Vapor Fraction Flash2\")\n",
    "plt.plot(Q, V)\n",
    "plt.grid()\n",
    "plt.xlabel(\"Heat Duty [J]\")\n",
    "plt.ylabel(\"Ethanol in the Vapor Phase [mol]\")\n",
    "plt.show()"
   ]
  },
  {
   "cell_type": "code",
   "execution_count": 35,
   "metadata": {},
   "outputs": [
    {
     "output_type": "execute_result",
     "data": {
      "text/plain": [
       "0.030984526197125335"
      ]
     },
     "metadata": {},
     "execution_count": 35
    }
   ],
   "source": [
    "vap_ethanol = value(m.fs.flash2.vap_outlet.flow_mol_phase_comp[0, \"Vap\", \"ethanol\"])\n",
    "vap_ethanol"
   ]
  },
  {
   "cell_type": "code",
   "execution_count": 36,
   "metadata": {},
   "outputs": [
    {
     "output_type": "execute_result",
     "data": {
      "text/plain": [
       "0.5664978603508012"
      ]
     },
     "metadata": {},
     "execution_count": 36
    }
   ],
   "source": [
    "vap_water = value(m.fs.flash2.vap_outlet.flow_mol_phase_comp[0, \"Vap\", \"water\"])\n",
    "vap_water"
   ]
  },
  {
   "cell_type": "code",
   "execution_count": 38,
   "metadata": {},
   "outputs": [
    {
     "output_type": "execute_result",
     "data": {
      "text/plain": [
       "0.051858476324540055"
      ]
     },
     "metadata": {},
     "execution_count": 38
    }
   ],
   "source": [
    "purity = vap_ethanol / (vap_water + vap_ethanol)\n",
    "purity"
   ]
  },
  {
   "cell_type": "code",
   "execution_count": 28,
   "metadata": {},
   "outputs": [
    {
     "output_type": "stream",
     "name": "stdout",
     "text": [
      "\n====================================================================================\nUnit : fs.flash2                                                           Time: 0.0\n------------------------------------------------------------------------------------\n    Unit Performance\n\n    Variables: \n\n    Key             : Value  : Fixed : Bounds\n          Heat Duty : 10000. :  True : (None, None)\n    Pressure Change : 0.0000 :  True : (None, None)\n\n------------------------------------------------------------------------------------\n    Stream Table\n                                              Inlet    Vapor Outlet  Liquid Outlet\n    flow_mol_phase_comp ('Liq', 'ethanol')   0.039812   1.0000e-08      0.039374  \n    flow_mol_phase_comp ('Liq', 'water')      0.91816   1.0000e-08       0.91350  \n    flow_mol_phase_comp ('Liq', 'CO2')     9.5797e-07   1.0000e-08    9.5287e-07  \n    flow_mol_phase_comp ('Vap', 'ethanol') 1.0000e-08   0.00043789    1.0000e-08  \n    flow_mol_phase_comp ('Vap', 'water')   1.0000e-08    0.0046582    1.0000e-08  \n    flow_mol_phase_comp ('Vap', 'CO2')     1.0000e-08   1.5096e-08    1.0000e-08  \n    temperature                                304.79       371.15        371.15  \n    pressure                               1.0132e+05   1.0132e+05    1.0132e+05  \n====================================================================================\n"
     ]
    }
   ],
   "source": [
    "m.fs.flash2.report()"
   ]
  },
  {
   "cell_type": "code",
   "execution_count": null,
   "metadata": {},
   "outputs": [],
   "source": []
  },
  {
   "cell_type": "code",
   "execution_count": 75,
   "metadata": {},
   "outputs": [
    {
     "output_type": "stream",
     "name": "stdout",
     "text": [
      "Simulating with Q =  1000.0\n",
      "Vap_out temperature Tout =  306.1374542280864\n",
      "Purity =  0.5\n",
      "... solve successful.\n",
      "Simulating with Q =  6040.404040404041\n",
      "Vap_out temperature Tout =  318.2159570076473\n",
      "Purity =  0.08629802533953693\n",
      "... solve successful.\n",
      "Simulating with Q =  11080.808080808081\n",
      "Vap_out temperature Tout =  371.1462101262265\n",
      "Purity =  0.08582420518928419\n",
      "... solve successful.\n",
      "Simulating with Q =  16121.212121212122\n",
      "Vap_out temperature Tout =  371.15375960306875\n",
      "Purity =  0.0853531164787514\n",
      "... solve successful.\n",
      "Simulating with Q =  21161.616161616163\n",
      "Vap_out temperature Tout =  371.1610730578918\n",
      "Purity =  0.08488473534401025\n",
      "... solve successful.\n",
      "Simulating with Q =  26202.020202020205\n",
      "Vap_out temperature Tout =  371.16833034776494\n",
      "Purity =  0.08441906118250106\n",
      "... solve successful.\n",
      "Simulating with Q =  31242.424242424244\n",
      "Vap_out temperature Tout =  371.17554039055904\n",
      "Purity =  0.08395609398583366\n",
      "... solve successful.\n",
      "Simulating with Q =  36282.82828282828\n",
      "Vap_out temperature Tout =  371.1827052772972\n",
      "Purity =  0.08349583358196161\n",
      "... solve successful.\n",
      "Simulating with Q =  41323.232323232325\n",
      "Vap_out temperature Tout =  371.18982577460105\n",
      "Purity =  0.08303827951011584\n",
      "... solve successful.\n",
      "Simulating with Q =  46363.63636363637\n",
      "Vap_out temperature Tout =  371.19690224691396\n",
      "Purity =  0.08258343098905754\n",
      "... solve successful.\n",
      "Simulating with Q =  51404.04040404041\n",
      "Vap_out temperature Tout =  371.2039349045617\n",
      "Purity =  0.08213128690781812\n",
      "... solve successful.\n",
      "Simulating with Q =  56444.444444444445\n",
      "Vap_out temperature Tout =  371.21092389014757\n",
      "Purity =  0.08168184582360684\n",
      "... solve successful.\n",
      "Simulating with Q =  61484.84848484849\n",
      "Vap_out temperature Tout =  371.2178693141363\n",
      "Purity =  0.08123510596251292\n",
      "... solve successful.\n",
      "Simulating with Q =  66525.25252525252\n",
      "Vap_out temperature Tout =  371.22477127136153\n",
      "Purity =  0.08079106522147203\n",
      "... solve successful.\n",
      "Simulating with Q =  71565.65656565657\n",
      "Vap_out temperature Tout =  371.2316298493919\n",
      "Purity =  0.08034972117091049\n",
      "... solve successful.\n",
      "Simulating with Q =  76606.06060606061\n",
      "Vap_out temperature Tout =  371.238445133071\n",
      "Purity =  0.07991107105779272\n",
      "... solve successful.\n",
      "Simulating with Q =  81646.46464646465\n",
      "Vap_out temperature Tout =  371.24521720711454\n",
      "Purity =  0.07947511180895117\n",
      "... solve successful.\n",
      "Simulating with Q =  86686.8686868687\n",
      "Vap_out temperature Tout =  371.25194615765827\n",
      "Purity =  0.07904184003462669\n",
      "... solve successful.\n",
      "Simulating with Q =  91727.27272727274\n",
      "Vap_out temperature Tout =  371.25863207320884\n",
      "Purity =  0.07861125203218433\n",
      "... solve successful.\n",
      "Simulating with Q =  96767.67676767678\n",
      "Vap_out temperature Tout =  371.2652750452403\n",
      "Purity =  0.0781833437899809\n",
      "... solve successful.\n",
      "Simulating with Q =  101808.08080808082\n",
      "Vap_out temperature Tout =  371.2718751685714\n",
      "Purity =  0.07775811099136666\n",
      "... solve successful.\n",
      "Simulating with Q =  106848.48484848485\n",
      "Vap_out temperature Tout =  371.2784325416032\n",
      "Purity =  0.07733554901881237\n",
      "... solve successful.\n",
      "Simulating with Q =  111888.88888888889\n",
      "Vap_out temperature Tout =  371.2849472664651\n",
      "Purity =  0.07691565295814995\n",
      "... solve successful.\n",
      "Simulating with Q =  116929.29292929293\n",
      "Vap_out temperature Tout =  371.2914194490986\n",
      "Purity =  0.07649841760292268\n",
      "... solve successful.\n",
      "Simulating with Q =  121969.69696969698\n",
      "Vap_out temperature Tout =  371.29784919929864\n",
      "Purity =  0.07608383745883428\n",
      "... solve successful.\n",
      "Simulating with Q =  127010.10101010102\n",
      "Vap_out temperature Tout =  371.30423663072406\n",
      "Purity =  0.07567190674829402\n",
      "... solve successful.\n",
      "Simulating with Q =  132050.50505050505\n",
      "Vap_out temperature Tout =  371.3105818608874\n",
      "Purity =  0.0752626194150499\n",
      "... solve successful.\n",
      "Simulating with Q =  137090.9090909091\n",
      "Vap_out temperature Tout =  371.3168850111275\n",
      "Purity =  0.07485596912890555\n",
      "... solve successful.\n",
      "Simulating with Q =  142131.31313131313\n",
      "Vap_out temperature Tout =  371.32314620657087\n",
      "Purity =  0.07445194929051552\n",
      "... solve successful.\n",
      "Simulating with Q =  147171.71717171717\n",
      "Vap_out temperature Tout =  371.32936557608355\n",
      "Purity =  0.07405055303625169\n",
      "... solve successful.\n",
      "Simulating with Q =  152212.12121212122\n",
      "Vap_out temperature Tout =  371.3355432522163\n",
      "Purity =  0.07365177324313948\n",
      "... solve successful.\n",
      "Simulating with Q =  157252.52525252526\n",
      "Vap_out temperature Tout =  371.34167937114466\n",
      "Purity =  0.07325560253385377\n",
      "... solve successful.\n",
      "Simulating with Q =  162292.9292929293\n",
      "Vap_out temperature Tout =  371.34777407260304\n",
      "Purity =  0.07286203328177339\n",
      "... solve successful.\n",
      "Simulating with Q =  167333.33333333334\n",
      "Vap_out temperature Tout =  371.3538274998178\n",
      "Purity =  0.07247105761608755\n",
      "... solve successful.\n",
      "Simulating with Q =  172373.7373737374\n",
      "Vap_out temperature Tout =  371.3598397994353\n",
      "Purity =  0.07208266742694942\n",
      "... solve successful.\n",
      "Simulating with Q =  177414.14141414143\n",
      "Vap_out temperature Tout =  371.3658111214492\n",
      "Purity =  0.0716968543706719\n",
      "... solve successful.\n",
      "Simulating with Q =  182454.54545454547\n",
      "Vap_out temperature Tout =  371.37174161912543\n",
      "Purity =  0.0713136098749602\n",
      "... solve successful.\n",
      "Simulating with Q =  187494.9494949495\n",
      "Vap_out temperature Tout =  371.3776314489252\n",
      "Purity =  0.07093292514417857\n",
      "... solve successful.\n",
      "Simulating with Q =  192535.35353535356\n",
      "Vap_out temperature Tout =  371.3834807704274\n",
      "Purity =  0.0705547911646428\n",
      "... solve successful.\n",
      "Simulating with Q =  197575.7575757576\n",
      "Vap_out temperature Tout =  371.3892897462503\n",
      "Purity =  0.07017919870993813\n",
      "... solve successful.\n",
      "Simulating with Q =  202616.16161616164\n",
      "Vap_out temperature Tout =  371.395058541971\n",
      "Purity =  0.06980613834625479\n",
      "... solve successful.\n",
      "Simulating with Q =  207656.56565656565\n",
      "Vap_out temperature Tout =  371.4007873260465\n",
      "Purity =  0.06943560043773733\n",
      "... solve successful.\n",
      "Simulating with Q =  212696.9696969697\n",
      "Vap_out temperature Tout =  371.4064762697321\n",
      "Purity =  0.06906757515184488\n",
      "... solve successful.\n",
      "Simulating with Q =  217737.37373737374\n",
      "Vap_out temperature Tout =  371.41212554700087\n",
      "Purity =  0.06870205246471629\n",
      "... solve successful.\n",
      "Simulating with Q =  222777.77777777778\n",
      "Vap_out temperature Tout =  371.4177353344626\n",
      "Purity =  0.0683390221665371\n",
      "... solve successful.\n",
      "Simulating with Q =  227818.18181818182\n",
      "Vap_out temperature Tout =  371.42330581128203\n",
      "Purity =  0.06797847386690334\n",
      "... solve successful.\n",
      "Simulating with Q =  232858.58585858587\n",
      "Vap_out temperature Tout =  371.4288371590985\n",
      "Purity =  0.06762039700017863\n",
      "... solve successful.\n",
      "Simulating with Q =  237898.9898989899\n",
      "Vap_out temperature Tout =  371.43432956194357\n",
      "Purity =  0.06726478083084111\n",
      "... solve successful.\n",
      "Simulating with Q =  242939.39393939395\n",
      "Vap_out temperature Tout =  371.439783206161\n",
      "Purity =  0.06691161445881541\n",
      "... solve successful.\n",
      "Simulating with Q =  247979.797979798\n",
      "Vap_out temperature Tout =  371.4451982803253\n",
      "Purity =  0.06656088682478659\n",
      "... solve successful.\n",
      "Simulating with Q =  253020.20202020204\n",
      "Vap_out temperature Tout =  371.4505749751615\n",
      "Purity =  0.06621258671549299\n",
      "... solve successful.\n",
      "Simulating with Q =  258060.60606060608\n",
      "Vap_out temperature Tout =  371.4559134834648\n",
      "Purity =  0.06586670276899337\n",
      "... solve successful.\n",
      "Simulating with Q =  263101.0101010101\n",
      "Vap_out temperature Tout =  371.4612140000212\n",
      "Purity =  0.06552322347990557\n",
      "... solve successful.\n",
      "Simulating with Q =  268141.41414141416\n",
      "Vap_out temperature Tout =  371.466476721528\n",
      "Purity =  0.06518213720461397\n",
      "... solve successful.\n",
      "Simulating with Q =  273181.8181818182\n",
      "Vap_out temperature Tout =  371.47170184651515\n",
      "Purity =  0.06484343216644185\n",
      "... solve successful.\n",
      "Simulating with Q =  278222.22222222225\n",
      "Vap_out temperature Tout =  371.47688957526714\n",
      "Purity =  0.06450709646078576\n",
      "... solve successful.\n",
      "Simulating with Q =  283262.62626262626\n",
      "Vap_out temperature Tout =  371.4820401097458\n",
      "Purity =  0.06417311806021031\n",
      "... solve successful.\n",
      "Simulating with Q =  288303.03030303033\n",
      "Vap_out temperature Tout =  371.4871536535133\n",
      "Purity =  0.06384148481949788\n",
      "... solve successful.\n",
      "Simulating with Q =  293343.43434343435\n",
      "Vap_out temperature Tout =  371.49223041165607\n",
      "Purity =  0.06351218448065421\n",
      "... solve successful.\n",
      "Simulating with Q =  298383.8383838384\n",
      "Vap_out temperature Tout =  371.49727059070966\n",
      "Purity =  0.0631852046778641\n",
      "... solve successful.\n",
      "Simulating with Q =  303424.24242424243\n",
      "Vap_out temperature Tout =  371.5022743985846\n",
      "Purity =  0.06286053294239694\n",
      "... solve successful.\n",
      "Simulating with Q =  308464.6464646465\n",
      "Vap_out temperature Tout =  371.50724204449205\n",
      "Purity =  0.06253815670745909\n",
      "... solve successful.\n",
      "Simulating with Q =  313505.0505050505\n",
      "Vap_out temperature Tout =  371.512173738872\n",
      "Purity =  0.062218063312990526\n",
      "... solve successful.\n",
      "Simulating with Q =  318545.4545454546\n",
      "Vap_out temperature Tout =  371.51706969332076\n",
      "Purity =  0.06190024001040496\n",
      "... solve successful.\n",
      "Simulating with Q =  323585.8585858586\n",
      "Vap_out temperature Tout =  371.5219301205203\n",
      "Purity =  0.061584673967269875\n",
      "... solve successful.\n",
      "Simulating with Q =  328626.2626262626\n",
      "Vap_out temperature Tout =  371.5267552341687\n",
      "Purity =  0.0612713522719265\n",
      "... solve successful.\n",
      "Simulating with Q =  333666.6666666667\n",
      "Vap_out temperature Tout =  371.5315452489108\n",
      "Purity =  0.0609602619380461\n",
      "... solve successful.\n",
      "Simulating with Q =  338707.0707070707\n",
      "Vap_out temperature Tout =  371.53630038027035\n",
      "Purity =  0.060651389909122985\n",
      "... solve successful.\n",
      "Simulating with Q =  343747.4747474748\n",
      "Vap_out temperature Tout =  371.54102084458356\n",
      "Purity =  0.06034472306290106\n",
      "... solve successful.\n",
      "Simulating with Q =  348787.8787878788\n",
      "Vap_out temperature Tout =  371.54570685893316\n",
      "Purity =  0.060040248215734\n",
      "... solve successful.\n",
      "Simulating with Q =  353828.28282828286\n",
      "Vap_out temperature Tout =  371.55035864108345\n",
      "Purity =  0.05973795212687648\n",
      "... solve successful.\n",
      "Simulating with Q =  358868.68686868687\n",
      "Vap_out temperature Tout =  371.55497640941695\n",
      "Purity =  0.05943782150270639\n",
      "... solve successful.\n",
      "Simulating with Q =  363909.09090909094\n",
      "Vap_out temperature Tout =  371.55956038287184\n",
      "Purity =  0.05913984300087697\n",
      "... solve successful.\n",
      "Simulating with Q =  368949.49494949495\n",
      "Vap_out temperature Tout =  371.56411078088104\n",
      "Purity =  0.058844003234396265\n",
      "... solve successful.\n",
      "Simulating with Q =  373989.898989899\n",
      "Vap_out temperature Tout =  371.56862782331103\n",
      "Purity =  0.05855028877563607\n",
      "... solve successful.\n",
      "Simulating with Q =  379030.30303030304\n",
      "Vap_out temperature Tout =  371.5731117304036\n",
      "Purity =  0.05825868616026671\n",
      "... solve successful.\n",
      "Simulating with Q =  384070.7070707071\n",
      "Vap_out temperature Tout =  371.5775627227178\n",
      "Purity =  0.057969181891118375\n",
      "... solve successful.\n",
      "Simulating with Q =  389111.1111111111\n",
      "Vap_out temperature Tout =  371.5819810210728\n",
      "Purity =  0.057681762441969195\n",
      "... solve successful.\n",
      "Simulating with Q =  394151.5151515152\n",
      "Vap_out temperature Tout =  371.586366846493\n",
      "Purity =  0.0573964142612577\n",
      "... solve successful.\n",
      "Simulating with Q =  399191.9191919192\n",
      "Vap_out temperature Tout =  371.59072042015276\n",
      "Purity =  0.05711312377572059\n",
      "... solve successful.\n",
      "Simulating with Q =  404232.3232323233\n",
      "Vap_out temperature Tout =  371.59504196332387\n",
      "Purity =  0.05683187739395538\n",
      "... solve successful.\n",
      "Simulating with Q =  409272.7272727273\n",
      "Vap_out temperature Tout =  371.59933169732335\n",
      "Purity =  0.05655266150990763\n",
      "... solve successful.\n",
      "Simulating with Q =  414313.1313131313\n",
      "Vap_out temperature Tout =  371.6035898434623\n",
      "Purity =  0.056275462506282375\n",
      "... solve successful.\n",
      "Simulating with Q =  419353.5353535354\n",
      "Vap_out temperature Tout =  371.6078166229968\n",
      "Purity =  0.056000266757879565\n",
      "... solve successful.\n",
      "Simulating with Q =  424393.9393939394\n",
      "Vap_out temperature Tout =  371.61201225707833\n",
      "Purity =  0.05572706063485491\n",
      "... solve successful.\n",
      "Simulating with Q =  429434.34343434346\n",
      "Vap_out temperature Tout =  371.61617696670817\n",
      "Purity =  0.055455830505903365\n",
      "... solve successful.\n",
      "Simulating with Q =  434474.7474747475\n",
      "Vap_out temperature Tout =  371.6203109726896\n",
      "Purity =  0.05518656274136897\n",
      "... solve successful.\n",
      "Simulating with Q =  439515.15151515155\n",
      "Vap_out temperature Tout =  371.62441449558366\n",
      "Purity =  0.054919243716278196\n",
      "... solve successful.\n",
      "Simulating with Q =  444555.55555555556\n",
      "Vap_out temperature Tout =  371.6284877556656\n",
      "Purity =  0.05465385981329897\n",
      "... solve successful.\n",
      "Simulating with Q =  449595.95959595963\n",
      "Vap_out temperature Tout =  371.63253097288185\n",
      "Purity =  0.054390397425624876\n",
      "... solve successful.\n",
      "Simulating with Q =  454636.36363636365\n",
      "Vap_out temperature Tout =  371.6365443668085\n",
      "Purity =  0.05412884295978492\n",
      "... solve successful.\n",
      "Simulating with Q =  459676.7676767677\n",
      "Vap_out temperature Tout =  371.6405281566114\n",
      "Purity =  0.05386918283837937\n",
      "... solve successful.\n",
      "Simulating with Q =  464717.17171717173\n",
      "Vap_out temperature Tout =  371.6444825610065\n",
      "Purity =  0.05361140350274293\n",
      "... solve successful.\n",
      "Simulating with Q =  469757.5757575758\n",
      "Vap_out temperature Tout =  371.6484077982219\n",
      "Purity =  0.05335549141553466\n",
      "... solve successful.\n",
      "Simulating with Q =  474797.9797979798\n",
      "Vap_out temperature Tout =  371.6523040859614\n",
      "Purity =  0.05310143306325544\n",
      "... solve successful.\n",
      "Simulating with Q =  479838.3838383839\n",
      "Vap_out temperature Tout =  371.656171641368\n",
      "Purity =  0.052849214958694046\n",
      "... solve successful.\n",
      "Simulating with Q =  484878.7878787879\n",
      "Vap_out temperature Tout =  371.66001068098956\n",
      "Purity =  0.052598823643302824\n",
      "... solve successful.\n",
      "Simulating with Q =  489919.1919191919\n",
      "Vap_out temperature Tout =  371.66382142074514\n",
      "Purity =  0.0523502456895022\n",
      "... solve successful.\n",
      "Simulating with Q =  494959.595959596\n",
      "Vap_out temperature Tout =  371.66760407589237\n",
      "Purity =  0.05210346770291636\n",
      "... solve successful.\n",
      "Simulating with Q =  500000.0\n",
      "Vap_out temperature Tout =  371.6713588609961\n",
      "Purity =  0.051858476324540076\n",
      "... solve successful.\n"
     ]
    },
    {
     "output_type": "display_data",
     "data": {
      "text/plain": "<Figure size 432x288 with 1 Axes>",
      "image/svg+xml": "<?xml version=\"1.0\" encoding=\"utf-8\" standalone=\"no\"?>\r\n<!DOCTYPE svg PUBLIC \"-//W3C//DTD SVG 1.1//EN\"\r\n  \"http://www.w3.org/Graphics/SVG/1.1/DTD/svg11.dtd\">\r\n<svg height=\"265.995469pt\" version=\"1.1\" viewBox=\"0 0 385.78125 265.995469\" width=\"385.78125pt\" xmlns=\"http://www.w3.org/2000/svg\" xmlns:xlink=\"http://www.w3.org/1999/xlink\">\r\n <metadata>\r\n  <rdf:RDF xmlns:cc=\"http://creativecommons.org/ns#\" xmlns:dc=\"http://purl.org/dc/elements/1.1/\" xmlns:rdf=\"http://www.w3.org/1999/02/22-rdf-syntax-ns#\">\r\n   <cc:Work>\r\n    <dc:type rdf:resource=\"http://purl.org/dc/dcmitype/StillImage\"/>\r\n    <dc:date>2021-04-15T12:35:47.376219</dc:date>\r\n    <dc:format>image/svg+xml</dc:format>\r\n    <dc:creator>\r\n     <cc:Agent>\r\n      <dc:title>Matplotlib v3.4.1, https://matplotlib.org/</dc:title>\r\n     </cc:Agent>\r\n    </dc:creator>\r\n   </cc:Work>\r\n  </rdf:RDF>\r\n </metadata>\r\n <defs>\r\n  <style type=\"text/css\">*{stroke-linecap:butt;stroke-linejoin:round;}</style>\r\n </defs>\r\n <g id=\"figure_1\">\r\n  <g id=\"patch_1\">\r\n   <path d=\"M 0 265.995469 \r\nL 385.78125 265.995469 \r\nL 385.78125 0 \r\nL 0 0 \r\nz\r\n\" style=\"fill:none;\"/>\r\n  </g>\r\n  <g id=\"axes_1\">\r\n   <g id=\"patch_2\">\r\n    <path d=\"M 43.78125 228.439219 \r\nL 378.58125 228.439219 \r\nL 378.58125 10.999219 \r\nL 43.78125 10.999219 \r\nz\r\n\" style=\"fill:#ffffff;\"/>\r\n   </g>\r\n   <g id=\"matplotlib.axis_1\">\r\n    <g id=\"xtick_1\">\r\n     <g id=\"line2d_1\">\r\n      <path clip-path=\"url(#p50bd10c809)\" d=\"M 76.93852 228.439219 \r\nL 76.93852 10.999219 \r\n\" style=\"fill:none;stroke:#b0b0b0;stroke-linecap:square;stroke-width:0.8;\"/>\r\n     </g>\r\n     <g id=\"line2d_2\">\r\n      <defs>\r\n       <path d=\"M 0 0 \r\nL 0 3.5 \r\n\" id=\"m0ceacb51fa\" style=\"stroke:#000000;stroke-width:0.8;\"/>\r\n      </defs>\r\n      <g>\r\n       <use style=\"stroke:#000000;stroke-width:0.8;\" x=\"76.93852\" xlink:href=\"#m0ceacb51fa\" y=\"228.439219\"/>\r\n      </g>\r\n     </g>\r\n     <g id=\"text_1\">\r\n      <!-- 310 -->\r\n      <g transform=\"translate(67.39477 243.037656)scale(0.1 -0.1)\">\r\n       <defs>\r\n        <path d=\"M 2597 2516 \r\nQ 3050 2419 3304 2112 \r\nQ 3559 1806 3559 1356 \r\nQ 3559 666 3084 287 \r\nQ 2609 -91 1734 -91 \r\nQ 1441 -91 1130 -33 \r\nQ 819 25 488 141 \r\nL 488 750 \r\nQ 750 597 1062 519 \r\nQ 1375 441 1716 441 \r\nQ 2309 441 2620 675 \r\nQ 2931 909 2931 1356 \r\nQ 2931 1769 2642 2001 \r\nQ 2353 2234 1838 2234 \r\nL 1294 2234 \r\nL 1294 2753 \r\nL 1863 2753 \r\nQ 2328 2753 2575 2939 \r\nQ 2822 3125 2822 3475 \r\nQ 2822 3834 2567 4026 \r\nQ 2313 4219 1838 4219 \r\nQ 1578 4219 1281 4162 \r\nQ 984 4106 628 3988 \r\nL 628 4550 \r\nQ 988 4650 1302 4700 \r\nQ 1616 4750 1894 4750 \r\nQ 2613 4750 3031 4423 \r\nQ 3450 4097 3450 3541 \r\nQ 3450 3153 3228 2886 \r\nQ 3006 2619 2597 2516 \r\nz\r\n\" id=\"DejaVuSans-33\" transform=\"scale(0.015625)\"/>\r\n        <path d=\"M 794 531 \r\nL 1825 531 \r\nL 1825 4091 \r\nL 703 3866 \r\nL 703 4441 \r\nL 1819 4666 \r\nL 2450 4666 \r\nL 2450 531 \r\nL 3481 531 \r\nL 3481 0 \r\nL 794 0 \r\nL 794 531 \r\nz\r\n\" id=\"DejaVuSans-31\" transform=\"scale(0.015625)\"/>\r\n        <path d=\"M 2034 4250 \r\nQ 1547 4250 1301 3770 \r\nQ 1056 3291 1056 2328 \r\nQ 1056 1369 1301 889 \r\nQ 1547 409 2034 409 \r\nQ 2525 409 2770 889 \r\nQ 3016 1369 3016 2328 \r\nQ 3016 3291 2770 3770 \r\nQ 2525 4250 2034 4250 \r\nz\r\nM 2034 4750 \r\nQ 2819 4750 3233 4129 \r\nQ 3647 3509 3647 2328 \r\nQ 3647 1150 3233 529 \r\nQ 2819 -91 2034 -91 \r\nQ 1250 -91 836 529 \r\nQ 422 1150 422 2328 \r\nQ 422 3509 836 4129 \r\nQ 1250 4750 2034 4750 \r\nz\r\n\" id=\"DejaVuSans-30\" transform=\"scale(0.015625)\"/>\r\n       </defs>\r\n       <use xlink:href=\"#DejaVuSans-33\"/>\r\n       <use x=\"63.623047\" xlink:href=\"#DejaVuSans-31\"/>\r\n       <use x=\"127.246094\" xlink:href=\"#DejaVuSans-30\"/>\r\n      </g>\r\n     </g>\r\n    </g>\r\n    <g id=\"xtick_2\">\r\n     <g id=\"line2d_3\">\r\n      <path clip-path=\"url(#p50bd10c809)\" d=\"M 123.38221 228.439219 \r\nL 123.38221 10.999219 \r\n\" style=\"fill:none;stroke:#b0b0b0;stroke-linecap:square;stroke-width:0.8;\"/>\r\n     </g>\r\n     <g id=\"line2d_4\">\r\n      <g>\r\n       <use style=\"stroke:#000000;stroke-width:0.8;\" x=\"123.38221\" xlink:href=\"#m0ceacb51fa\" y=\"228.439219\"/>\r\n      </g>\r\n     </g>\r\n     <g id=\"text_2\">\r\n      <!-- 320 -->\r\n      <g transform=\"translate(113.83846 243.037656)scale(0.1 -0.1)\">\r\n       <defs>\r\n        <path d=\"M 1228 531 \r\nL 3431 531 \r\nL 3431 0 \r\nL 469 0 \r\nL 469 531 \r\nQ 828 903 1448 1529 \r\nQ 2069 2156 2228 2338 \r\nQ 2531 2678 2651 2914 \r\nQ 2772 3150 2772 3378 \r\nQ 2772 3750 2511 3984 \r\nQ 2250 4219 1831 4219 \r\nQ 1534 4219 1204 4116 \r\nQ 875 4013 500 3803 \r\nL 500 4441 \r\nQ 881 4594 1212 4672 \r\nQ 1544 4750 1819 4750 \r\nQ 2544 4750 2975 4387 \r\nQ 3406 4025 3406 3419 \r\nQ 3406 3131 3298 2873 \r\nQ 3191 2616 2906 2266 \r\nQ 2828 2175 2409 1742 \r\nQ 1991 1309 1228 531 \r\nz\r\n\" id=\"DejaVuSans-32\" transform=\"scale(0.015625)\"/>\r\n       </defs>\r\n       <use xlink:href=\"#DejaVuSans-33\"/>\r\n       <use x=\"63.623047\" xlink:href=\"#DejaVuSans-32\"/>\r\n       <use x=\"127.246094\" xlink:href=\"#DejaVuSans-30\"/>\r\n      </g>\r\n     </g>\r\n    </g>\r\n    <g id=\"xtick_3\">\r\n     <g id=\"line2d_5\">\r\n      <path clip-path=\"url(#p50bd10c809)\" d=\"M 169.8259 228.439219 \r\nL 169.8259 10.999219 \r\n\" style=\"fill:none;stroke:#b0b0b0;stroke-linecap:square;stroke-width:0.8;\"/>\r\n     </g>\r\n     <g id=\"line2d_6\">\r\n      <g>\r\n       <use style=\"stroke:#000000;stroke-width:0.8;\" x=\"169.8259\" xlink:href=\"#m0ceacb51fa\" y=\"228.439219\"/>\r\n      </g>\r\n     </g>\r\n     <g id=\"text_3\">\r\n      <!-- 330 -->\r\n      <g transform=\"translate(160.28215 243.037656)scale(0.1 -0.1)\">\r\n       <use xlink:href=\"#DejaVuSans-33\"/>\r\n       <use x=\"63.623047\" xlink:href=\"#DejaVuSans-33\"/>\r\n       <use x=\"127.246094\" xlink:href=\"#DejaVuSans-30\"/>\r\n      </g>\r\n     </g>\r\n    </g>\r\n    <g id=\"xtick_4\">\r\n     <g id=\"line2d_7\">\r\n      <path clip-path=\"url(#p50bd10c809)\" d=\"M 216.26959 228.439219 \r\nL 216.26959 10.999219 \r\n\" style=\"fill:none;stroke:#b0b0b0;stroke-linecap:square;stroke-width:0.8;\"/>\r\n     </g>\r\n     <g id=\"line2d_8\">\r\n      <g>\r\n       <use style=\"stroke:#000000;stroke-width:0.8;\" x=\"216.26959\" xlink:href=\"#m0ceacb51fa\" y=\"228.439219\"/>\r\n      </g>\r\n     </g>\r\n     <g id=\"text_4\">\r\n      <!-- 340 -->\r\n      <g transform=\"translate(206.72584 243.037656)scale(0.1 -0.1)\">\r\n       <defs>\r\n        <path d=\"M 2419 4116 \r\nL 825 1625 \r\nL 2419 1625 \r\nL 2419 4116 \r\nz\r\nM 2253 4666 \r\nL 3047 4666 \r\nL 3047 1625 \r\nL 3713 1625 \r\nL 3713 1100 \r\nL 3047 1100 \r\nL 3047 0 \r\nL 2419 0 \r\nL 2419 1100 \r\nL 313 1100 \r\nL 313 1709 \r\nL 2253 4666 \r\nz\r\n\" id=\"DejaVuSans-34\" transform=\"scale(0.015625)\"/>\r\n       </defs>\r\n       <use xlink:href=\"#DejaVuSans-33\"/>\r\n       <use x=\"63.623047\" xlink:href=\"#DejaVuSans-34\"/>\r\n       <use x=\"127.246094\" xlink:href=\"#DejaVuSans-30\"/>\r\n      </g>\r\n     </g>\r\n    </g>\r\n    <g id=\"xtick_5\">\r\n     <g id=\"line2d_9\">\r\n      <path clip-path=\"url(#p50bd10c809)\" d=\"M 262.71328 228.439219 \r\nL 262.71328 10.999219 \r\n\" style=\"fill:none;stroke:#b0b0b0;stroke-linecap:square;stroke-width:0.8;\"/>\r\n     </g>\r\n     <g id=\"line2d_10\">\r\n      <g>\r\n       <use style=\"stroke:#000000;stroke-width:0.8;\" x=\"262.71328\" xlink:href=\"#m0ceacb51fa\" y=\"228.439219\"/>\r\n      </g>\r\n     </g>\r\n     <g id=\"text_5\">\r\n      <!-- 350 -->\r\n      <g transform=\"translate(253.16953 243.037656)scale(0.1 -0.1)\">\r\n       <defs>\r\n        <path d=\"M 691 4666 \r\nL 3169 4666 \r\nL 3169 4134 \r\nL 1269 4134 \r\nL 1269 2991 \r\nQ 1406 3038 1543 3061 \r\nQ 1681 3084 1819 3084 \r\nQ 2600 3084 3056 2656 \r\nQ 3513 2228 3513 1497 \r\nQ 3513 744 3044 326 \r\nQ 2575 -91 1722 -91 \r\nQ 1428 -91 1123 -41 \r\nQ 819 9 494 109 \r\nL 494 744 \r\nQ 775 591 1075 516 \r\nQ 1375 441 1709 441 \r\nQ 2250 441 2565 725 \r\nQ 2881 1009 2881 1497 \r\nQ 2881 1984 2565 2268 \r\nQ 2250 2553 1709 2553 \r\nQ 1456 2553 1204 2497 \r\nQ 953 2441 691 2322 \r\nL 691 4666 \r\nz\r\n\" id=\"DejaVuSans-35\" transform=\"scale(0.015625)\"/>\r\n       </defs>\r\n       <use xlink:href=\"#DejaVuSans-33\"/>\r\n       <use x=\"63.623047\" xlink:href=\"#DejaVuSans-35\"/>\r\n       <use x=\"127.246094\" xlink:href=\"#DejaVuSans-30\"/>\r\n      </g>\r\n     </g>\r\n    </g>\r\n    <g id=\"xtick_6\">\r\n     <g id=\"line2d_11\">\r\n      <path clip-path=\"url(#p50bd10c809)\" d=\"M 309.156971 228.439219 \r\nL 309.156971 10.999219 \r\n\" style=\"fill:none;stroke:#b0b0b0;stroke-linecap:square;stroke-width:0.8;\"/>\r\n     </g>\r\n     <g id=\"line2d_12\">\r\n      <g>\r\n       <use style=\"stroke:#000000;stroke-width:0.8;\" x=\"309.156971\" xlink:href=\"#m0ceacb51fa\" y=\"228.439219\"/>\r\n      </g>\r\n     </g>\r\n     <g id=\"text_6\">\r\n      <!-- 360 -->\r\n      <g transform=\"translate(299.613221 243.037656)scale(0.1 -0.1)\">\r\n       <defs>\r\n        <path d=\"M 2113 2584 \r\nQ 1688 2584 1439 2293 \r\nQ 1191 2003 1191 1497 \r\nQ 1191 994 1439 701 \r\nQ 1688 409 2113 409 \r\nQ 2538 409 2786 701 \r\nQ 3034 994 3034 1497 \r\nQ 3034 2003 2786 2293 \r\nQ 2538 2584 2113 2584 \r\nz\r\nM 3366 4563 \r\nL 3366 3988 \r\nQ 3128 4100 2886 4159 \r\nQ 2644 4219 2406 4219 \r\nQ 1781 4219 1451 3797 \r\nQ 1122 3375 1075 2522 \r\nQ 1259 2794 1537 2939 \r\nQ 1816 3084 2150 3084 \r\nQ 2853 3084 3261 2657 \r\nQ 3669 2231 3669 1497 \r\nQ 3669 778 3244 343 \r\nQ 2819 -91 2113 -91 \r\nQ 1303 -91 875 529 \r\nQ 447 1150 447 2328 \r\nQ 447 3434 972 4092 \r\nQ 1497 4750 2381 4750 \r\nQ 2619 4750 2861 4703 \r\nQ 3103 4656 3366 4563 \r\nz\r\n\" id=\"DejaVuSans-36\" transform=\"scale(0.015625)\"/>\r\n       </defs>\r\n       <use xlink:href=\"#DejaVuSans-33\"/>\r\n       <use x=\"63.623047\" xlink:href=\"#DejaVuSans-36\"/>\r\n       <use x=\"127.246094\" xlink:href=\"#DejaVuSans-30\"/>\r\n      </g>\r\n     </g>\r\n    </g>\r\n    <g id=\"xtick_7\">\r\n     <g id=\"line2d_13\">\r\n      <path clip-path=\"url(#p50bd10c809)\" d=\"M 355.600661 228.439219 \r\nL 355.600661 10.999219 \r\n\" style=\"fill:none;stroke:#b0b0b0;stroke-linecap:square;stroke-width:0.8;\"/>\r\n     </g>\r\n     <g id=\"line2d_14\">\r\n      <g>\r\n       <use style=\"stroke:#000000;stroke-width:0.8;\" x=\"355.600661\" xlink:href=\"#m0ceacb51fa\" y=\"228.439219\"/>\r\n      </g>\r\n     </g>\r\n     <g id=\"text_7\">\r\n      <!-- 370 -->\r\n      <g transform=\"translate(346.056911 243.037656)scale(0.1 -0.1)\">\r\n       <defs>\r\n        <path d=\"M 525 4666 \r\nL 3525 4666 \r\nL 3525 4397 \r\nL 1831 0 \r\nL 1172 0 \r\nL 2766 4134 \r\nL 525 4134 \r\nL 525 4666 \r\nz\r\n\" id=\"DejaVuSans-37\" transform=\"scale(0.015625)\"/>\r\n       </defs>\r\n       <use xlink:href=\"#DejaVuSans-33\"/>\r\n       <use x=\"63.623047\" xlink:href=\"#DejaVuSans-37\"/>\r\n       <use x=\"127.246094\" xlink:href=\"#DejaVuSans-30\"/>\r\n      </g>\r\n     </g>\r\n    </g>\r\n    <g id=\"text_8\">\r\n     <!-- Outlet Temperature [K] -->\r\n     <g transform=\"translate(153.6625 256.715781)scale(0.1 -0.1)\">\r\n      <defs>\r\n       <path d=\"M 2522 4238 \r\nQ 1834 4238 1429 3725 \r\nQ 1025 3213 1025 2328 \r\nQ 1025 1447 1429 934 \r\nQ 1834 422 2522 422 \r\nQ 3209 422 3611 934 \r\nQ 4013 1447 4013 2328 \r\nQ 4013 3213 3611 3725 \r\nQ 3209 4238 2522 4238 \r\nz\r\nM 2522 4750 \r\nQ 3503 4750 4090 4092 \r\nQ 4678 3434 4678 2328 \r\nQ 4678 1225 4090 567 \r\nQ 3503 -91 2522 -91 \r\nQ 1538 -91 948 565 \r\nQ 359 1222 359 2328 \r\nQ 359 3434 948 4092 \r\nQ 1538 4750 2522 4750 \r\nz\r\n\" id=\"DejaVuSans-4f\" transform=\"scale(0.015625)\"/>\r\n       <path d=\"M 544 1381 \r\nL 544 3500 \r\nL 1119 3500 \r\nL 1119 1403 \r\nQ 1119 906 1312 657 \r\nQ 1506 409 1894 409 \r\nQ 2359 409 2629 706 \r\nQ 2900 1003 2900 1516 \r\nL 2900 3500 \r\nL 3475 3500 \r\nL 3475 0 \r\nL 2900 0 \r\nL 2900 538 \r\nQ 2691 219 2414 64 \r\nQ 2138 -91 1772 -91 \r\nQ 1169 -91 856 284 \r\nQ 544 659 544 1381 \r\nz\r\nM 1991 3584 \r\nL 1991 3584 \r\nz\r\n\" id=\"DejaVuSans-75\" transform=\"scale(0.015625)\"/>\r\n       <path d=\"M 1172 4494 \r\nL 1172 3500 \r\nL 2356 3500 \r\nL 2356 3053 \r\nL 1172 3053 \r\nL 1172 1153 \r\nQ 1172 725 1289 603 \r\nQ 1406 481 1766 481 \r\nL 2356 481 \r\nL 2356 0 \r\nL 1766 0 \r\nQ 1100 0 847 248 \r\nQ 594 497 594 1153 \r\nL 594 3053 \r\nL 172 3053 \r\nL 172 3500 \r\nL 594 3500 \r\nL 594 4494 \r\nL 1172 4494 \r\nz\r\n\" id=\"DejaVuSans-74\" transform=\"scale(0.015625)\"/>\r\n       <path d=\"M 603 4863 \r\nL 1178 4863 \r\nL 1178 0 \r\nL 603 0 \r\nL 603 4863 \r\nz\r\n\" id=\"DejaVuSans-6c\" transform=\"scale(0.015625)\"/>\r\n       <path d=\"M 3597 1894 \r\nL 3597 1613 \r\nL 953 1613 \r\nQ 991 1019 1311 708 \r\nQ 1631 397 2203 397 \r\nQ 2534 397 2845 478 \r\nQ 3156 559 3463 722 \r\nL 3463 178 \r\nQ 3153 47 2828 -22 \r\nQ 2503 -91 2169 -91 \r\nQ 1331 -91 842 396 \r\nQ 353 884 353 1716 \r\nQ 353 2575 817 3079 \r\nQ 1281 3584 2069 3584 \r\nQ 2775 3584 3186 3129 \r\nQ 3597 2675 3597 1894 \r\nz\r\nM 3022 2063 \r\nQ 3016 2534 2758 2815 \r\nQ 2500 3097 2075 3097 \r\nQ 1594 3097 1305 2825 \r\nQ 1016 2553 972 2059 \r\nL 3022 2063 \r\nz\r\n\" id=\"DejaVuSans-65\" transform=\"scale(0.015625)\"/>\r\n       <path id=\"DejaVuSans-20\" transform=\"scale(0.015625)\"/>\r\n       <path d=\"M -19 4666 \r\nL 3928 4666 \r\nL 3928 4134 \r\nL 2272 4134 \r\nL 2272 0 \r\nL 1638 0 \r\nL 1638 4134 \r\nL -19 4134 \r\nL -19 4666 \r\nz\r\n\" id=\"DejaVuSans-54\" transform=\"scale(0.015625)\"/>\r\n       <path d=\"M 3328 2828 \r\nQ 3544 3216 3844 3400 \r\nQ 4144 3584 4550 3584 \r\nQ 5097 3584 5394 3201 \r\nQ 5691 2819 5691 2113 \r\nL 5691 0 \r\nL 5113 0 \r\nL 5113 2094 \r\nQ 5113 2597 4934 2840 \r\nQ 4756 3084 4391 3084 \r\nQ 3944 3084 3684 2787 \r\nQ 3425 2491 3425 1978 \r\nL 3425 0 \r\nL 2847 0 \r\nL 2847 2094 \r\nQ 2847 2600 2669 2842 \r\nQ 2491 3084 2119 3084 \r\nQ 1678 3084 1418 2786 \r\nQ 1159 2488 1159 1978 \r\nL 1159 0 \r\nL 581 0 \r\nL 581 3500 \r\nL 1159 3500 \r\nL 1159 2956 \r\nQ 1356 3278 1631 3431 \r\nQ 1906 3584 2284 3584 \r\nQ 2666 3584 2933 3390 \r\nQ 3200 3197 3328 2828 \r\nz\r\n\" id=\"DejaVuSans-6d\" transform=\"scale(0.015625)\"/>\r\n       <path d=\"M 1159 525 \r\nL 1159 -1331 \r\nL 581 -1331 \r\nL 581 3500 \r\nL 1159 3500 \r\nL 1159 2969 \r\nQ 1341 3281 1617 3432 \r\nQ 1894 3584 2278 3584 \r\nQ 2916 3584 3314 3078 \r\nQ 3713 2572 3713 1747 \r\nQ 3713 922 3314 415 \r\nQ 2916 -91 2278 -91 \r\nQ 1894 -91 1617 61 \r\nQ 1341 213 1159 525 \r\nz\r\nM 3116 1747 \r\nQ 3116 2381 2855 2742 \r\nQ 2594 3103 2138 3103 \r\nQ 1681 3103 1420 2742 \r\nQ 1159 2381 1159 1747 \r\nQ 1159 1113 1420 752 \r\nQ 1681 391 2138 391 \r\nQ 2594 391 2855 752 \r\nQ 3116 1113 3116 1747 \r\nz\r\n\" id=\"DejaVuSans-70\" transform=\"scale(0.015625)\"/>\r\n       <path d=\"M 2631 2963 \r\nQ 2534 3019 2420 3045 \r\nQ 2306 3072 2169 3072 \r\nQ 1681 3072 1420 2755 \r\nQ 1159 2438 1159 1844 \r\nL 1159 0 \r\nL 581 0 \r\nL 581 3500 \r\nL 1159 3500 \r\nL 1159 2956 \r\nQ 1341 3275 1631 3429 \r\nQ 1922 3584 2338 3584 \r\nQ 2397 3584 2469 3576 \r\nQ 2541 3569 2628 3553 \r\nL 2631 2963 \r\nz\r\n\" id=\"DejaVuSans-72\" transform=\"scale(0.015625)\"/>\r\n       <path d=\"M 2194 1759 \r\nQ 1497 1759 1228 1600 \r\nQ 959 1441 959 1056 \r\nQ 959 750 1161 570 \r\nQ 1363 391 1709 391 \r\nQ 2188 391 2477 730 \r\nQ 2766 1069 2766 1631 \r\nL 2766 1759 \r\nL 2194 1759 \r\nz\r\nM 3341 1997 \r\nL 3341 0 \r\nL 2766 0 \r\nL 2766 531 \r\nQ 2569 213 2275 61 \r\nQ 1981 -91 1556 -91 \r\nQ 1019 -91 701 211 \r\nQ 384 513 384 1019 \r\nQ 384 1609 779 1909 \r\nQ 1175 2209 1959 2209 \r\nL 2766 2209 \r\nL 2766 2266 \r\nQ 2766 2663 2505 2880 \r\nQ 2244 3097 1772 3097 \r\nQ 1472 3097 1187 3025 \r\nQ 903 2953 641 2809 \r\nL 641 3341 \r\nQ 956 3463 1253 3523 \r\nQ 1550 3584 1831 3584 \r\nQ 2591 3584 2966 3190 \r\nQ 3341 2797 3341 1997 \r\nz\r\n\" id=\"DejaVuSans-61\" transform=\"scale(0.015625)\"/>\r\n       <path d=\"M 550 4863 \r\nL 1875 4863 \r\nL 1875 4416 \r\nL 1125 4416 \r\nL 1125 -397 \r\nL 1875 -397 \r\nL 1875 -844 \r\nL 550 -844 \r\nL 550 4863 \r\nz\r\n\" id=\"DejaVuSans-5b\" transform=\"scale(0.015625)\"/>\r\n       <path d=\"M 628 4666 \r\nL 1259 4666 \r\nL 1259 2694 \r\nL 3353 4666 \r\nL 4166 4666 \r\nL 1850 2491 \r\nL 4331 0 \r\nL 3500 0 \r\nL 1259 2247 \r\nL 1259 0 \r\nL 628 0 \r\nL 628 4666 \r\nz\r\n\" id=\"DejaVuSans-4b\" transform=\"scale(0.015625)\"/>\r\n       <path d=\"M 1947 4863 \r\nL 1947 -844 \r\nL 622 -844 \r\nL 622 -397 \r\nL 1369 -397 \r\nL 1369 4416 \r\nL 622 4416 \r\nL 622 4863 \r\nL 1947 4863 \r\nz\r\n\" id=\"DejaVuSans-5d\" transform=\"scale(0.015625)\"/>\r\n      </defs>\r\n      <use xlink:href=\"#DejaVuSans-4f\"/>\r\n      <use x=\"78.710938\" xlink:href=\"#DejaVuSans-75\"/>\r\n      <use x=\"142.089844\" xlink:href=\"#DejaVuSans-74\"/>\r\n      <use x=\"181.298828\" xlink:href=\"#DejaVuSans-6c\"/>\r\n      <use x=\"209.082031\" xlink:href=\"#DejaVuSans-65\"/>\r\n      <use x=\"270.605469\" xlink:href=\"#DejaVuSans-74\"/>\r\n      <use x=\"309.814453\" xlink:href=\"#DejaVuSans-20\"/>\r\n      <use x=\"341.601562\" xlink:href=\"#DejaVuSans-54\"/>\r\n      <use x=\"385.685547\" xlink:href=\"#DejaVuSans-65\"/>\r\n      <use x=\"447.208984\" xlink:href=\"#DejaVuSans-6d\"/>\r\n      <use x=\"544.621094\" xlink:href=\"#DejaVuSans-70\"/>\r\n      <use x=\"608.097656\" xlink:href=\"#DejaVuSans-65\"/>\r\n      <use x=\"669.621094\" xlink:href=\"#DejaVuSans-72\"/>\r\n      <use x=\"710.734375\" xlink:href=\"#DejaVuSans-61\"/>\r\n      <use x=\"772.013672\" xlink:href=\"#DejaVuSans-74\"/>\r\n      <use x=\"811.222656\" xlink:href=\"#DejaVuSans-75\"/>\r\n      <use x=\"874.601562\" xlink:href=\"#DejaVuSans-72\"/>\r\n      <use x=\"913.464844\" xlink:href=\"#DejaVuSans-65\"/>\r\n      <use x=\"974.988281\" xlink:href=\"#DejaVuSans-20\"/>\r\n      <use x=\"1006.775391\" xlink:href=\"#DejaVuSans-5b\"/>\r\n      <use x=\"1045.789062\" xlink:href=\"#DejaVuSans-4b\"/>\r\n      <use x=\"1111.365234\" xlink:href=\"#DejaVuSans-5d\"/>\r\n     </g>\r\n    </g>\r\n   </g>\r\n   <g id=\"matplotlib.axis_2\">\r\n    <g id=\"ytick_1\">\r\n     <g id=\"line2d_15\">\r\n      <path clip-path=\"url(#p50bd10c809)\" d=\"M 43.78125 228.439219 \r\nL 378.58125 228.439219 \r\n\" style=\"fill:none;stroke:#b0b0b0;stroke-linecap:square;stroke-width:0.8;\"/>\r\n     </g>\r\n     <g id=\"line2d_16\">\r\n      <defs>\r\n       <path d=\"M 0 0 \r\nL -3.5 0 \r\n\" id=\"ma48569c506\" style=\"stroke:#000000;stroke-width:0.8;\"/>\r\n      </defs>\r\n      <g>\r\n       <use style=\"stroke:#000000;stroke-width:0.8;\" x=\"43.78125\" xlink:href=\"#ma48569c506\" y=\"228.439219\"/>\r\n      </g>\r\n     </g>\r\n     <g id=\"text_9\">\r\n      <!-- 0.0 -->\r\n      <g transform=\"translate(20.878125 232.238437)scale(0.1 -0.1)\">\r\n       <defs>\r\n        <path d=\"M 684 794 \r\nL 1344 794 \r\nL 1344 0 \r\nL 684 0 \r\nL 684 794 \r\nz\r\n\" id=\"DejaVuSans-2e\" transform=\"scale(0.015625)\"/>\r\n       </defs>\r\n       <use xlink:href=\"#DejaVuSans-30\"/>\r\n       <use x=\"63.623047\" xlink:href=\"#DejaVuSans-2e\"/>\r\n       <use x=\"95.410156\" xlink:href=\"#DejaVuSans-30\"/>\r\n      </g>\r\n     </g>\r\n    </g>\r\n    <g id=\"ytick_2\">\r\n     <g id=\"line2d_17\">\r\n      <path clip-path=\"url(#p50bd10c809)\" d=\"M 43.78125 184.951219 \r\nL 378.58125 184.951219 \r\n\" style=\"fill:none;stroke:#b0b0b0;stroke-linecap:square;stroke-width:0.8;\"/>\r\n     </g>\r\n     <g id=\"line2d_18\">\r\n      <g>\r\n       <use style=\"stroke:#000000;stroke-width:0.8;\" x=\"43.78125\" xlink:href=\"#ma48569c506\" y=\"184.951219\"/>\r\n      </g>\r\n     </g>\r\n     <g id=\"text_10\">\r\n      <!-- 0.2 -->\r\n      <g transform=\"translate(20.878125 188.750437)scale(0.1 -0.1)\">\r\n       <use xlink:href=\"#DejaVuSans-30\"/>\r\n       <use x=\"63.623047\" xlink:href=\"#DejaVuSans-2e\"/>\r\n       <use x=\"95.410156\" xlink:href=\"#DejaVuSans-32\"/>\r\n      </g>\r\n     </g>\r\n    </g>\r\n    <g id=\"ytick_3\">\r\n     <g id=\"line2d_19\">\r\n      <path clip-path=\"url(#p50bd10c809)\" d=\"M 43.78125 141.463219 \r\nL 378.58125 141.463219 \r\n\" style=\"fill:none;stroke:#b0b0b0;stroke-linecap:square;stroke-width:0.8;\"/>\r\n     </g>\r\n     <g id=\"line2d_20\">\r\n      <g>\r\n       <use style=\"stroke:#000000;stroke-width:0.8;\" x=\"43.78125\" xlink:href=\"#ma48569c506\" y=\"141.463219\"/>\r\n      </g>\r\n     </g>\r\n     <g id=\"text_11\">\r\n      <!-- 0.4 -->\r\n      <g transform=\"translate(20.878125 145.262437)scale(0.1 -0.1)\">\r\n       <use xlink:href=\"#DejaVuSans-30\"/>\r\n       <use x=\"63.623047\" xlink:href=\"#DejaVuSans-2e\"/>\r\n       <use x=\"95.410156\" xlink:href=\"#DejaVuSans-34\"/>\r\n      </g>\r\n     </g>\r\n    </g>\r\n    <g id=\"ytick_4\">\r\n     <g id=\"line2d_21\">\r\n      <path clip-path=\"url(#p50bd10c809)\" d=\"M 43.78125 97.975219 \r\nL 378.58125 97.975219 \r\n\" style=\"fill:none;stroke:#b0b0b0;stroke-linecap:square;stroke-width:0.8;\"/>\r\n     </g>\r\n     <g id=\"line2d_22\">\r\n      <g>\r\n       <use style=\"stroke:#000000;stroke-width:0.8;\" x=\"43.78125\" xlink:href=\"#ma48569c506\" y=\"97.975219\"/>\r\n      </g>\r\n     </g>\r\n     <g id=\"text_12\">\r\n      <!-- 0.6 -->\r\n      <g transform=\"translate(20.878125 101.774437)scale(0.1 -0.1)\">\r\n       <use xlink:href=\"#DejaVuSans-30\"/>\r\n       <use x=\"63.623047\" xlink:href=\"#DejaVuSans-2e\"/>\r\n       <use x=\"95.410156\" xlink:href=\"#DejaVuSans-36\"/>\r\n      </g>\r\n     </g>\r\n    </g>\r\n    <g id=\"ytick_5\">\r\n     <g id=\"line2d_23\">\r\n      <path clip-path=\"url(#p50bd10c809)\" d=\"M 43.78125 54.487219 \r\nL 378.58125 54.487219 \r\n\" style=\"fill:none;stroke:#b0b0b0;stroke-linecap:square;stroke-width:0.8;\"/>\r\n     </g>\r\n     <g id=\"line2d_24\">\r\n      <g>\r\n       <use style=\"stroke:#000000;stroke-width:0.8;\" x=\"43.78125\" xlink:href=\"#ma48569c506\" y=\"54.487219\"/>\r\n      </g>\r\n     </g>\r\n     <g id=\"text_13\">\r\n      <!-- 0.8 -->\r\n      <g transform=\"translate(20.878125 58.286437)scale(0.1 -0.1)\">\r\n       <defs>\r\n        <path d=\"M 2034 2216 \r\nQ 1584 2216 1326 1975 \r\nQ 1069 1734 1069 1313 \r\nQ 1069 891 1326 650 \r\nQ 1584 409 2034 409 \r\nQ 2484 409 2743 651 \r\nQ 3003 894 3003 1313 \r\nQ 3003 1734 2745 1975 \r\nQ 2488 2216 2034 2216 \r\nz\r\nM 1403 2484 \r\nQ 997 2584 770 2862 \r\nQ 544 3141 544 3541 \r\nQ 544 4100 942 4425 \r\nQ 1341 4750 2034 4750 \r\nQ 2731 4750 3128 4425 \r\nQ 3525 4100 3525 3541 \r\nQ 3525 3141 3298 2862 \r\nQ 3072 2584 2669 2484 \r\nQ 3125 2378 3379 2068 \r\nQ 3634 1759 3634 1313 \r\nQ 3634 634 3220 271 \r\nQ 2806 -91 2034 -91 \r\nQ 1263 -91 848 271 \r\nQ 434 634 434 1313 \r\nQ 434 1759 690 2068 \r\nQ 947 2378 1403 2484 \r\nz\r\nM 1172 3481 \r\nQ 1172 3119 1398 2916 \r\nQ 1625 2713 2034 2713 \r\nQ 2441 2713 2670 2916 \r\nQ 2900 3119 2900 3481 \r\nQ 2900 3844 2670 4047 \r\nQ 2441 4250 2034 4250 \r\nQ 1625 4250 1398 4047 \r\nQ 1172 3844 1172 3481 \r\nz\r\n\" id=\"DejaVuSans-38\" transform=\"scale(0.015625)\"/>\r\n       </defs>\r\n       <use xlink:href=\"#DejaVuSans-30\"/>\r\n       <use x=\"63.623047\" xlink:href=\"#DejaVuSans-2e\"/>\r\n       <use x=\"95.410156\" xlink:href=\"#DejaVuSans-38\"/>\r\n      </g>\r\n     </g>\r\n    </g>\r\n    <g id=\"ytick_6\">\r\n     <g id=\"line2d_25\">\r\n      <path clip-path=\"url(#p50bd10c809)\" d=\"M 43.78125 10.999219 \r\nL 378.58125 10.999219 \r\n\" style=\"fill:none;stroke:#b0b0b0;stroke-linecap:square;stroke-width:0.8;\"/>\r\n     </g>\r\n     <g id=\"line2d_26\">\r\n      <g>\r\n       <use style=\"stroke:#000000;stroke-width:0.8;\" x=\"43.78125\" xlink:href=\"#ma48569c506\" y=\"10.999219\"/>\r\n      </g>\r\n     </g>\r\n     <g id=\"text_14\">\r\n      <!-- 1.0 -->\r\n      <g transform=\"translate(20.878125 14.798437)scale(0.1 -0.1)\">\r\n       <use xlink:href=\"#DejaVuSans-31\"/>\r\n       <use x=\"63.623047\" xlink:href=\"#DejaVuSans-2e\"/>\r\n       <use x=\"95.410156\" xlink:href=\"#DejaVuSans-30\"/>\r\n      </g>\r\n     </g>\r\n    </g>\r\n    <g id=\"text_15\">\r\n     <!-- Purity [-] -->\r\n     <g transform=\"translate(14.798438 141.473906)rotate(-90)scale(0.1 -0.1)\">\r\n      <defs>\r\n       <path d=\"M 1259 4147 \r\nL 1259 2394 \r\nL 2053 2394 \r\nQ 2494 2394 2734 2622 \r\nQ 2975 2850 2975 3272 \r\nQ 2975 3691 2734 3919 \r\nQ 2494 4147 2053 4147 \r\nL 1259 4147 \r\nz\r\nM 628 4666 \r\nL 2053 4666 \r\nQ 2838 4666 3239 4311 \r\nQ 3641 3956 3641 3272 \r\nQ 3641 2581 3239 2228 \r\nQ 2838 1875 2053 1875 \r\nL 1259 1875 \r\nL 1259 0 \r\nL 628 0 \r\nL 628 4666 \r\nz\r\n\" id=\"DejaVuSans-50\" transform=\"scale(0.015625)\"/>\r\n       <path d=\"M 603 3500 \r\nL 1178 3500 \r\nL 1178 0 \r\nL 603 0 \r\nL 603 3500 \r\nz\r\nM 603 4863 \r\nL 1178 4863 \r\nL 1178 4134 \r\nL 603 4134 \r\nL 603 4863 \r\nz\r\n\" id=\"DejaVuSans-69\" transform=\"scale(0.015625)\"/>\r\n       <path d=\"M 2059 -325 \r\nQ 1816 -950 1584 -1140 \r\nQ 1353 -1331 966 -1331 \r\nL 506 -1331 \r\nL 506 -850 \r\nL 844 -850 \r\nQ 1081 -850 1212 -737 \r\nQ 1344 -625 1503 -206 \r\nL 1606 56 \r\nL 191 3500 \r\nL 800 3500 \r\nL 1894 763 \r\nL 2988 3500 \r\nL 3597 3500 \r\nL 2059 -325 \r\nz\r\n\" id=\"DejaVuSans-79\" transform=\"scale(0.015625)\"/>\r\n       <path d=\"M 313 2009 \r\nL 1997 2009 \r\nL 1997 1497 \r\nL 313 1497 \r\nL 313 2009 \r\nz\r\n\" id=\"DejaVuSans-2d\" transform=\"scale(0.015625)\"/>\r\n      </defs>\r\n      <use xlink:href=\"#DejaVuSans-50\"/>\r\n      <use x=\"58.552734\" xlink:href=\"#DejaVuSans-75\"/>\r\n      <use x=\"121.931641\" xlink:href=\"#DejaVuSans-72\"/>\r\n      <use x=\"163.044922\" xlink:href=\"#DejaVuSans-69\"/>\r\n      <use x=\"190.828125\" xlink:href=\"#DejaVuSans-74\"/>\r\n      <use x=\"230.037109\" xlink:href=\"#DejaVuSans-79\"/>\r\n      <use x=\"289.216797\" xlink:href=\"#DejaVuSans-20\"/>\r\n      <use x=\"321.003906\" xlink:href=\"#DejaVuSans-5b\"/>\r\n      <use x=\"360.017578\" xlink:href=\"#DejaVuSans-2d\"/>\r\n      <use x=\"396.101562\" xlink:href=\"#DejaVuSans-5d\"/>\r\n     </g>\r\n    </g>\r\n   </g>\r\n   <g id=\"line2d_27\">\r\n    <path clip-path=\"url(#p50bd10c809)\" d=\"M 58.999432 119.719219 \r\nL 115.096456 209.674576 \r\nL 360.924084 209.777604 \r\nL 360.959146 209.880037 \r\nL 360.993113 209.981882 \r\nL 361.026818 210.083138 \r\nL 361.060304 210.183806 \r\nL 361.093581 210.283885 \r\nL 361.126651 210.383375 \r\nL 361.159517 210.482278 \r\nL 361.192179 210.580592 \r\nL 361.224638 210.678318 \r\nL 361.256895 210.775457 \r\nL 361.288951 210.87201 \r\nL 361.320804 210.967975 \r\nL 361.352457 211.063355 \r\nL 361.383909 211.15815 \r\nL 361.415161 211.252361 \r\nL 361.446213 211.345988 \r\nL 361.477065 211.439032 \r\nL 361.507718 211.531495 \r\nL 361.538173 211.623377 \r\nL 361.56843 211.714679 \r\nL 361.598489 211.805403 \r\nL 361.628351 211.895549 \r\nL 361.658017 211.985119 \r\nL 361.687487 212.074115 \r\nL 361.716761 212.162537 \r\nL 361.74584 212.250387 \r\nL 361.774725 212.337666 \r\nL 361.803417 212.424377 \r\nL 361.831915 212.510521 \r\nL 361.860221 212.596098 \r\nL 361.888335 212.681112 \r\nL 361.916259 212.765564 \r\nL 361.943992 212.849455 \r\nL 361.971535 212.932787 \r\nL 361.99889 213.015564 \r\nL 362.026056 213.097785 \r\nL 362.053035 213.179454 \r\nL 362.079828 213.260572 \r\nL 362.106434 213.341142 \r\nL 362.132856 213.421165 \r\nL 362.159093 213.500644 \r\nL 362.185147 213.579582 \r\nL 362.211018 213.657979 \r\nL 362.236708 213.73584 \r\nL 362.262217 213.813165 \r\nL 362.287545 213.889957 \r\nL 362.312695 213.96622 \r\nL 362.337666 214.041954 \r\nL 362.36246 214.117163 \r\nL 362.387078 214.191849 \r\nL 362.41152 214.266015 \r\nL 362.435787 214.339663 \r\nL 362.459881 214.412796 \r\nL 362.483802 214.485416 \r\nL 362.507551 214.557526 \r\nL 362.53113 214.629129 \r\nL 362.554538 214.700228 \r\nL 362.577778 214.770824 \r\nL 362.600849 214.840922 \r\nL 362.623754 214.910523 \r\nL 362.646492 214.979631 \r\nL 362.669066 215.048247 \r\nL 362.691476 215.116376 \r\nL 362.713722 215.184019 \r\nL 362.735807 215.251181 \r\nL 362.75773 215.317862 \r\nL 362.779494 215.384067 \r\nL 362.801099 215.449798 \r\nL 362.822545 215.515059 \r\nL 362.843835 215.579851 \r\nL 362.864969 215.644179 \r\nL 362.885947 215.708044 \r\nL 362.906772 215.77145 \r\nL 362.927444 215.8344 \r\nL 362.947965 215.896896 \r\nL 362.968334 215.958942 \r\nL 362.988554 216.020541 \r\nL 363.008624 216.081695 \r\nL 363.028547 216.142408 \r\nL 363.048324 216.202682 \r\nL 363.067955 216.262521 \r\nL 363.087441 216.321927 \r\nL 363.106783 216.380903 \r\nL 363.125983 216.439453 \r\nL 363.145041 216.497578 \r\nL 363.163959 216.555283 \r\nL 363.182737 216.612571 \r\nL 363.201377 216.669443 \r\nL 363.219879 216.725904 \r\nL 363.238245 216.781955 \r\nL 363.256475 216.837601 \r\nL 363.274571 216.892843 \r\nL 363.292533 216.947685 \r\nL 363.310363 217.002131 \r\nL 363.328062 217.056181 \r\nL 363.34563 217.109841 \r\nL 363.363068 217.163112 \r\n\" style=\"fill:none;stroke:#1f77b4;stroke-linecap:square;stroke-width:1.5;\"/>\r\n   </g>\r\n   <g id=\"patch_3\">\r\n    <path d=\"M 43.78125 228.439219 \r\nL 43.78125 10.999219 \r\n\" style=\"fill:none;stroke:#000000;stroke-linecap:square;stroke-linejoin:miter;stroke-width:0.8;\"/>\r\n   </g>\r\n   <g id=\"patch_4\">\r\n    <path d=\"M 378.58125 228.439219 \r\nL 378.58125 10.999219 \r\n\" style=\"fill:none;stroke:#000000;stroke-linecap:square;stroke-linejoin:miter;stroke-width:0.8;\"/>\r\n   </g>\r\n   <g id=\"patch_5\">\r\n    <path d=\"M 43.78125 228.439219 \r\nL 378.58125 228.439219 \r\n\" style=\"fill:none;stroke:#000000;stroke-linecap:square;stroke-linejoin:miter;stroke-width:0.8;\"/>\r\n   </g>\r\n   <g id=\"patch_6\">\r\n    <path d=\"M 43.78125 10.999219 \r\nL 378.58125 10.999219 \r\n\" style=\"fill:none;stroke:#000000;stroke-linecap:square;stroke-linejoin:miter;stroke-width:0.8;\"/>\r\n   </g>\r\n  </g>\r\n </g>\r\n <defs>\r\n  <clipPath id=\"p50bd10c809\">\r\n   <rect height=\"217.44\" width=\"334.8\" x=\"43.78125\" y=\"10.999219\"/>\r\n  </clipPath>\r\n </defs>\r\n</svg>\r\n",
      "image/png": "[encoded data removed]"
     },
     "metadata": {
      "needs_background": "light"
     }
    }
   ],
   "source": [
    "# import the solve_successful checking function from workshop tools\n",
    "from workshoptools import solve_successful\n",
    "\n",
    "# Todo: import numpy\n",
    "import numpy as np\n",
    "\n",
    "# create the empty lists to store the results that will be plotted\n",
    "Q = [] # heat duty of flash2\n",
    "T = [] # vap outlet temperature\n",
    "P = [] # purity in vapor phase\n",
    "\n",
    "# re-initialize model\n",
    "m.fs.flash2.initialize(outlvl=idaeslog.WARNING)\n",
    "\n",
    "# Todo: Write the for loop specification using numpy's linspace\n",
    "for duty in np.linspace(1000, 500000, 100):\n",
    "    # fix the heat duty\n",
    "    m.fs.flash2.heat_duty.fix(duty)\n",
    "    \n",
    "    # append the value of the duty to the Q list\n",
    "    Q.append(duty)\n",
    "\n",
    "    # append vap_out temperature to the T list\n",
    "    tout = value(m.fs.flash2.vap_outlet.temperature[0])\n",
    "    T.append(tout)\n",
    "    \n",
    "    # print the current simulation\n",
    "    print(\"Simulating with Q = \", value(m.fs.flash2.heat_duty[0]))\n",
    "    print(\"Vap_out temperature Tout = \", tout)\n",
    "\n",
    "    # Solve the model\n",
    "    status = solver.solve(m)\n",
    "    \n",
    "    # append the value for purity if the solve was successful\n",
    "    if solve_successful(status):\n",
    "        vap_ethanol = value(m.fs.flash2.vap_outlet.flow_mol_phase_comp[0, \"Vap\", \"ethanol\"])\n",
    "        vap_water = value(m.fs.flash2.vap_outlet.flow_mol_phase_comp[0, \"Vap\", \"water\"])\n",
    "        purity = vap_ethanol / (vap_water + vap_ethanol)\n",
    "        P.append(purity)\n",
    "        print(\"Purity = \", purity)\n",
    "        print('... solve successful.')\n",
    "    else:\n",
    "        P.append(0.0)\n",
    "        print('... solve failed.')\n",
    "    \n",
    "# Create and show the figure\n",
    "plt.figure(\"Purity (Ethanol in Vapor Phase)\")\n",
    "plt.plot(T, P)\n",
    "plt.grid()\n",
    "plt.ylim(0, 1)\n",
    "plt.xlabel(\"Outlet Temperature [K]\")\n",
    "plt.ylabel(\"Purity [-]\")\n",
    "plt.show()"
   ]
  },
  {
   "cell_type": "code",
   "execution_count": 76,
   "metadata": {},
   "outputs": [
    {
     "output_type": "display_data",
     "data": {
      "text/plain": "<Figure size 432x288 with 1 Axes>",
      "image/svg+xml": "<?xml version=\"1.0\" encoding=\"utf-8\" standalone=\"no\"?>\r\n<!DOCTYPE svg PUBLIC \"-//W3C//DTD SVG 1.1//EN\"\r\n  \"http://www.w3.org/Graphics/SVG/1.1/DTD/svg11.dtd\">\r\n<svg height=\"262.19625pt\" version=\"1.1\" viewBox=\"0 0 389.650568 262.19625\" width=\"389.650568pt\" xmlns=\"http://www.w3.org/2000/svg\" xmlns:xlink=\"http://www.w3.org/1999/xlink\">\r\n <metadata>\r\n  <rdf:RDF xmlns:cc=\"http://creativecommons.org/ns#\" xmlns:dc=\"http://purl.org/dc/elements/1.1/\" xmlns:rdf=\"http://www.w3.org/1999/02/22-rdf-syntax-ns#\">\r\n   <cc:Work>\r\n    <dc:type rdf:resource=\"http://purl.org/dc/dcmitype/StillImage\"/>\r\n    <dc:date>2021-04-15T12:36:23.019859</dc:date>\r\n    <dc:format>image/svg+xml</dc:format>\r\n    <dc:creator>\r\n     <cc:Agent>\r\n      <dc:title>Matplotlib v3.4.1, https://matplotlib.org/</dc:title>\r\n     </cc:Agent>\r\n    </dc:creator>\r\n   </cc:Work>\r\n  </rdf:RDF>\r\n </metadata>\r\n <defs>\r\n  <style type=\"text/css\">*{stroke-linecap:butt;stroke-linejoin:round;}</style>\r\n </defs>\r\n <g id=\"figure_1\">\r\n  <g id=\"patch_1\">\r\n   <path d=\"M 0 262.19625 \r\nL 389.650568 262.19625 \r\nL 389.650568 0 \r\nL 0 0 \r\nz\r\n\" style=\"fill:none;\"/>\r\n  </g>\r\n  <g id=\"axes_1\">\r\n   <g id=\"patch_2\">\r\n    <path d=\"M 43.78125 224.64 \r\nL 378.58125 224.64 \r\nL 378.58125 7.2 \r\nL 43.78125 7.2 \r\nz\r\n\" style=\"fill:#ffffff;\"/>\r\n   </g>\r\n   <g id=\"matplotlib.axis_1\">\r\n    <g id=\"xtick_1\">\r\n     <g id=\"line2d_1\">\r\n      <path clip-path=\"url(#pd2d6cdaaad)\" d=\"M 58.389485 224.64 \r\nL 58.389485 7.2 \r\n\" style=\"fill:none;stroke:#b0b0b0;stroke-linecap:square;stroke-width:0.8;\"/>\r\n     </g>\r\n     <g id=\"line2d_2\">\r\n      <defs>\r\n       <path d=\"M 0 0 \r\nL 0 3.5 \r\n\" id=\"mf40bf60d11\" style=\"stroke:#000000;stroke-width:0.8;\"/>\r\n      </defs>\r\n      <g>\r\n       <use style=\"stroke:#000000;stroke-width:0.8;\" x=\"58.389485\" xlink:href=\"#mf40bf60d11\" y=\"224.64\"/>\r\n      </g>\r\n     </g>\r\n     <g id=\"text_1\">\r\n      <!-- 0 -->\r\n      <g transform=\"translate(55.208235 239.238437)scale(0.1 -0.1)\">\r\n       <defs>\r\n        <path d=\"M 2034 4250 \r\nQ 1547 4250 1301 3770 \r\nQ 1056 3291 1056 2328 \r\nQ 1056 1369 1301 889 \r\nQ 1547 409 2034 409 \r\nQ 2525 409 2770 889 \r\nQ 3016 1369 3016 2328 \r\nQ 3016 3291 2770 3770 \r\nQ 2525 4250 2034 4250 \r\nz\r\nM 2034 4750 \r\nQ 2819 4750 3233 4129 \r\nQ 3647 3509 3647 2328 \r\nQ 3647 1150 3233 529 \r\nQ 2819 -91 2034 -91 \r\nQ 1250 -91 836 529 \r\nQ 422 1150 422 2328 \r\nQ 422 3509 836 4129 \r\nQ 1250 4750 2034 4750 \r\nz\r\n\" id=\"DejaVuSans-30\" transform=\"scale(0.015625)\"/>\r\n       </defs>\r\n       <use xlink:href=\"#DejaVuSans-30\"/>\r\n      </g>\r\n     </g>\r\n    </g>\r\n    <g id=\"xtick_2\">\r\n     <g id=\"line2d_3\">\r\n      <path clip-path=\"url(#pd2d6cdaaad)\" d=\"M 119.384201 224.64 \r\nL 119.384201 7.2 \r\n\" style=\"fill:none;stroke:#b0b0b0;stroke-linecap:square;stroke-width:0.8;\"/>\r\n     </g>\r\n     <g id=\"line2d_4\">\r\n      <g>\r\n       <use style=\"stroke:#000000;stroke-width:0.8;\" x=\"119.384201\" xlink:href=\"#mf40bf60d11\" y=\"224.64\"/>\r\n      </g>\r\n     </g>\r\n     <g id=\"text_2\">\r\n      <!-- 100000 -->\r\n      <g transform=\"translate(100.296701 239.238437)scale(0.1 -0.1)\">\r\n       <defs>\r\n        <path d=\"M 794 531 \r\nL 1825 531 \r\nL 1825 4091 \r\nL 703 3866 \r\nL 703 4441 \r\nL 1819 4666 \r\nL 2450 4666 \r\nL 2450 531 \r\nL 3481 531 \r\nL 3481 0 \r\nL 794 0 \r\nL 794 531 \r\nz\r\n\" id=\"DejaVuSans-31\" transform=\"scale(0.015625)\"/>\r\n       </defs>\r\n       <use xlink:href=\"#DejaVuSans-31\"/>\r\n       <use x=\"63.623047\" xlink:href=\"#DejaVuSans-30\"/>\r\n       <use x=\"127.246094\" xlink:href=\"#DejaVuSans-30\"/>\r\n       <use x=\"190.869141\" xlink:href=\"#DejaVuSans-30\"/>\r\n       <use x=\"254.492188\" xlink:href=\"#DejaVuSans-30\"/>\r\n       <use x=\"318.115234\" xlink:href=\"#DejaVuSans-30\"/>\r\n      </g>\r\n     </g>\r\n    </g>\r\n    <g id=\"xtick_3\">\r\n     <g id=\"line2d_5\">\r\n      <path clip-path=\"url(#pd2d6cdaaad)\" d=\"M 180.378918 224.64 \r\nL 180.378918 7.2 \r\n\" style=\"fill:none;stroke:#b0b0b0;stroke-linecap:square;stroke-width:0.8;\"/>\r\n     </g>\r\n     <g id=\"line2d_6\">\r\n      <g>\r\n       <use style=\"stroke:#000000;stroke-width:0.8;\" x=\"180.378918\" xlink:href=\"#mf40bf60d11\" y=\"224.64\"/>\r\n      </g>\r\n     </g>\r\n     <g id=\"text_3\">\r\n      <!-- 200000 -->\r\n      <g transform=\"translate(161.291418 239.238437)scale(0.1 -0.1)\">\r\n       <defs>\r\n        <path d=\"M 1228 531 \r\nL 3431 531 \r\nL 3431 0 \r\nL 469 0 \r\nL 469 531 \r\nQ 828 903 1448 1529 \r\nQ 2069 2156 2228 2338 \r\nQ 2531 2678 2651 2914 \r\nQ 2772 3150 2772 3378 \r\nQ 2772 3750 2511 3984 \r\nQ 2250 4219 1831 4219 \r\nQ 1534 4219 1204 4116 \r\nQ 875 4013 500 3803 \r\nL 500 4441 \r\nQ 881 4594 1212 4672 \r\nQ 1544 4750 1819 4750 \r\nQ 2544 4750 2975 4387 \r\nQ 3406 4025 3406 3419 \r\nQ 3406 3131 3298 2873 \r\nQ 3191 2616 2906 2266 \r\nQ 2828 2175 2409 1742 \r\nQ 1991 1309 1228 531 \r\nz\r\n\" id=\"DejaVuSans-32\" transform=\"scale(0.015625)\"/>\r\n       </defs>\r\n       <use xlink:href=\"#DejaVuSans-32\"/>\r\n       <use x=\"63.623047\" xlink:href=\"#DejaVuSans-30\"/>\r\n       <use x=\"127.246094\" xlink:href=\"#DejaVuSans-30\"/>\r\n       <use x=\"190.869141\" xlink:href=\"#DejaVuSans-30\"/>\r\n       <use x=\"254.492188\" xlink:href=\"#DejaVuSans-30\"/>\r\n       <use x=\"318.115234\" xlink:href=\"#DejaVuSans-30\"/>\r\n      </g>\r\n     </g>\r\n    </g>\r\n    <g id=\"xtick_4\">\r\n     <g id=\"line2d_7\">\r\n      <path clip-path=\"url(#pd2d6cdaaad)\" d=\"M 241.373635 224.64 \r\nL 241.373635 7.2 \r\n\" style=\"fill:none;stroke:#b0b0b0;stroke-linecap:square;stroke-width:0.8;\"/>\r\n     </g>\r\n     <g id=\"line2d_8\">\r\n      <g>\r\n       <use style=\"stroke:#000000;stroke-width:0.8;\" x=\"241.373635\" xlink:href=\"#mf40bf60d11\" y=\"224.64\"/>\r\n      </g>\r\n     </g>\r\n     <g id=\"text_4\">\r\n      <!-- 300000 -->\r\n      <g transform=\"translate(222.286135 239.238437)scale(0.1 -0.1)\">\r\n       <defs>\r\n        <path d=\"M 2597 2516 \r\nQ 3050 2419 3304 2112 \r\nQ 3559 1806 3559 1356 \r\nQ 3559 666 3084 287 \r\nQ 2609 -91 1734 -91 \r\nQ 1441 -91 1130 -33 \r\nQ 819 25 488 141 \r\nL 488 750 \r\nQ 750 597 1062 519 \r\nQ 1375 441 1716 441 \r\nQ 2309 441 2620 675 \r\nQ 2931 909 2931 1356 \r\nQ 2931 1769 2642 2001 \r\nQ 2353 2234 1838 2234 \r\nL 1294 2234 \r\nL 1294 2753 \r\nL 1863 2753 \r\nQ 2328 2753 2575 2939 \r\nQ 2822 3125 2822 3475 \r\nQ 2822 3834 2567 4026 \r\nQ 2313 4219 1838 4219 \r\nQ 1578 4219 1281 4162 \r\nQ 984 4106 628 3988 \r\nL 628 4550 \r\nQ 988 4650 1302 4700 \r\nQ 1616 4750 1894 4750 \r\nQ 2613 4750 3031 4423 \r\nQ 3450 4097 3450 3541 \r\nQ 3450 3153 3228 2886 \r\nQ 3006 2619 2597 2516 \r\nz\r\n\" id=\"DejaVuSans-33\" transform=\"scale(0.015625)\"/>\r\n       </defs>\r\n       <use xlink:href=\"#DejaVuSans-33\"/>\r\n       <use x=\"63.623047\" xlink:href=\"#DejaVuSans-30\"/>\r\n       <use x=\"127.246094\" xlink:href=\"#DejaVuSans-30\"/>\r\n       <use x=\"190.869141\" xlink:href=\"#DejaVuSans-30\"/>\r\n       <use x=\"254.492188\" xlink:href=\"#DejaVuSans-30\"/>\r\n       <use x=\"318.115234\" xlink:href=\"#DejaVuSans-30\"/>\r\n      </g>\r\n     </g>\r\n    </g>\r\n    <g id=\"xtick_5\">\r\n     <g id=\"line2d_9\">\r\n      <path clip-path=\"url(#pd2d6cdaaad)\" d=\"M 302.368351 224.64 \r\nL 302.368351 7.2 \r\n\" style=\"fill:none;stroke:#b0b0b0;stroke-linecap:square;stroke-width:0.8;\"/>\r\n     </g>\r\n     <g id=\"line2d_10\">\r\n      <g>\r\n       <use style=\"stroke:#000000;stroke-width:0.8;\" x=\"302.368351\" xlink:href=\"#mf40bf60d11\" y=\"224.64\"/>\r\n      </g>\r\n     </g>\r\n     <g id=\"text_5\">\r\n      <!-- 400000 -->\r\n      <g transform=\"translate(283.280851 239.238437)scale(0.1 -0.1)\">\r\n       <defs>\r\n        <path d=\"M 2419 4116 \r\nL 825 1625 \r\nL 2419 1625 \r\nL 2419 4116 \r\nz\r\nM 2253 4666 \r\nL 3047 4666 \r\nL 3047 1625 \r\nL 3713 1625 \r\nL 3713 1100 \r\nL 3047 1100 \r\nL 3047 0 \r\nL 2419 0 \r\nL 2419 1100 \r\nL 313 1100 \r\nL 313 1709 \r\nL 2253 4666 \r\nz\r\n\" id=\"DejaVuSans-34\" transform=\"scale(0.015625)\"/>\r\n       </defs>\r\n       <use xlink:href=\"#DejaVuSans-34\"/>\r\n       <use x=\"63.623047\" xlink:href=\"#DejaVuSans-30\"/>\r\n       <use x=\"127.246094\" xlink:href=\"#DejaVuSans-30\"/>\r\n       <use x=\"190.869141\" xlink:href=\"#DejaVuSans-30\"/>\r\n       <use x=\"254.492188\" xlink:href=\"#DejaVuSans-30\"/>\r\n       <use x=\"318.115234\" xlink:href=\"#DejaVuSans-30\"/>\r\n      </g>\r\n     </g>\r\n    </g>\r\n    <g id=\"xtick_6\">\r\n     <g id=\"line2d_11\">\r\n      <path clip-path=\"url(#pd2d6cdaaad)\" d=\"M 363.363068 224.64 \r\nL 363.363068 7.2 \r\n\" style=\"fill:none;stroke:#b0b0b0;stroke-linecap:square;stroke-width:0.8;\"/>\r\n     </g>\r\n     <g id=\"line2d_12\">\r\n      <g>\r\n       <use style=\"stroke:#000000;stroke-width:0.8;\" x=\"363.363068\" xlink:href=\"#mf40bf60d11\" y=\"224.64\"/>\r\n      </g>\r\n     </g>\r\n     <g id=\"text_6\">\r\n      <!-- 500000 -->\r\n      <g transform=\"translate(344.275568 239.238437)scale(0.1 -0.1)\">\r\n       <defs>\r\n        <path d=\"M 691 4666 \r\nL 3169 4666 \r\nL 3169 4134 \r\nL 1269 4134 \r\nL 1269 2991 \r\nQ 1406 3038 1543 3061 \r\nQ 1681 3084 1819 3084 \r\nQ 2600 3084 3056 2656 \r\nQ 3513 2228 3513 1497 \r\nQ 3513 744 3044 326 \r\nQ 2575 -91 1722 -91 \r\nQ 1428 -91 1123 -41 \r\nQ 819 9 494 109 \r\nL 494 744 \r\nQ 775 591 1075 516 \r\nQ 1375 441 1709 441 \r\nQ 2250 441 2565 725 \r\nQ 2881 1009 2881 1497 \r\nQ 2881 1984 2565 2268 \r\nQ 2250 2553 1709 2553 \r\nQ 1456 2553 1204 2497 \r\nQ 953 2441 691 2322 \r\nL 691 4666 \r\nz\r\n\" id=\"DejaVuSans-35\" transform=\"scale(0.015625)\"/>\r\n       </defs>\r\n       <use xlink:href=\"#DejaVuSans-35\"/>\r\n       <use x=\"63.623047\" xlink:href=\"#DejaVuSans-30\"/>\r\n       <use x=\"127.246094\" xlink:href=\"#DejaVuSans-30\"/>\r\n       <use x=\"190.869141\" xlink:href=\"#DejaVuSans-30\"/>\r\n       <use x=\"254.492188\" xlink:href=\"#DejaVuSans-30\"/>\r\n       <use x=\"318.115234\" xlink:href=\"#DejaVuSans-30\"/>\r\n      </g>\r\n     </g>\r\n    </g>\r\n    <g id=\"text_7\">\r\n     <!-- Heat Duty [J] -->\r\n     <g transform=\"translate(178.827344 252.916562)scale(0.1 -0.1)\">\r\n      <defs>\r\n       <path d=\"M 628 4666 \r\nL 1259 4666 \r\nL 1259 2753 \r\nL 3553 2753 \r\nL 3553 4666 \r\nL 4184 4666 \r\nL 4184 0 \r\nL 3553 0 \r\nL 3553 2222 \r\nL 1259 2222 \r\nL 1259 0 \r\nL 628 0 \r\nL 628 4666 \r\nz\r\n\" id=\"DejaVuSans-48\" transform=\"scale(0.015625)\"/>\r\n       <path d=\"M 3597 1894 \r\nL 3597 1613 \r\nL 953 1613 \r\nQ 991 1019 1311 708 \r\nQ 1631 397 2203 397 \r\nQ 2534 397 2845 478 \r\nQ 3156 559 3463 722 \r\nL 3463 178 \r\nQ 3153 47 2828 -22 \r\nQ 2503 -91 2169 -91 \r\nQ 1331 -91 842 396 \r\nQ 353 884 353 1716 \r\nQ 353 2575 817 3079 \r\nQ 1281 3584 2069 3584 \r\nQ 2775 3584 3186 3129 \r\nQ 3597 2675 3597 1894 \r\nz\r\nM 3022 2063 \r\nQ 3016 2534 2758 2815 \r\nQ 2500 3097 2075 3097 \r\nQ 1594 3097 1305 2825 \r\nQ 1016 2553 972 2059 \r\nL 3022 2063 \r\nz\r\n\" id=\"DejaVuSans-65\" transform=\"scale(0.015625)\"/>\r\n       <path d=\"M 2194 1759 \r\nQ 1497 1759 1228 1600 \r\nQ 959 1441 959 1056 \r\nQ 959 750 1161 570 \r\nQ 1363 391 1709 391 \r\nQ 2188 391 2477 730 \r\nQ 2766 1069 2766 1631 \r\nL 2766 1759 \r\nL 2194 1759 \r\nz\r\nM 3341 1997 \r\nL 3341 0 \r\nL 2766 0 \r\nL 2766 531 \r\nQ 2569 213 2275 61 \r\nQ 1981 -91 1556 -91 \r\nQ 1019 -91 701 211 \r\nQ 384 513 384 1019 \r\nQ 384 1609 779 1909 \r\nQ 1175 2209 1959 2209 \r\nL 2766 2209 \r\nL 2766 2266 \r\nQ 2766 2663 2505 2880 \r\nQ 2244 3097 1772 3097 \r\nQ 1472 3097 1187 3025 \r\nQ 903 2953 641 2809 \r\nL 641 3341 \r\nQ 956 3463 1253 3523 \r\nQ 1550 3584 1831 3584 \r\nQ 2591 3584 2966 3190 \r\nQ 3341 2797 3341 1997 \r\nz\r\n\" id=\"DejaVuSans-61\" transform=\"scale(0.015625)\"/>\r\n       <path d=\"M 1172 4494 \r\nL 1172 3500 \r\nL 2356 3500 \r\nL 2356 3053 \r\nL 1172 3053 \r\nL 1172 1153 \r\nQ 1172 725 1289 603 \r\nQ 1406 481 1766 481 \r\nL 2356 481 \r\nL 2356 0 \r\nL 1766 0 \r\nQ 1100 0 847 248 \r\nQ 594 497 594 1153 \r\nL 594 3053 \r\nL 172 3053 \r\nL 172 3500 \r\nL 594 3500 \r\nL 594 4494 \r\nL 1172 4494 \r\nz\r\n\" id=\"DejaVuSans-74\" transform=\"scale(0.015625)\"/>\r\n       <path id=\"DejaVuSans-20\" transform=\"scale(0.015625)\"/>\r\n       <path d=\"M 1259 4147 \r\nL 1259 519 \r\nL 2022 519 \r\nQ 2988 519 3436 956 \r\nQ 3884 1394 3884 2338 \r\nQ 3884 3275 3436 3711 \r\nQ 2988 4147 2022 4147 \r\nL 1259 4147 \r\nz\r\nM 628 4666 \r\nL 1925 4666 \r\nQ 3281 4666 3915 4102 \r\nQ 4550 3538 4550 2338 \r\nQ 4550 1131 3912 565 \r\nQ 3275 0 1925 0 \r\nL 628 0 \r\nL 628 4666 \r\nz\r\n\" id=\"DejaVuSans-44\" transform=\"scale(0.015625)\"/>\r\n       <path d=\"M 544 1381 \r\nL 544 3500 \r\nL 1119 3500 \r\nL 1119 1403 \r\nQ 1119 906 1312 657 \r\nQ 1506 409 1894 409 \r\nQ 2359 409 2629 706 \r\nQ 2900 1003 2900 1516 \r\nL 2900 3500 \r\nL 3475 3500 \r\nL 3475 0 \r\nL 2900 0 \r\nL 2900 538 \r\nQ 2691 219 2414 64 \r\nQ 2138 -91 1772 -91 \r\nQ 1169 -91 856 284 \r\nQ 544 659 544 1381 \r\nz\r\nM 1991 3584 \r\nL 1991 3584 \r\nz\r\n\" id=\"DejaVuSans-75\" transform=\"scale(0.015625)\"/>\r\n       <path d=\"M 2059 -325 \r\nQ 1816 -950 1584 -1140 \r\nQ 1353 -1331 966 -1331 \r\nL 506 -1331 \r\nL 506 -850 \r\nL 844 -850 \r\nQ 1081 -850 1212 -737 \r\nQ 1344 -625 1503 -206 \r\nL 1606 56 \r\nL 191 3500 \r\nL 800 3500 \r\nL 1894 763 \r\nL 2988 3500 \r\nL 3597 3500 \r\nL 2059 -325 \r\nz\r\n\" id=\"DejaVuSans-79\" transform=\"scale(0.015625)\"/>\r\n       <path d=\"M 550 4863 \r\nL 1875 4863 \r\nL 1875 4416 \r\nL 1125 4416 \r\nL 1125 -397 \r\nL 1875 -397 \r\nL 1875 -844 \r\nL 550 -844 \r\nL 550 4863 \r\nz\r\n\" id=\"DejaVuSans-5b\" transform=\"scale(0.015625)\"/>\r\n       <path d=\"M 628 4666 \r\nL 1259 4666 \r\nL 1259 325 \r\nQ 1259 -519 939 -900 \r\nQ 619 -1281 -91 -1281 \r\nL -331 -1281 \r\nL -331 -750 \r\nL -134 -750 \r\nQ 284 -750 456 -515 \r\nQ 628 -281 628 325 \r\nL 628 4666 \r\nz\r\n\" id=\"DejaVuSans-4a\" transform=\"scale(0.015625)\"/>\r\n       <path d=\"M 1947 4863 \r\nL 1947 -844 \r\nL 622 -844 \r\nL 622 -397 \r\nL 1369 -397 \r\nL 1369 4416 \r\nL 622 4416 \r\nL 622 4863 \r\nL 1947 4863 \r\nz\r\n\" id=\"DejaVuSans-5d\" transform=\"scale(0.015625)\"/>\r\n      </defs>\r\n      <use xlink:href=\"#DejaVuSans-48\"/>\r\n      <use x=\"75.195312\" xlink:href=\"#DejaVuSans-65\"/>\r\n      <use x=\"136.71875\" xlink:href=\"#DejaVuSans-61\"/>\r\n      <use x=\"197.998047\" xlink:href=\"#DejaVuSans-74\"/>\r\n      <use x=\"237.207031\" xlink:href=\"#DejaVuSans-20\"/>\r\n      <use x=\"268.994141\" xlink:href=\"#DejaVuSans-44\"/>\r\n      <use x=\"345.996094\" xlink:href=\"#DejaVuSans-75\"/>\r\n      <use x=\"409.375\" xlink:href=\"#DejaVuSans-74\"/>\r\n      <use x=\"448.583984\" xlink:href=\"#DejaVuSans-79\"/>\r\n      <use x=\"507.763672\" xlink:href=\"#DejaVuSans-20\"/>\r\n      <use x=\"539.550781\" xlink:href=\"#DejaVuSans-5b\"/>\r\n      <use x=\"578.564453\" xlink:href=\"#DejaVuSans-4a\"/>\r\n      <use x=\"608.056641\" xlink:href=\"#DejaVuSans-5d\"/>\r\n     </g>\r\n    </g>\r\n   </g>\r\n   <g id=\"matplotlib.axis_2\">\r\n    <g id=\"ytick_1\">\r\n     <g id=\"line2d_13\">\r\n      <path clip-path=\"url(#pd2d6cdaaad)\" d=\"M 43.78125 193.521406 \r\nL 378.58125 193.521406 \r\n\" style=\"fill:none;stroke:#b0b0b0;stroke-linecap:square;stroke-width:0.8;\"/>\r\n     </g>\r\n     <g id=\"line2d_14\">\r\n      <defs>\r\n       <path d=\"M 0 0 \r\nL -3.5 0 \r\n\" id=\"m0fd6a5b19d\" style=\"stroke:#000000;stroke-width:0.8;\"/>\r\n      </defs>\r\n      <g>\r\n       <use style=\"stroke:#000000;stroke-width:0.8;\" x=\"43.78125\" xlink:href=\"#m0fd6a5b19d\" y=\"193.521406\"/>\r\n      </g>\r\n     </g>\r\n     <g id=\"text_8\">\r\n      <!-- 0.1 -->\r\n      <g transform=\"translate(20.878125 197.320625)scale(0.1 -0.1)\">\r\n       <defs>\r\n        <path d=\"M 684 794 \r\nL 1344 794 \r\nL 1344 0 \r\nL 684 0 \r\nL 684 794 \r\nz\r\n\" id=\"DejaVuSans-2e\" transform=\"scale(0.015625)\"/>\r\n       </defs>\r\n       <use xlink:href=\"#DejaVuSans-30\"/>\r\n       <use x=\"63.623047\" xlink:href=\"#DejaVuSans-2e\"/>\r\n       <use x=\"95.410156\" xlink:href=\"#DejaVuSans-31\"/>\r\n      </g>\r\n     </g>\r\n    </g>\r\n    <g id=\"ytick_2\">\r\n     <g id=\"line2d_15\">\r\n      <path clip-path=\"url(#pd2d6cdaaad)\" d=\"M 43.78125 149.411964 \r\nL 378.58125 149.411964 \r\n\" style=\"fill:none;stroke:#b0b0b0;stroke-linecap:square;stroke-width:0.8;\"/>\r\n     </g>\r\n     <g id=\"line2d_16\">\r\n      <g>\r\n       <use style=\"stroke:#000000;stroke-width:0.8;\" x=\"43.78125\" xlink:href=\"#m0fd6a5b19d\" y=\"149.411964\"/>\r\n      </g>\r\n     </g>\r\n     <g id=\"text_9\">\r\n      <!-- 0.2 -->\r\n      <g transform=\"translate(20.878125 153.211182)scale(0.1 -0.1)\">\r\n       <use xlink:href=\"#DejaVuSans-30\"/>\r\n       <use x=\"63.623047\" xlink:href=\"#DejaVuSans-2e\"/>\r\n       <use x=\"95.410156\" xlink:href=\"#DejaVuSans-32\"/>\r\n      </g>\r\n     </g>\r\n    </g>\r\n    <g id=\"ytick_3\">\r\n     <g id=\"line2d_17\">\r\n      <path clip-path=\"url(#pd2d6cdaaad)\" d=\"M 43.78125 105.302521 \r\nL 378.58125 105.302521 \r\n\" style=\"fill:none;stroke:#b0b0b0;stroke-linecap:square;stroke-width:0.8;\"/>\r\n     </g>\r\n     <g id=\"line2d_18\">\r\n      <g>\r\n       <use style=\"stroke:#000000;stroke-width:0.8;\" x=\"43.78125\" xlink:href=\"#m0fd6a5b19d\" y=\"105.302521\"/>\r\n      </g>\r\n     </g>\r\n     <g id=\"text_10\">\r\n      <!-- 0.3 -->\r\n      <g transform=\"translate(20.878125 109.10174)scale(0.1 -0.1)\">\r\n       <use xlink:href=\"#DejaVuSans-30\"/>\r\n       <use x=\"63.623047\" xlink:href=\"#DejaVuSans-2e\"/>\r\n       <use x=\"95.410156\" xlink:href=\"#DejaVuSans-33\"/>\r\n      </g>\r\n     </g>\r\n    </g>\r\n    <g id=\"ytick_4\">\r\n     <g id=\"line2d_19\">\r\n      <path clip-path=\"url(#pd2d6cdaaad)\" d=\"M 43.78125 61.193079 \r\nL 378.58125 61.193079 \r\n\" style=\"fill:none;stroke:#b0b0b0;stroke-linecap:square;stroke-width:0.8;\"/>\r\n     </g>\r\n     <g id=\"line2d_20\">\r\n      <g>\r\n       <use style=\"stroke:#000000;stroke-width:0.8;\" x=\"43.78125\" xlink:href=\"#m0fd6a5b19d\" y=\"61.193079\"/>\r\n      </g>\r\n     </g>\r\n     <g id=\"text_11\">\r\n      <!-- 0.4 -->\r\n      <g transform=\"translate(20.878125 64.992298)scale(0.1 -0.1)\">\r\n       <use xlink:href=\"#DejaVuSans-30\"/>\r\n       <use x=\"63.623047\" xlink:href=\"#DejaVuSans-2e\"/>\r\n       <use x=\"95.410156\" xlink:href=\"#DejaVuSans-34\"/>\r\n      </g>\r\n     </g>\r\n    </g>\r\n    <g id=\"ytick_5\">\r\n     <g id=\"line2d_21\">\r\n      <path clip-path=\"url(#pd2d6cdaaad)\" d=\"M 43.78125 17.083636 \r\nL 378.58125 17.083636 \r\n\" style=\"fill:none;stroke:#b0b0b0;stroke-linecap:square;stroke-width:0.8;\"/>\r\n     </g>\r\n     <g id=\"line2d_22\">\r\n      <g>\r\n       <use style=\"stroke:#000000;stroke-width:0.8;\" x=\"43.78125\" xlink:href=\"#m0fd6a5b19d\" y=\"17.083636\"/>\r\n      </g>\r\n     </g>\r\n     <g id=\"text_12\">\r\n      <!-- 0.5 -->\r\n      <g transform=\"translate(20.878125 20.882855)scale(0.1 -0.1)\">\r\n       <use xlink:href=\"#DejaVuSans-30\"/>\r\n       <use x=\"63.623047\" xlink:href=\"#DejaVuSans-2e\"/>\r\n       <use x=\"95.410156\" xlink:href=\"#DejaVuSans-35\"/>\r\n      </g>\r\n     </g>\r\n    </g>\r\n    <g id=\"text_13\">\r\n     <!-- Purity [-] -->\r\n     <g transform=\"translate(14.798438 137.674687)rotate(-90)scale(0.1 -0.1)\">\r\n      <defs>\r\n       <path d=\"M 1259 4147 \r\nL 1259 2394 \r\nL 2053 2394 \r\nQ 2494 2394 2734 2622 \r\nQ 2975 2850 2975 3272 \r\nQ 2975 3691 2734 3919 \r\nQ 2494 4147 2053 4147 \r\nL 1259 4147 \r\nz\r\nM 628 4666 \r\nL 2053 4666 \r\nQ 2838 4666 3239 4311 \r\nQ 3641 3956 3641 3272 \r\nQ 3641 2581 3239 2228 \r\nQ 2838 1875 2053 1875 \r\nL 1259 1875 \r\nL 1259 0 \r\nL 628 0 \r\nL 628 4666 \r\nz\r\n\" id=\"DejaVuSans-50\" transform=\"scale(0.015625)\"/>\r\n       <path d=\"M 2631 2963 \r\nQ 2534 3019 2420 3045 \r\nQ 2306 3072 2169 3072 \r\nQ 1681 3072 1420 2755 \r\nQ 1159 2438 1159 1844 \r\nL 1159 0 \r\nL 581 0 \r\nL 581 3500 \r\nL 1159 3500 \r\nL 1159 2956 \r\nQ 1341 3275 1631 3429 \r\nQ 1922 3584 2338 3584 \r\nQ 2397 3584 2469 3576 \r\nQ 2541 3569 2628 3553 \r\nL 2631 2963 \r\nz\r\n\" id=\"DejaVuSans-72\" transform=\"scale(0.015625)\"/>\r\n       <path d=\"M 603 3500 \r\nL 1178 3500 \r\nL 1178 0 \r\nL 603 0 \r\nL 603 3500 \r\nz\r\nM 603 4863 \r\nL 1178 4863 \r\nL 1178 4134 \r\nL 603 4134 \r\nL 603 4863 \r\nz\r\n\" id=\"DejaVuSans-69\" transform=\"scale(0.015625)\"/>\r\n       <path d=\"M 313 2009 \r\nL 1997 2009 \r\nL 1997 1497 \r\nL 313 1497 \r\nL 313 2009 \r\nz\r\n\" id=\"DejaVuSans-2d\" transform=\"scale(0.015625)\"/>\r\n      </defs>\r\n      <use xlink:href=\"#DejaVuSans-50\"/>\r\n      <use x=\"58.552734\" xlink:href=\"#DejaVuSans-75\"/>\r\n      <use x=\"121.931641\" xlink:href=\"#DejaVuSans-72\"/>\r\n      <use x=\"163.044922\" xlink:href=\"#DejaVuSans-69\"/>\r\n      <use x=\"190.828125\" xlink:href=\"#DejaVuSans-74\"/>\r\n      <use x=\"230.037109\" xlink:href=\"#DejaVuSans-79\"/>\r\n      <use x=\"289.216797\" xlink:href=\"#DejaVuSans-20\"/>\r\n      <use x=\"321.003906\" xlink:href=\"#DejaVuSans-5b\"/>\r\n      <use x=\"360.017578\" xlink:href=\"#DejaVuSans-2d\"/>\r\n      <use x=\"396.101562\" xlink:href=\"#DejaVuSans-5d\"/>\r\n     </g>\r\n    </g>\r\n   </g>\r\n   <g id=\"line2d_23\">\r\n    <path clip-path=\"url(#pd2d6cdaaad)\" d=\"M 58.999432 17.083636 \r\nL 62.073812 199.565271 \r\nL 65.148192 199.77427 \r\nL 68.222572 199.982065 \r\nL 71.296952 200.188665 \r\nL 74.371333 200.394071 \r\nL 77.445713 200.598283 \r\nL 80.520093 200.801302 \r\nL 83.594473 201.003126 \r\nL 86.668853 201.203757 \r\nL 89.743233 201.403196 \r\nL 92.817614 201.601442 \r\nL 95.891994 201.798496 \r\nL 98.966374 201.99436 \r\nL 102.040754 202.189034 \r\nL 105.115134 202.382521 \r\nL 108.189514 202.57482 \r\nL 111.263895 202.765933 \r\nL 114.338275 202.955863 \r\nL 117.412655 203.144611 \r\nL 120.487035 203.332179 \r\nL 123.561415 203.518569 \r\nL 126.635795 203.703783 \r\nL 129.710176 203.887823 \r\nL 132.784556 204.070692 \r\nL 135.858936 204.252392 \r\nL 138.933316 204.432927 \r\nL 142.007696 204.612298 \r\nL 145.082076 204.790509 \r\nL 148.156457 204.967562 \r\nL 151.230837 205.143462 \r\nL 154.305217 205.318211 \r\nL 157.379597 205.491812 \r\nL 160.453977 205.664269 \r\nL 163.528357 205.835586 \r\nL 166.602738 206.005766 \r\nL 169.677118 206.174813 \r\nL 172.751498 206.342731 \r\nL 175.825878 206.509523 \r\nL 178.900258 206.675195 \r\nL 181.974638 206.83975 \r\nL 185.049019 207.003192 \r\nL 188.123399 207.165526 \r\nL 191.197779 207.326756 \r\nL 194.272159 207.486887 \r\nL 197.346539 207.645923 \r\nL 200.420919 207.803868 \r\nL 203.4953 207.960729 \r\nL 206.56968 208.116508 \r\nL 209.64406 208.271212 \r\nL 212.71844 208.424846 \r\nL 215.79282 208.577413 \r\nL 218.8672 208.72892 \r\nL 221.941581 208.879371 \r\nL 225.015961 209.028772 \r\nL 228.090341 209.177128 \r\nL 231.164721 209.324444 \r\nL 234.239101 209.470725 \r\nL 237.313481 209.615978 \r\nL 240.387862 209.760207 \r\nL 243.462242 209.903418 \r\nL 246.536622 210.045616 \r\nL 249.611002 210.186808 \r\nL 252.685382 210.326998 \r\nL 255.759762 210.466192 \r\nL 258.834143 210.604397 \r\nL 261.908523 210.741617 \r\nL 264.982903 210.877858 \r\nL 268.057283 211.013128 \r\nL 271.131663 211.14743 \r\nL 274.206043 211.280771 \r\nL 277.280424 211.413157 \r\nL 280.354804 211.544593 \r\nL 283.429184 211.675087 \r\nL 286.503564 211.804642 \r\nL 289.577944 211.933267 \r\nL 292.652324 212.060965 \r\nL 295.726705 212.187745 \r\nL 298.801085 212.31361 \r\nL 301.875465 212.438568 \r\nL 304.949845 212.562624 \r\nL 308.024225 212.685785 \r\nL 311.098605 212.808056 \r\nL 314.172986 212.929443 \r\nL 317.247366 213.049953 \r\nL 320.321746 213.169591 \r\nL 323.396126 213.288363 \r\nL 326.470506 213.406276 \r\nL 329.544886 213.523336 \r\nL 332.619267 213.639547 \r\nL 335.693647 213.754918 \r\nL 338.768027 213.869452 \r\nL 341.842407 213.983157 \r\nL 344.916787 214.096039 \r\nL 347.991167 214.208102 \r\nL 351.065548 214.319354 \r\nL 354.139928 214.429801 \r\nL 357.214308 214.539447 \r\nL 360.288688 214.648299 \r\nL 363.363068 214.756364 \r\n\" style=\"fill:none;stroke:#1f77b4;stroke-linecap:square;stroke-width:1.5;\"/>\r\n   </g>\r\n   <g id=\"patch_3\">\r\n    <path d=\"M 43.78125 224.64 \r\nL 43.78125 7.2 \r\n\" style=\"fill:none;stroke:#000000;stroke-linecap:square;stroke-linejoin:miter;stroke-width:0.8;\"/>\r\n   </g>\r\n   <g id=\"patch_4\">\r\n    <path d=\"M 378.58125 224.64 \r\nL 378.58125 7.2 \r\n\" style=\"fill:none;stroke:#000000;stroke-linecap:square;stroke-linejoin:miter;stroke-width:0.8;\"/>\r\n   </g>\r\n   <g id=\"patch_5\">\r\n    <path d=\"M 43.78125 224.64 \r\nL 378.58125 224.64 \r\n\" style=\"fill:none;stroke:#000000;stroke-linecap:square;stroke-linejoin:miter;stroke-width:0.8;\"/>\r\n   </g>\r\n   <g id=\"patch_6\">\r\n    <path d=\"M 43.78125 7.2 \r\nL 378.58125 7.2 \r\n\" style=\"fill:none;stroke:#000000;stroke-linecap:square;stroke-linejoin:miter;stroke-width:0.8;\"/>\r\n   </g>\r\n  </g>\r\n </g>\r\n <defs>\r\n  <clipPath id=\"pd2d6cdaaad\">\r\n   <rect height=\"217.44\" width=\"334.8\" x=\"43.78125\" y=\"7.2\"/>\r\n  </clipPath>\r\n </defs>\r\n</svg>\r\n",
      "image/png": "[encoded data removed]"
     },
     "metadata": {
      "needs_background": "light"
     }
    }
   ],
   "source": [
    "plt.figure(\"Purity wrt heat duty\")\n",
    "plt.plot(Q, P)\n",
    "plt.grid()\n",
    "plt.xlabel(\"Heat Duty [J]\")\n",
    "plt.ylabel(\"Purity [-]\")\n",
    "plt.show()"
   ]
  },
  {
   "cell_type": "code",
   "execution_count": 54,
   "metadata": {},
   "outputs": [
    {
     "output_type": "stream",
     "name": "stdout",
     "text": [
      "\n====================================================================================\nUnit : fs.flash2                                                           Time: 0.0\n------------------------------------------------------------------------------------\n    Unit Performance\n\n    Variables: \n\n    Key             : Value      : Fixed : Bounds\n          Heat Duty : 1.0000e+05 :  True : (None, None)\n    Pressure Change :     0.0000 :  True : (None, None)\n\n------------------------------------------------------------------------------------\n    Stream Table\n                                              Inlet    Vapor Outlet  Liquid Outlet\n    flow_mol_phase_comp ('Liq', 'ethanol')   0.039812   1.0000e-08      0.031994  \n    flow_mol_phase_comp ('Liq', 'water')      0.91816   1.0000e-08       0.82562  \n    flow_mol_phase_comp ('Liq', 'CO2')     9.5797e-07   1.0000e-08    8.5762e-07  \n    flow_mol_phase_comp ('Vap', 'ethanol') 1.0000e-08    0.0078182    1.0000e-08  \n    flow_mol_phase_comp ('Vap', 'water')   1.0000e-08     0.092531    1.0000e-08  \n    flow_mol_phase_comp ('Vap', 'CO2')     1.0000e-08   1.1035e-07    1.0000e-08  \n    temperature                                304.79       371.28        371.28  \n    pressure                               1.0132e+05   1.0132e+05    1.0132e+05  \n====================================================================================\n"
     ]
    }
   ],
   "source": [
    "m.fs.flash2.report()"
   ]
  },
  {
   "cell_type": "code",
   "execution_count": 46,
   "metadata": {},
   "outputs": [
    {
     "output_type": "execute_result",
     "data": {
      "text/plain": [
       "371.6750859898981"
      ]
     },
     "metadata": {},
     "execution_count": 46
    }
   ],
   "source": [
    "value(m.fs.flash2.vap_outlet.temperature[0])"
   ]
  },
  {
   "cell_type": "code",
   "execution_count": 47,
   "metadata": {},
   "outputs": [],
   "source": [
    "        vap_etoh = value(m.fs.flash2.vap_outlet.flow_mol_phase_comp[0,\"Vap\",\"ethanol\"])\n",
    "        vap_water = value(m.fs.flash2.vap_outlet.flow_mol_phase_comp[0,\"Vap\",\"water\"])\n",
    "        purity = vap_etoh / (vap_etoh + vap_water)"
   ]
  },
  {
   "cell_type": "code",
   "execution_count": 48,
   "metadata": {},
   "outputs": [
    {
     "output_type": "execute_result",
     "data": {
      "text/plain": [
       "0.5664978603508012"
      ]
     },
     "metadata": {},
     "execution_count": 48
    }
   ],
   "source": [
    "vap_water"
   ]
  },
  {
   "cell_type": "code",
   "execution_count": 49,
   "metadata": {},
   "outputs": [
    {
     "output_type": "execute_result",
     "data": {
      "text/plain": [
       "0.03098452619712533"
      ]
     },
     "metadata": {},
     "execution_count": 49
    }
   ],
   "source": [
    "vap_etoh"
   ]
  },
  {
   "cell_type": "code",
   "execution_count": 50,
   "metadata": {},
   "outputs": [
    {
     "output_type": "stream",
     "name": "stdout",
     "text": [
      "\n====================================================================================\nUnit : fs.flash                                                            Time: 0.0\n------------------------------------------------------------------------------------\n    Unit Performance\n\n    Variables: \n\n    Key             : Value  : Fixed : Bounds\n          Heat Duty : 0.0000 :  True : (None, None)\n    Pressure Change : 0.0000 :  True : (None, None)\n\n------------------------------------------------------------------------------------\n    Stream Table\n                                              Inlet    Vapor Outlet  Liquid Outlet\n    flow_mol_phase_comp ('Liq', 'ethanol')   0.040000   1.0000e-08      0.039812  \n    flow_mol_phase_comp ('Liq', 'water')      0.92000   1.0000e-08       0.91816  \n    flow_mol_phase_comp ('Liq', 'CO2')     1.0000e-05   1.0000e-08    9.5797e-07  \n    flow_mol_phase_comp ('Vap', 'ethanol') 1.0000e-05   0.00019773    1.0000e-08  \n    flow_mol_phase_comp ('Vap', 'water')   1.0000e-05    0.0018547    1.0000e-08  \n    flow_mol_phase_comp ('Vap', 'CO2')       0.040000     0.040009    1.0000e-08  \n    temperature                                305.00       304.79        304.79  \n    pressure                               1.0132e+05   1.0132e+05    1.0132e+05  \n====================================================================================\n"
     ]
    }
   ],
   "source": [
    "m.fs.flash.report()"
   ]
  },
  {
   "source": [
    "## LCA with Brightway2"
   ],
   "cell_type": "markdown",
   "metadata": {}
  },
  {
   "cell_type": "code",
   "execution_count": 3,
   "metadata": {},
   "outputs": [],
   "source": [
    "import LCA_calc as LCA"
   ]
  },
  {
   "cell_type": "code",
   "execution_count": null,
   "metadata": {},
   "outputs": [],
   "source": [
    "# Heat duty & sugar input of flashes\n",
    "heat_duty = value(m.fs.flash2.heat_duty[0]) # Unit: J\n",
    "sugar_input = 1.9   # 1 kg glucose input per 1 kg Ethanol output"
   ]
  },
  {
   "cell_type": "code",
   "execution_count": 4,
   "metadata": {},
   "outputs": [
    {
     "output_type": "stream",
     "name": "stdout",
     "text": [
      "LCIA data successfully imported.\n"
     ]
    },
    {
     "output_type": "execute_result",
     "data": {
      "text/plain": [
       "0.000483100758016325"
      ]
     },
     "metadata": {},
     "execution_count": 4
    }
   ],
   "source": [
    "LCA.LCIA(\"heat_MJ\", \"CH\", \"Human Toxicity\")"
   ]
  },
  {
   "cell_type": "code",
   "execution_count": null,
   "metadata": {},
   "outputs": [],
   "source": []
  }
 ]
}