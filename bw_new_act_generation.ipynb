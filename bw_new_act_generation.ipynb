{
 "metadata": {
  "language_info": {
   "codemirror_mode": {
    "name": "ipython",
    "version": 3
   },
   "file_extension": ".py",
   "mimetype": "text/x-python",
   "name": "python",
   "nbconvert_exporter": "python",
   "pygments_lexer": "ipython3",
   "version": "3.9.2"
  },
  "orig_nbformat": 2,
  "kernelspec": {
   "name": "python392jvsc74a57bd03719c13da9576c2cffa2fd9a72fab3b06960a8ecb401a0d1b6eb9060e7fa82c8",
   "display_name": "Python 3.9.2 64-bit ('sa': conda)"
  }
 },
 "nbformat": 4,
 "nbformat_minor": 2,
 "cells": [
  {
   "source": [
    "## Manual database creation"
   ],
   "cell_type": "markdown",
   "metadata": {}
  },
  {
   "cell_type": "code",
   "execution_count": 1,
   "metadata": {},
   "outputs": [],
   "source": [
    "import os\n",
    "import pandas as pd\n",
    "import numpy as np\n",
    "import brightway2 as bw"
   ]
  },
  {
   "cell_type": "code",
   "execution_count": 2,
   "metadata": {},
   "outputs": [
    {
     "output_type": "execute_result",
     "data": {
      "text/plain": [
       "Databases dictionary with 3 object(s):\n",
       "\tIDAES\n",
       "\tbiosphere3\n",
       "\tecoinvent 3.7.1_apos_ecoSpold02"
      ]
     },
     "metadata": {},
     "execution_count": 2
    }
   ],
   "source": [
    "bw.projects.set_current(\"bw_idaes\")\n",
    "bw.databases"
   ]
  },
  {
   "cell_type": "code",
   "execution_count": 3,
   "metadata": {},
   "outputs": [],
   "source": [
    "eidb = 'ecoinvent 3.7.1_apos_ecoSpold02'\n",
    "bio = 'biosphere3'"
   ]
  },
  {
   "cell_type": "code",
   "execution_count": 4,
   "metadata": {},
   "outputs": [
    {
     "output_type": "stream",
     "name": "stdout",
     "text": [
      "'Carbon dioxide, from soil or biomass stock' (kilogram, None, ('air', 'non-urban air or from high stacks')) ('biosphere3', '78eb1859-abd9-44c6-9ce3-f3b5b33d619c')\n'Carbon dioxide, non-fossil' (kilogram, None, ('air', 'low population density, long-term')) ('biosphere3', '28e1e2d6-97ad-4dfd-932a-9edad36dcab9')\n'Carbon dioxide, fossil' (kilogram, None, ('air', 'lower stratosphere + upper troposphere')) ('biosphere3', '16eeda8a-1ea2-408e-ab37-2648495058dd')\n'Carbon dioxide, in air' (kilogram, None, ('natural resource', 'in air')) ('biosphere3', 'cc6a1abb-b123-4ca6-8f16-38209df609be')\n'Carbon dioxide, to soil or biomass stock' (kilogram, None, ('soil',)) ('biosphere3', '375bc95e-6596-4aa1-9716-80ff51b9da77')\n'Carbon dioxide, from soil or biomass stock' (kilogram, None, ('air', 'urban air close to ground')) ('biosphere3', 'e8787b5e-d927-446d-81a9-f56977bbfeb4')\n'Carbon dioxide, non-fossil, from calcination' (kilogram, None, ('air',)) ('biosphere3', '6900ccc1-4b7a-422a-9fad-7c31eb1fc46f')\n'Carbon dioxide, from soil or biomass stock' (kilogram, None, ('air',)) ('biosphere3', 'e4e9febc-07c1-403d-8d3a-6707bb4d96e6')\n'Carbon dioxide, non-fossil' (kilogram, None, ('air', 'non-urban air or from high stacks')) ('biosphere3', 'd6235194-e4e6-4548-bfa3-ac095131aef4')\n'Carbon dioxide, fossil' (kilogram, None, ('air', 'low population density, long-term')) ('biosphere3', 'e259263c-d1f1-449f-bb9b-73c6d0a32a00')\n'Carbon dioxide, to soil or biomass stock' (kilogram, None, ('soil', 'industrial')) ('biosphere3', '60d424f7-d5a9-4549-9540-da06684bc3bb')\n'Carbon dioxide, fossil' (kilogram, None, ('air',)) ('biosphere3', '349b29d1-3e58-4c66-98b9-9d1a076efd2e')\n'Carbon dioxide, non-fossil' (kilogram, None, ('air', 'urban air close to ground')) ('biosphere3', '73ed05cc-9727-4abf-9516-4b5c0fe54a16')\n'Carbon dioxide, from soil or biomass stock' (kilogram, None, ('air', 'lower stratosphere + upper troposphere')) ('biosphere3', '6d89125e-e9b7-4d7e-a1fc-ada45dbd8815')\n'Carbon dioxide, non-fossil' (kilogram, None, ('air', 'lower stratosphere + upper troposphere')) ('biosphere3', '4e1f0bb0-2703-4303-bf86-972d810612cf')\n'Carbon dioxide, to soil or biomass stock' (kilogram, None, ('soil', 'forestry')) ('biosphere3', '8ae4d8bb-3e4b-4825-8325-94696d7a64fd')\n'Carbon dioxide, fossil' (kilogram, None, ('air', 'urban air close to ground')) ('biosphere3', 'f9749677-9c9f-4678-ab55-c607dfdc2cb9')\n'Carbon dioxide, from soil or biomass stock' (kilogram, None, ('air', 'indoor')) ('biosphere3', '5188df39-2bb8-4826-b469-fa9f86bacc09')\n'Carbon dioxide, to soil or biomass stock' (kilogram, None, ('soil', 'agricultural')) ('biosphere3', '259cf8d6-6ea8-4ccf-84b7-23c930a5b2b3')\n'Carbon dioxide, from soil or biomass stock' (kilogram, None, ('air', 'low population density, long-term')) ('biosphere3', 'e1c597cc-14cb-4ebb-af07-7a93a5b77d34')\n'Carbon dioxide, non-fossil' (kilogram, None, ('air',)) ('biosphere3', 'eba59fd6-f37e-41dc-9ca3-c7ea22d602c7')\n'Carbon dioxide, fossil' (kilogram, None, ('air', 'non-urban air or from high stacks')) ('biosphere3', 'aa7cac3a-3625-41d4-bc54-33e2cf11ec46')\n"
     ]
    }
   ],
   "source": [
    "# Search for the elementary flow of interest\n",
    "\n",
    "search_name = 'Carbon dioxide'  # Mind capital letters\n",
    "\n",
    "for flow in bw.Database(\"biosphere3\"):\n",
    "    if search_name in flow['name'] :\n",
    "        print(flow, flow.key)"
   ]
  },
  {
   "cell_type": "code",
   "execution_count": 5,
   "metadata": {},
   "outputs": [],
   "source": [
    "# Designate the elementary flow of interest\n",
    "CO2 = ('biosphere3', '349b29d1-3e58-4c66-98b9-9d1a076efd2e')\n",
    "\n",
    "# If you have any more\n",
    "#CH4 = ('biosphere3', '0795345f-c7ae-410c-ad25-1845784c75f5')"
   ]
  },
  {
   "cell_type": "code",
   "execution_count": 6,
   "metadata": {},
   "outputs": [],
   "source": [
    "# Create new database for IDAES integration\n",
    "db1 = bw.Database('IDAES')\n",
    "db1.register()"
   ]
  },
  {
   "cell_type": "code",
   "execution_count": 7,
   "metadata": {},
   "outputs": [
    {
     "output_type": "stream",
     "name": "stderr",
     "text": [
      "Writing activities to SQLite3 database:\n",
      "0% [#] 100% | ETA: 00:00:00\n",
      "Total time elapsed: 00:00:00\n",
      "Title: Writing activities to SQLite3 database:\n",
      "  Started: 05/07/2021 13:04:06\n",
      "  Finished: 05/07/2021 13:04:06\n",
      "  Total time elapsed: 00:00:00\n",
      "  CPU %: 0.00\n",
      "  Memory %: 2.17\n"
     ]
    }
   ],
   "source": [
    "# Add an activity (Recommended: only one flow)\n",
    "# Alternative 1\n",
    "db1.write({('IDAES', 'Flash'):{\n",
    "    'name': 'Flash',\n",
    "    'exchanges': [\n",
    "        {'amount': 0.04401,  # 0.04401 kg-CO2 / 1mol CO2\n",
    "        'input':CO2,\n",
    "        'type': 'biosphere'\n",
    "        }\n",
    "    ],\n",
    "    'unit': 'kg',\n",
    "    'location': 'CH',\n",
    "    'categories': ('separation', 'idaes', 'unit')\n",
    "}})"
   ]
  },
  {
   "cell_type": "code",
   "execution_count": 13,
   "metadata": {},
   "outputs": [
    {
     "output_type": "execute_result",
     "data": {
      "text/plain": [
       "Databases dictionary with 3 object(s):\n",
       "\tIDAES\n",
       "\tbiosphere3\n",
       "\tecoinvent 3.7.1_apos_ecoSpold02"
      ]
     },
     "metadata": {},
     "execution_count": 13
    }
   ],
   "source": [
    "# Check databases\n",
    "bw.databases"
   ]
  },
  {
   "cell_type": "code",
   "execution_count": 14,
   "metadata": {},
   "outputs": [],
   "source": [
    "idaes = bw.Database('IDAES')"
   ]
  },
  {
   "cell_type": "code",
   "execution_count": 15,
   "metadata": {},
   "outputs": [
    {
     "output_type": "execute_result",
     "data": {
      "text/plain": [
       "'Flash' (kg, CH, ('separation', 'idaes', 'unit'))"
      ]
     },
     "metadata": {},
     "execution_count": 15
    }
   ],
   "source": [
    "idaes.random()"
   ]
  },
  {
   "cell_type": "code",
   "execution_count": 16,
   "metadata": {},
   "outputs": [],
   "source": [
    "# Perform LCA\n",
    "process = idaes.random()\n",
    "CC_method = [m for m in bw.methods if 'IPCC 2013' in str(m) and  'climate change' in str(m) and 'GWP 100a' in str(m) and not 'no LT' in str(m)][0]\n",
    "\n",
    "lca = bw.LCA({process:1}, CC_method)\n",
    "lca.lci()\n",
    "lca.lcia()"
   ]
  },
  {
   "cell_type": "code",
   "execution_count": 17,
   "metadata": {},
   "outputs": [
    {
     "output_type": "execute_result",
     "data": {
      "text/plain": [
       "0.04400999844074249"
      ]
     },
     "metadata": {},
     "execution_count": 17
    }
   ],
   "source": [
    "lca.score"
   ]
  },
  {
   "cell_type": "code",
   "execution_count": 12,
   "metadata": {},
   "outputs": [],
   "source": [
    "# To delete database created \n",
    "del bw.databases['database_name_here']"
   ]
  },
  {
   "cell_type": "code",
   "execution_count": null,
   "metadata": {},
   "outputs": [],
   "source": []
  }
 ]
}